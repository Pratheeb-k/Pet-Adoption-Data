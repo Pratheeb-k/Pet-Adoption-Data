{
 "cells": [
  {
   "cell_type": "markdown",
   "id": "28758c7e",
   "metadata": {
    "papermill": {
     "duration": 0.018884,
     "end_time": "2024-07-03T14:35:20.033906",
     "exception": false,
     "start_time": "2024-07-03T14:35:20.015022",
     "status": "completed"
    },
    "tags": []
   },
   "source": [
    "# Predict Pet Adoption Status Dataset – Creating a Predictive Model \n",
    "\n",
    "The Pet Adoption Dataset provides a comprehensive look into various factors that can influence the likelihood of a pet being adopted from a shelter. This dataset includes detailed information about pets available for adoption, covering various characteristics and attributes.\n",
    "\n",
    "## Features\n",
    "|Column|Description|\n",
    "|-------|------------|\n",
    "|PetID|Unique identifier for each pet|\n",
    "|PetType|Type of pet (e.g., Dog, Cat, Bird, Rabbit)|\n",
    "|Breed|Specific breed of the pet|\n",
    "|AgeMonths| Age of the pet in months|\n",
    "|Color| Color of the pet|\n",
    "|Size| Size category of the pet (Small, Medium, Large)|\n",
    "|WeightKg| Weight of the pet in kilograms|\n",
    "|Vaccinated| Vaccination status of the pet (0 - Not vaccinated, 1 - Vaccinated)|\n",
    "|HealthCondition| Health condition of the pet (0 - Healthy, 1 - Medical condition)|\n",
    "|TimeInShelterDays| Duration the pet has been in the shelter (days)|\n",
    "|AdoptionFee| Adoption fee charged for the pet (in dollars)|\n",
    "|PreviousOwner| Whether the pet had a previous owner (0 - No, 1 - Yes)|\n",
    "|AdoptionLikelihood| Likelihood of the pet being adopted (0 - Unlikely, 1 - Likely)|"
   ]
  },
  {
   "cell_type": "markdown",
   "id": "b18a2f37",
   "metadata": {
    "papermill": {
     "duration": 0.01619,
     "end_time": "2024-07-03T14:35:20.067253",
     "exception": false,
     "start_time": "2024-07-03T14:35:20.051063",
     "status": "completed"
    },
    "tags": []
   },
   "source": [
    "# 1. Libraries and data "
   ]
  },
  {
   "cell_type": "code",
   "execution_count": 1,
   "id": "ed7eb58d",
   "metadata": {
    "execution": {
     "iopub.execute_input": "2024-07-03T14:35:20.102958Z",
     "iopub.status.busy": "2024-07-03T14:35:20.101941Z",
     "iopub.status.idle": "2024-07-03T14:35:40.653457Z",
     "shell.execute_reply": "2024-07-03T14:35:40.652182Z"
    },
    "papermill": {
     "duration": 20.571687,
     "end_time": "2024-07-03T14:35:40.656041",
     "exception": false,
     "start_time": "2024-07-03T14:35:20.084354",
     "status": "completed"
    },
    "tags": []
   },
   "outputs": [
    {
     "name": "stdout",
     "output_type": "stream",
     "text": [
      "Collecting feature-engine\r\n",
      "  Downloading feature_engine-1.8.0-py2.py3-none-any.whl.metadata (9.8 kB)\r\n",
      "Requirement already satisfied: numpy>=1.18.2 in /opt/conda/lib/python3.10/site-packages (from feature-engine) (1.26.4)\r\n",
      "Requirement already satisfied: pandas>=2.2.0 in /opt/conda/lib/python3.10/site-packages (from feature-engine) (2.2.2)\r\n",
      "Collecting scikit-learn>=1.4.0 (from feature-engine)\r\n",
      "  Downloading scikit_learn-1.5.1-cp310-cp310-manylinux_2_17_x86_64.manylinux2014_x86_64.whl.metadata (12 kB)\r\n",
      "Requirement already satisfied: scipy>=1.4.1 in /opt/conda/lib/python3.10/site-packages (from feature-engine) (1.11.4)\r\n",
      "Requirement already satisfied: statsmodels>=0.11.1 in /opt/conda/lib/python3.10/site-packages (from feature-engine) (0.14.1)\r\n",
      "Requirement already satisfied: python-dateutil>=2.8.2 in /opt/conda/lib/python3.10/site-packages (from pandas>=2.2.0->feature-engine) (2.9.0.post0)\r\n",
      "Requirement already satisfied: pytz>=2020.1 in /opt/conda/lib/python3.10/site-packages (from pandas>=2.2.0->feature-engine) (2023.3.post1)\r\n",
      "Requirement already satisfied: tzdata>=2022.7 in /opt/conda/lib/python3.10/site-packages (from pandas>=2.2.0->feature-engine) (2023.4)\r\n",
      "Requirement already satisfied: joblib>=1.2.0 in /opt/conda/lib/python3.10/site-packages (from scikit-learn>=1.4.0->feature-engine) (1.4.2)\r\n",
      "Requirement already satisfied: threadpoolctl>=3.1.0 in /opt/conda/lib/python3.10/site-packages (from scikit-learn>=1.4.0->feature-engine) (3.2.0)\r\n",
      "Requirement already satisfied: patsy>=0.5.4 in /opt/conda/lib/python3.10/site-packages (from statsmodels>=0.11.1->feature-engine) (0.5.6)\r\n",
      "Requirement already satisfied: packaging>=21.3 in /opt/conda/lib/python3.10/site-packages (from statsmodels>=0.11.1->feature-engine) (21.3)\r\n",
      "Requirement already satisfied: pyparsing!=3.0.5,>=2.0.2 in /opt/conda/lib/python3.10/site-packages (from packaging>=21.3->statsmodels>=0.11.1->feature-engine) (3.1.1)\r\n",
      "Requirement already satisfied: six in /opt/conda/lib/python3.10/site-packages (from patsy>=0.5.4->statsmodels>=0.11.1->feature-engine) (1.16.0)\r\n",
      "Downloading feature_engine-1.8.0-py2.py3-none-any.whl (357 kB)\r\n",
      "\u001b[2K   \u001b[90m━━━━━━━━━━━━━━━━━━━━━━━━━━━━━━━━━━━━━━━━\u001b[0m \u001b[32m357.1/357.1 kB\u001b[0m \u001b[31m5.5 MB/s\u001b[0m eta \u001b[36m0:00:00\u001b[0m\r\n",
      "\u001b[?25hDownloading scikit_learn-1.5.1-cp310-cp310-manylinux_2_17_x86_64.manylinux2014_x86_64.whl (13.4 MB)\r\n",
      "\u001b[2K   \u001b[90m━━━━━━━━━━━━━━━━━━━━━━━━━━━━━━━━━━━━━━━━\u001b[0m \u001b[32m13.4/13.4 MB\u001b[0m \u001b[31m71.6 MB/s\u001b[0m eta \u001b[36m0:00:00\u001b[0m\r\n",
      "\u001b[?25hInstalling collected packages: scikit-learn, feature-engine\r\n",
      "  Attempting uninstall: scikit-learn\r\n",
      "    Found existing installation: scikit-learn 1.2.2\r\n",
      "    Uninstalling scikit-learn-1.2.2:\r\n",
      "      Successfully uninstalled scikit-learn-1.2.2\r\n",
      "\u001b[31mERROR: pip's dependency resolver does not currently take into account all the packages that are installed. This behaviour is the source of the following dependency conflicts.\r\n",
      "spopt 0.6.0 requires shapely>=2.0.1, but you have shapely 1.8.5.post1 which is incompatible.\u001b[0m\u001b[31m\r\n",
      "\u001b[0mSuccessfully installed feature-engine-1.8.0 scikit-learn-1.5.1\r\n",
      "Note: you may need to restart the kernel to use updated packages.\n"
     ]
    }
   ],
   "source": [
    "pip install feature-engine"
   ]
  },
  {
   "cell_type": "code",
   "execution_count": 2,
   "id": "8816b623",
   "metadata": {
    "execution": {
     "iopub.execute_input": "2024-07-03T14:35:40.693934Z",
     "iopub.status.busy": "2024-07-03T14:35:40.693562Z",
     "iopub.status.idle": "2024-07-03T14:35:43.465873Z",
     "shell.execute_reply": "2024-07-03T14:35:43.464723Z"
    },
    "papermill": {
     "duration": 2.794653,
     "end_time": "2024-07-03T14:35:43.469042",
     "exception": false,
     "start_time": "2024-07-03T14:35:40.674389",
     "status": "completed"
    },
    "tags": []
   },
   "outputs": [],
   "source": [
    "# Data Manipulation\n",
    "import pandas as pd\n",
    "import numpy as np\n",
    "\n",
    "# EDA\n",
    "import matplotlib.pyplot as plt\n",
    "import seaborn as sns\n",
    "\n",
    "# Machine Learning \n",
    "from sklearn import metrics\n",
    "from sklearn import model_selection\n",
    "from sklearn import pipeline\n",
    "\n",
    "from sklearn import tree\n",
    "from sklearn import linear_model\n",
    "from sklearn import ensemble\n",
    "\n",
    "# Feature Engineering\n",
    "from feature_engine import imputation\n",
    "from feature_engine import encoding\n",
    "\n",
    "# Notebook Configs\n",
    "import warnings\n",
    "warnings.filterwarnings('ignore')\n",
    "plt.style.use('ggplot')\n",
    "my_palette = sns.color_palette([\"#023E8A\", \"#0077B6\", \"#0096C7\", \"#00B4D8\", \"#48CAE4\", \"#90E0EF\", \"#ADE8F4\", \"#CAF0F8\"])\n",
    "sns.set_palette(my_palette)\n",
    "pd.set_option('display.max_rows', 20)\n",
    "pd.set_option('display.max_columns', 40)"
   ]
  },
  {
   "cell_type": "code",
   "execution_count": 3,
   "id": "70ad0845",
   "metadata": {
    "execution": {
     "iopub.execute_input": "2024-07-03T14:35:43.507427Z",
     "iopub.status.busy": "2024-07-03T14:35:43.506817Z",
     "iopub.status.idle": "2024-07-03T14:35:43.539389Z",
     "shell.execute_reply": "2024-07-03T14:35:43.537961Z"
    },
    "papermill": {
     "duration": 0.054519,
     "end_time": "2024-07-03T14:35:43.542041",
     "exception": false,
     "start_time": "2024-07-03T14:35:43.487522",
     "status": "completed"
    },
    "tags": []
   },
   "outputs": [],
   "source": [
    "df = pd.read_csv(\"/kaggle/input/predict-pet-adoption-status-dataset/pet_adoption_data.csv\")"
   ]
  },
  {
   "cell_type": "markdown",
   "id": "64e68770",
   "metadata": {
    "papermill": {
     "duration": 0.018077,
     "end_time": "2024-07-03T14:35:43.581682",
     "exception": false,
     "start_time": "2024-07-03T14:35:43.563605",
     "status": "completed"
    },
    "tags": []
   },
   "source": [
    "# 2. Data Structure "
   ]
  },
  {
   "cell_type": "code",
   "execution_count": 4,
   "id": "5d4f77a1",
   "metadata": {
    "execution": {
     "iopub.execute_input": "2024-07-03T14:35:43.618379Z",
     "iopub.status.busy": "2024-07-03T14:35:43.617954Z",
     "iopub.status.idle": "2024-07-03T14:35:43.647876Z",
     "shell.execute_reply": "2024-07-03T14:35:43.646694Z"
    },
    "papermill": {
     "duration": 0.051486,
     "end_time": "2024-07-03T14:35:43.650540",
     "exception": false,
     "start_time": "2024-07-03T14:35:43.599054",
     "status": "completed"
    },
    "tags": []
   },
   "outputs": [
    {
     "data": {
      "text/html": [
       "<div>\n",
       "<style scoped>\n",
       "    .dataframe tbody tr th:only-of-type {\n",
       "        vertical-align: middle;\n",
       "    }\n",
       "\n",
       "    .dataframe tbody tr th {\n",
       "        vertical-align: top;\n",
       "    }\n",
       "\n",
       "    .dataframe thead th {\n",
       "        text-align: right;\n",
       "    }\n",
       "</style>\n",
       "<table border=\"1\" class=\"dataframe\">\n",
       "  <thead>\n",
       "    <tr style=\"text-align: right;\">\n",
       "      <th></th>\n",
       "      <th>PetID</th>\n",
       "      <th>PetType</th>\n",
       "      <th>Breed</th>\n",
       "      <th>AgeMonths</th>\n",
       "      <th>Color</th>\n",
       "      <th>Size</th>\n",
       "      <th>WeightKg</th>\n",
       "      <th>Vaccinated</th>\n",
       "      <th>HealthCondition</th>\n",
       "      <th>TimeInShelterDays</th>\n",
       "      <th>AdoptionFee</th>\n",
       "      <th>PreviousOwner</th>\n",
       "      <th>AdoptionLikelihood</th>\n",
       "    </tr>\n",
       "  </thead>\n",
       "  <tbody>\n",
       "    <tr>\n",
       "      <th>0</th>\n",
       "      <td>500</td>\n",
       "      <td>Bird</td>\n",
       "      <td>Parakeet</td>\n",
       "      <td>131</td>\n",
       "      <td>Orange</td>\n",
       "      <td>Large</td>\n",
       "      <td>5.039768</td>\n",
       "      <td>1</td>\n",
       "      <td>0</td>\n",
       "      <td>27</td>\n",
       "      <td>140</td>\n",
       "      <td>0</td>\n",
       "      <td>0</td>\n",
       "    </tr>\n",
       "    <tr>\n",
       "      <th>1</th>\n",
       "      <td>501</td>\n",
       "      <td>Rabbit</td>\n",
       "      <td>Rabbit</td>\n",
       "      <td>73</td>\n",
       "      <td>White</td>\n",
       "      <td>Large</td>\n",
       "      <td>16.086727</td>\n",
       "      <td>0</td>\n",
       "      <td>0</td>\n",
       "      <td>8</td>\n",
       "      <td>235</td>\n",
       "      <td>0</td>\n",
       "      <td>0</td>\n",
       "    </tr>\n",
       "    <tr>\n",
       "      <th>2</th>\n",
       "      <td>502</td>\n",
       "      <td>Dog</td>\n",
       "      <td>Golden Retriever</td>\n",
       "      <td>136</td>\n",
       "      <td>Orange</td>\n",
       "      <td>Medium</td>\n",
       "      <td>2.076286</td>\n",
       "      <td>0</td>\n",
       "      <td>0</td>\n",
       "      <td>85</td>\n",
       "      <td>385</td>\n",
       "      <td>0</td>\n",
       "      <td>0</td>\n",
       "    </tr>\n",
       "    <tr>\n",
       "      <th>3</th>\n",
       "      <td>503</td>\n",
       "      <td>Bird</td>\n",
       "      <td>Parakeet</td>\n",
       "      <td>97</td>\n",
       "      <td>White</td>\n",
       "      <td>Small</td>\n",
       "      <td>3.339423</td>\n",
       "      <td>0</td>\n",
       "      <td>0</td>\n",
       "      <td>61</td>\n",
       "      <td>217</td>\n",
       "      <td>1</td>\n",
       "      <td>0</td>\n",
       "    </tr>\n",
       "    <tr>\n",
       "      <th>4</th>\n",
       "      <td>504</td>\n",
       "      <td>Rabbit</td>\n",
       "      <td>Rabbit</td>\n",
       "      <td>123</td>\n",
       "      <td>Gray</td>\n",
       "      <td>Large</td>\n",
       "      <td>20.498100</td>\n",
       "      <td>0</td>\n",
       "      <td>0</td>\n",
       "      <td>28</td>\n",
       "      <td>14</td>\n",
       "      <td>1</td>\n",
       "      <td>0</td>\n",
       "    </tr>\n",
       "  </tbody>\n",
       "</table>\n",
       "</div>"
      ],
      "text/plain": [
       "   PetID PetType             Breed  AgeMonths   Color    Size   WeightKg  \\\n",
       "0    500    Bird          Parakeet        131  Orange   Large   5.039768   \n",
       "1    501  Rabbit            Rabbit         73   White   Large  16.086727   \n",
       "2    502     Dog  Golden Retriever        136  Orange  Medium   2.076286   \n",
       "3    503    Bird          Parakeet         97   White   Small   3.339423   \n",
       "4    504  Rabbit            Rabbit        123    Gray   Large  20.498100   \n",
       "\n",
       "   Vaccinated  HealthCondition  TimeInShelterDays  AdoptionFee  PreviousOwner  \\\n",
       "0           1                0                 27          140              0   \n",
       "1           0                0                  8          235              0   \n",
       "2           0                0                 85          385              0   \n",
       "3           0                0                 61          217              1   \n",
       "4           0                0                 28           14              1   \n",
       "\n",
       "   AdoptionLikelihood  \n",
       "0                   0  \n",
       "1                   0  \n",
       "2                   0  \n",
       "3                   0  \n",
       "4                   0  "
      ]
     },
     "execution_count": 4,
     "metadata": {},
     "output_type": "execute_result"
    }
   ],
   "source": [
    "df.head()"
   ]
  },
  {
   "cell_type": "code",
   "execution_count": 5,
   "id": "7f3c8db4",
   "metadata": {
    "execution": {
     "iopub.execute_input": "2024-07-03T14:35:43.688063Z",
     "iopub.status.busy": "2024-07-03T14:35:43.687647Z",
     "iopub.status.idle": "2024-07-03T14:35:43.704169Z",
     "shell.execute_reply": "2024-07-03T14:35:43.702893Z"
    },
    "papermill": {
     "duration": 0.038423,
     "end_time": "2024-07-03T14:35:43.706844",
     "exception": false,
     "start_time": "2024-07-03T14:35:43.668421",
     "status": "completed"
    },
    "tags": []
   },
   "outputs": [
    {
     "data": {
      "text/html": [
       "<div>\n",
       "<style scoped>\n",
       "    .dataframe tbody tr th:only-of-type {\n",
       "        vertical-align: middle;\n",
       "    }\n",
       "\n",
       "    .dataframe tbody tr th {\n",
       "        vertical-align: top;\n",
       "    }\n",
       "\n",
       "    .dataframe thead th {\n",
       "        text-align: right;\n",
       "    }\n",
       "</style>\n",
       "<table border=\"1\" class=\"dataframe\">\n",
       "  <thead>\n",
       "    <tr style=\"text-align: right;\">\n",
       "      <th></th>\n",
       "      <th>PetID</th>\n",
       "      <th>PetType</th>\n",
       "      <th>Breed</th>\n",
       "      <th>AgeMonths</th>\n",
       "      <th>Color</th>\n",
       "      <th>Size</th>\n",
       "      <th>WeightKg</th>\n",
       "      <th>Vaccinated</th>\n",
       "      <th>HealthCondition</th>\n",
       "      <th>TimeInShelterDays</th>\n",
       "      <th>AdoptionFee</th>\n",
       "      <th>PreviousOwner</th>\n",
       "      <th>AdoptionLikelihood</th>\n",
       "    </tr>\n",
       "  </thead>\n",
       "  <tbody>\n",
       "    <tr>\n",
       "      <th>2002</th>\n",
       "      <td>2502</td>\n",
       "      <td>Dog</td>\n",
       "      <td>Poodle</td>\n",
       "      <td>72</td>\n",
       "      <td>Orange</td>\n",
       "      <td>Small</td>\n",
       "      <td>27.039045</td>\n",
       "      <td>1</td>\n",
       "      <td>0</td>\n",
       "      <td>66</td>\n",
       "      <td>26</td>\n",
       "      <td>1</td>\n",
       "      <td>1</td>\n",
       "    </tr>\n",
       "    <tr>\n",
       "      <th>2003</th>\n",
       "      <td>2503</td>\n",
       "      <td>Rabbit</td>\n",
       "      <td>Rabbit</td>\n",
       "      <td>124</td>\n",
       "      <td>Brown</td>\n",
       "      <td>Small</td>\n",
       "      <td>4.726954</td>\n",
       "      <td>1</td>\n",
       "      <td>1</td>\n",
       "      <td>59</td>\n",
       "      <td>150</td>\n",
       "      <td>0</td>\n",
       "      <td>0</td>\n",
       "    </tr>\n",
       "    <tr>\n",
       "      <th>2004</th>\n",
       "      <td>2504</td>\n",
       "      <td>Rabbit</td>\n",
       "      <td>Rabbit</td>\n",
       "      <td>113</td>\n",
       "      <td>Orange</td>\n",
       "      <td>Small</td>\n",
       "      <td>1.758592</td>\n",
       "      <td>1</td>\n",
       "      <td>0</td>\n",
       "      <td>68</td>\n",
       "      <td>302</td>\n",
       "      <td>0</td>\n",
       "      <td>0</td>\n",
       "    </tr>\n",
       "    <tr>\n",
       "      <th>2005</th>\n",
       "      <td>2505</td>\n",
       "      <td>Dog</td>\n",
       "      <td>Labrador</td>\n",
       "      <td>12</td>\n",
       "      <td>Gray</td>\n",
       "      <td>Large</td>\n",
       "      <td>20.961592</td>\n",
       "      <td>1</td>\n",
       "      <td>0</td>\n",
       "      <td>59</td>\n",
       "      <td>478</td>\n",
       "      <td>0</td>\n",
       "      <td>0</td>\n",
       "    </tr>\n",
       "    <tr>\n",
       "      <th>2006</th>\n",
       "      <td>2506</td>\n",
       "      <td>Rabbit</td>\n",
       "      <td>Rabbit</td>\n",
       "      <td>126</td>\n",
       "      <td>White</td>\n",
       "      <td>Medium</td>\n",
       "      <td>18.519788</td>\n",
       "      <td>1</td>\n",
       "      <td>0</td>\n",
       "      <td>10</td>\n",
       "      <td>267</td>\n",
       "      <td>1</td>\n",
       "      <td>0</td>\n",
       "    </tr>\n",
       "  </tbody>\n",
       "</table>\n",
       "</div>"
      ],
      "text/plain": [
       "      PetID PetType     Breed  AgeMonths   Color    Size   WeightKg  \\\n",
       "2002   2502     Dog    Poodle         72  Orange   Small  27.039045   \n",
       "2003   2503  Rabbit    Rabbit        124   Brown   Small   4.726954   \n",
       "2004   2504  Rabbit    Rabbit        113  Orange   Small   1.758592   \n",
       "2005   2505     Dog  Labrador         12    Gray   Large  20.961592   \n",
       "2006   2506  Rabbit    Rabbit        126   White  Medium  18.519788   \n",
       "\n",
       "      Vaccinated  HealthCondition  TimeInShelterDays  AdoptionFee  \\\n",
       "2002           1                0                 66           26   \n",
       "2003           1                1                 59          150   \n",
       "2004           1                0                 68          302   \n",
       "2005           1                0                 59          478   \n",
       "2006           1                0                 10          267   \n",
       "\n",
       "      PreviousOwner  AdoptionLikelihood  \n",
       "2002              1                   1  \n",
       "2003              0                   0  \n",
       "2004              0                   0  \n",
       "2005              0                   0  \n",
       "2006              1                   0  "
      ]
     },
     "execution_count": 5,
     "metadata": {},
     "output_type": "execute_result"
    }
   ],
   "source": [
    "df.tail()"
   ]
  },
  {
   "cell_type": "code",
   "execution_count": 6,
   "id": "8f9265b4",
   "metadata": {
    "execution": {
     "iopub.execute_input": "2024-07-03T14:35:43.746099Z",
     "iopub.status.busy": "2024-07-03T14:35:43.745722Z",
     "iopub.status.idle": "2024-07-03T14:35:43.753362Z",
     "shell.execute_reply": "2024-07-03T14:35:43.752154Z"
    },
    "papermill": {
     "duration": 0.029953,
     "end_time": "2024-07-03T14:35:43.755627",
     "exception": false,
     "start_time": "2024-07-03T14:35:43.725674",
     "status": "completed"
    },
    "tags": []
   },
   "outputs": [
    {
     "name": "stdout",
     "output_type": "stream",
     "text": [
      "The dataset has 2007 rows and 13 columns\n",
      "with 4 categorical features\n",
      "and 9 numerical features\n"
     ]
    }
   ],
   "source": [
    "print(f\"The dataset has {df.shape[0]} rows and {df.shape[1]} columns\")\n",
    "print(f\"with {len(df.select_dtypes(exclude = 'number').columns.to_list())} categorical features\")\n",
    "print(f\"and {len(df.select_dtypes(include = 'number').columns.to_list())} numerical features\")"
   ]
  },
  {
   "cell_type": "code",
   "execution_count": 7,
   "id": "a596b12b",
   "metadata": {
    "execution": {
     "iopub.execute_input": "2024-07-03T14:35:43.793975Z",
     "iopub.status.busy": "2024-07-03T14:35:43.793263Z",
     "iopub.status.idle": "2024-07-03T14:35:43.808288Z",
     "shell.execute_reply": "2024-07-03T14:35:43.807301Z"
    },
    "papermill": {
     "duration": 0.036824,
     "end_time": "2024-07-03T14:35:43.810582",
     "exception": false,
     "start_time": "2024-07-03T14:35:43.773758",
     "status": "completed"
    },
    "tags": []
   },
   "outputs": [
    {
     "name": "stdout",
     "output_type": "stream",
     "text": [
      "The dataset has 0 duplicated rows\n"
     ]
    }
   ],
   "source": [
    "print(f\"The dataset has {df.duplicated().sum()} duplicated rows\")"
   ]
  },
  {
   "cell_type": "code",
   "execution_count": 8,
   "id": "a440abc2",
   "metadata": {
    "execution": {
     "iopub.execute_input": "2024-07-03T14:35:43.850312Z",
     "iopub.status.busy": "2024-07-03T14:35:43.849840Z",
     "iopub.status.idle": "2024-07-03T14:35:43.871613Z",
     "shell.execute_reply": "2024-07-03T14:35:43.870480Z"
    },
    "papermill": {
     "duration": 0.044412,
     "end_time": "2024-07-03T14:35:43.874442",
     "exception": false,
     "start_time": "2024-07-03T14:35:43.830030",
     "status": "completed"
    },
    "tags": []
   },
   "outputs": [
    {
     "name": "stdout",
     "output_type": "stream",
     "text": [
      "<class 'pandas.core.frame.DataFrame'>\n",
      "RangeIndex: 2007 entries, 0 to 2006\n",
      "Data columns (total 13 columns):\n",
      " #   Column              Non-Null Count  Dtype  \n",
      "---  ------              --------------  -----  \n",
      " 0   PetID               2007 non-null   int64  \n",
      " 1   PetType             2007 non-null   object \n",
      " 2   Breed               2007 non-null   object \n",
      " 3   AgeMonths           2007 non-null   int64  \n",
      " 4   Color               2007 non-null   object \n",
      " 5   Size                2007 non-null   object \n",
      " 6   WeightKg            2007 non-null   float64\n",
      " 7   Vaccinated          2007 non-null   int64  \n",
      " 8   HealthCondition     2007 non-null   int64  \n",
      " 9   TimeInShelterDays   2007 non-null   int64  \n",
      " 10  AdoptionFee         2007 non-null   int64  \n",
      " 11  PreviousOwner       2007 non-null   int64  \n",
      " 12  AdoptionLikelihood  2007 non-null   int64  \n",
      "dtypes: float64(1), int64(8), object(4)\n",
      "memory usage: 204.0+ KB\n"
     ]
    }
   ],
   "source": [
    "df.info()"
   ]
  },
  {
   "cell_type": "code",
   "execution_count": 9,
   "id": "361d5d0a",
   "metadata": {
    "execution": {
     "iopub.execute_input": "2024-07-03T14:35:43.914171Z",
     "iopub.status.busy": "2024-07-03T14:35:43.913754Z",
     "iopub.status.idle": "2024-07-03T14:35:43.956377Z",
     "shell.execute_reply": "2024-07-03T14:35:43.954976Z"
    },
    "papermill": {
     "duration": 0.065774,
     "end_time": "2024-07-03T14:35:43.959081",
     "exception": false,
     "start_time": "2024-07-03T14:35:43.893307",
     "status": "completed"
    },
    "tags": []
   },
   "outputs": [
    {
     "data": {
      "text/html": [
       "<div>\n",
       "<style scoped>\n",
       "    .dataframe tbody tr th:only-of-type {\n",
       "        vertical-align: middle;\n",
       "    }\n",
       "\n",
       "    .dataframe tbody tr th {\n",
       "        vertical-align: top;\n",
       "    }\n",
       "\n",
       "    .dataframe thead th {\n",
       "        text-align: right;\n",
       "    }\n",
       "</style>\n",
       "<table border=\"1\" class=\"dataframe\">\n",
       "  <thead>\n",
       "    <tr style=\"text-align: right;\">\n",
       "      <th></th>\n",
       "      <th>count</th>\n",
       "      <th>mean</th>\n",
       "      <th>std</th>\n",
       "      <th>min</th>\n",
       "      <th>25%</th>\n",
       "      <th>50%</th>\n",
       "      <th>75%</th>\n",
       "      <th>max</th>\n",
       "    </tr>\n",
       "  </thead>\n",
       "  <tbody>\n",
       "    <tr>\n",
       "      <th>AgeMonths</th>\n",
       "      <td>2007.0</td>\n",
       "      <td>92.2795</td>\n",
       "      <td>52.1484</td>\n",
       "      <td>1.0000</td>\n",
       "      <td>48.0000</td>\n",
       "      <td>94.0000</td>\n",
       "      <td>138.0000</td>\n",
       "      <td>179.0000</td>\n",
       "    </tr>\n",
       "    <tr>\n",
       "      <th>WeightKg</th>\n",
       "      <td>2007.0</td>\n",
       "      <td>15.7058</td>\n",
       "      <td>8.3277</td>\n",
       "      <td>1.0182</td>\n",
       "      <td>8.7304</td>\n",
       "      <td>15.9254</td>\n",
       "      <td>22.7372</td>\n",
       "      <td>29.9956</td>\n",
       "    </tr>\n",
       "    <tr>\n",
       "      <th>Vaccinated</th>\n",
       "      <td>2007.0</td>\n",
       "      <td>0.7010</td>\n",
       "      <td>0.4579</td>\n",
       "      <td>0.0000</td>\n",
       "      <td>0.0000</td>\n",
       "      <td>1.0000</td>\n",
       "      <td>1.0000</td>\n",
       "      <td>1.0000</td>\n",
       "    </tr>\n",
       "    <tr>\n",
       "      <th>HealthCondition</th>\n",
       "      <td>2007.0</td>\n",
       "      <td>0.1963</td>\n",
       "      <td>0.3973</td>\n",
       "      <td>0.0000</td>\n",
       "      <td>0.0000</td>\n",
       "      <td>0.0000</td>\n",
       "      <td>0.0000</td>\n",
       "      <td>1.0000</td>\n",
       "    </tr>\n",
       "    <tr>\n",
       "      <th>TimeInShelterDays</th>\n",
       "      <td>2007.0</td>\n",
       "      <td>43.9741</td>\n",
       "      <td>25.7403</td>\n",
       "      <td>1.0000</td>\n",
       "      <td>21.0000</td>\n",
       "      <td>45.0000</td>\n",
       "      <td>66.0000</td>\n",
       "      <td>89.0000</td>\n",
       "    </tr>\n",
       "    <tr>\n",
       "      <th>AdoptionFee</th>\n",
       "      <td>2007.0</td>\n",
       "      <td>249.1420</td>\n",
       "      <td>142.8870</td>\n",
       "      <td>0.0000</td>\n",
       "      <td>127.0000</td>\n",
       "      <td>242.0000</td>\n",
       "      <td>375.0000</td>\n",
       "      <td>499.0000</td>\n",
       "    </tr>\n",
       "    <tr>\n",
       "      <th>PreviousOwner</th>\n",
       "      <td>2007.0</td>\n",
       "      <td>0.3019</td>\n",
       "      <td>0.4592</td>\n",
       "      <td>0.0000</td>\n",
       "      <td>0.0000</td>\n",
       "      <td>0.0000</td>\n",
       "      <td>1.0000</td>\n",
       "      <td>1.0000</td>\n",
       "    </tr>\n",
       "    <tr>\n",
       "      <th>AdoptionLikelihood</th>\n",
       "      <td>2007.0</td>\n",
       "      <td>0.3284</td>\n",
       "      <td>0.4697</td>\n",
       "      <td>0.0000</td>\n",
       "      <td>0.0000</td>\n",
       "      <td>0.0000</td>\n",
       "      <td>1.0000</td>\n",
       "      <td>1.0000</td>\n",
       "    </tr>\n",
       "  </tbody>\n",
       "</table>\n",
       "</div>"
      ],
      "text/plain": [
       "                     count      mean       std     min       25%       50%  \\\n",
       "AgeMonths           2007.0   92.2795   52.1484  1.0000   48.0000   94.0000   \n",
       "WeightKg            2007.0   15.7058    8.3277  1.0182    8.7304   15.9254   \n",
       "Vaccinated          2007.0    0.7010    0.4579  0.0000    0.0000    1.0000   \n",
       "HealthCondition     2007.0    0.1963    0.3973  0.0000    0.0000    0.0000   \n",
       "TimeInShelterDays   2007.0   43.9741   25.7403  1.0000   21.0000   45.0000   \n",
       "AdoptionFee         2007.0  249.1420  142.8870  0.0000  127.0000  242.0000   \n",
       "PreviousOwner       2007.0    0.3019    0.4592  0.0000    0.0000    0.0000   \n",
       "AdoptionLikelihood  2007.0    0.3284    0.4697  0.0000    0.0000    0.0000   \n",
       "\n",
       "                         75%       max  \n",
       "AgeMonths           138.0000  179.0000  \n",
       "WeightKg             22.7372   29.9956  \n",
       "Vaccinated            1.0000    1.0000  \n",
       "HealthCondition       0.0000    1.0000  \n",
       "TimeInShelterDays    66.0000   89.0000  \n",
       "AdoptionFee         375.0000  499.0000  \n",
       "PreviousOwner         1.0000    1.0000  \n",
       "AdoptionLikelihood    1.0000    1.0000  "
      ]
     },
     "execution_count": 9,
     "metadata": {},
     "output_type": "execute_result"
    }
   ],
   "source": [
    "df.drop(columns = 'PetID', axis = 1).describe().round(4).T"
   ]
  },
  {
   "cell_type": "markdown",
   "id": "4372f97e",
   "metadata": {
    "papermill": {
     "duration": 0.018822,
     "end_time": "2024-07-03T14:35:43.996709",
     "exception": false,
     "start_time": "2024-07-03T14:35:43.977887",
     "status": "completed"
    },
    "tags": []
   },
   "source": [
    "The data does not have any apparent discrepancies, the mean and median of the numerical variables are very close, indicating the absence of outliers."
   ]
  },
  {
   "cell_type": "markdown",
   "id": "1e22fcdc",
   "metadata": {
    "papermill": {
     "duration": 0.018979,
     "end_time": "2024-07-03T14:35:44.034411",
     "exception": false,
     "start_time": "2024-07-03T14:35:44.015432",
     "status": "completed"
    },
    "tags": []
   },
   "source": [
    "# 3. EDA "
   ]
  },
  {
   "cell_type": "code",
   "execution_count": 10,
   "id": "41d0c5a4",
   "metadata": {
    "execution": {
     "iopub.execute_input": "2024-07-03T14:35:44.075372Z",
     "iopub.status.busy": "2024-07-03T14:35:44.074961Z",
     "iopub.status.idle": "2024-07-03T14:35:44.094650Z",
     "shell.execute_reply": "2024-07-03T14:35:44.093266Z"
    },
    "papermill": {
     "duration": 0.043171,
     "end_time": "2024-07-03T14:35:44.097278",
     "exception": false,
     "start_time": "2024-07-03T14:35:44.054107",
     "status": "completed"
    },
    "tags": []
   },
   "outputs": [
    {
     "data": {
      "text/html": [
       "<div>\n",
       "<style scoped>\n",
       "    .dataframe tbody tr th:only-of-type {\n",
       "        vertical-align: middle;\n",
       "    }\n",
       "\n",
       "    .dataframe tbody tr th {\n",
       "        vertical-align: top;\n",
       "    }\n",
       "\n",
       "    .dataframe thead th {\n",
       "        text-align: right;\n",
       "    }\n",
       "</style>\n",
       "<table border=\"1\" class=\"dataframe\">\n",
       "  <thead>\n",
       "    <tr style=\"text-align: right;\">\n",
       "      <th></th>\n",
       "      <th>PetID</th>\n",
       "      <th>PetType</th>\n",
       "      <th>Breed</th>\n",
       "      <th>AgeMonths</th>\n",
       "      <th>Color</th>\n",
       "      <th>Size</th>\n",
       "      <th>WeightKg</th>\n",
       "      <th>Vaccinated</th>\n",
       "      <th>HealthCondition</th>\n",
       "      <th>TimeInShelterDays</th>\n",
       "      <th>AdoptionFee</th>\n",
       "      <th>PreviousOwner</th>\n",
       "      <th>AdoptionLikelihood</th>\n",
       "    </tr>\n",
       "  </thead>\n",
       "  <tbody>\n",
       "    <tr>\n",
       "      <th>7</th>\n",
       "      <td>507</td>\n",
       "      <td>Cat</td>\n",
       "      <td>Siamese</td>\n",
       "      <td>13</td>\n",
       "      <td>Orange</td>\n",
       "      <td>Large</td>\n",
       "      <td>7.252683</td>\n",
       "      <td>1</td>\n",
       "      <td>0</td>\n",
       "      <td>3</td>\n",
       "      <td>137</td>\n",
       "      <td>0</td>\n",
       "      <td>1</td>\n",
       "    </tr>\n",
       "    <tr>\n",
       "      <th>11</th>\n",
       "      <td>511</td>\n",
       "      <td>Rabbit</td>\n",
       "      <td>Rabbit</td>\n",
       "      <td>5</td>\n",
       "      <td>White</td>\n",
       "      <td>Small</td>\n",
       "      <td>29.078056</td>\n",
       "      <td>1</td>\n",
       "      <td>0</td>\n",
       "      <td>60</td>\n",
       "      <td>462</td>\n",
       "      <td>0</td>\n",
       "      <td>1</td>\n",
       "    </tr>\n",
       "    <tr>\n",
       "      <th>14</th>\n",
       "      <td>514</td>\n",
       "      <td>Cat</td>\n",
       "      <td>Persian</td>\n",
       "      <td>160</td>\n",
       "      <td>Brown</td>\n",
       "      <td>Medium</td>\n",
       "      <td>6.303899</td>\n",
       "      <td>1</td>\n",
       "      <td>0</td>\n",
       "      <td>11</td>\n",
       "      <td>404</td>\n",
       "      <td>0</td>\n",
       "      <td>1</td>\n",
       "    </tr>\n",
       "    <tr>\n",
       "      <th>17</th>\n",
       "      <td>517</td>\n",
       "      <td>Cat</td>\n",
       "      <td>Persian</td>\n",
       "      <td>50</td>\n",
       "      <td>White</td>\n",
       "      <td>Medium</td>\n",
       "      <td>28.982929</td>\n",
       "      <td>1</td>\n",
       "      <td>0</td>\n",
       "      <td>13</td>\n",
       "      <td>109</td>\n",
       "      <td>0</td>\n",
       "      <td>1</td>\n",
       "    </tr>\n",
       "    <tr>\n",
       "      <th>22</th>\n",
       "      <td>522</td>\n",
       "      <td>Dog</td>\n",
       "      <td>Labrador</td>\n",
       "      <td>3</td>\n",
       "      <td>Gray</td>\n",
       "      <td>Large</td>\n",
       "      <td>15.576273</td>\n",
       "      <td>1</td>\n",
       "      <td>0</td>\n",
       "      <td>50</td>\n",
       "      <td>369</td>\n",
       "      <td>1</td>\n",
       "      <td>1</td>\n",
       "    </tr>\n",
       "  </tbody>\n",
       "</table>\n",
       "</div>"
      ],
      "text/plain": [
       "    PetID PetType     Breed  AgeMonths   Color    Size   WeightKg  Vaccinated  \\\n",
       "7     507     Cat   Siamese         13  Orange   Large   7.252683           1   \n",
       "11    511  Rabbit    Rabbit          5   White   Small  29.078056           1   \n",
       "14    514     Cat   Persian        160   Brown  Medium   6.303899           1   \n",
       "17    517     Cat   Persian         50   White  Medium  28.982929           1   \n",
       "22    522     Dog  Labrador          3    Gray   Large  15.576273           1   \n",
       "\n",
       "    HealthCondition  TimeInShelterDays  AdoptionFee  PreviousOwner  \\\n",
       "7                 0                  3          137              0   \n",
       "11                0                 60          462              0   \n",
       "14                0                 11          404              0   \n",
       "17                0                 13          109              0   \n",
       "22                0                 50          369              1   \n",
       "\n",
       "    AdoptionLikelihood  \n",
       "7                    1  \n",
       "11                   1  \n",
       "14                   1  \n",
       "17                   1  \n",
       "22                   1  "
      ]
     },
     "execution_count": 10,
     "metadata": {},
     "output_type": "execute_result"
    }
   ],
   "source": [
    "# I will create a new DataFrame where there's only adopted pets\n",
    "\n",
    "adopted = df[df['AdoptionLikelihood'] == 1].copy()\n",
    "adopted.head()"
   ]
  },
  {
   "cell_type": "markdown",
   "id": "8802f43a",
   "metadata": {
    "papermill": {
     "duration": 0.019179,
     "end_time": "2024-07-03T14:35:44.135637",
     "exception": false,
     "start_time": "2024-07-03T14:35:44.116458",
     "status": "completed"
    },
    "tags": []
   },
   "source": [
    "## 3.1. PetType"
   ]
  },
  {
   "cell_type": "code",
   "execution_count": 11,
   "id": "f95d63de",
   "metadata": {
    "execution": {
     "iopub.execute_input": "2024-07-03T14:35:44.176715Z",
     "iopub.status.busy": "2024-07-03T14:35:44.176335Z",
     "iopub.status.idle": "2024-07-03T14:35:44.198440Z",
     "shell.execute_reply": "2024-07-03T14:35:44.197094Z"
    },
    "papermill": {
     "duration": 0.046182,
     "end_time": "2024-07-03T14:35:44.201493",
     "exception": false,
     "start_time": "2024-07-03T14:35:44.155311",
     "status": "completed"
    },
    "tags": []
   },
   "outputs": [
    {
     "data": {
      "text/html": [
       "<div>\n",
       "<style scoped>\n",
       "    .dataframe tbody tr th:only-of-type {\n",
       "        vertical-align: middle;\n",
       "    }\n",
       "\n",
       "    .dataframe tbody tr th {\n",
       "        vertical-align: top;\n",
       "    }\n",
       "\n",
       "    .dataframe thead th {\n",
       "        text-align: right;\n",
       "    }\n",
       "</style>\n",
       "<table border=\"1\" class=\"dataframe\">\n",
       "  <thead>\n",
       "    <tr style=\"text-align: right;\">\n",
       "      <th></th>\n",
       "      <th>PetType</th>\n",
       "      <th>Count</th>\n",
       "    </tr>\n",
       "  </thead>\n",
       "  <tbody>\n",
       "    <tr>\n",
       "      <th>2</th>\n",
       "      <td>Dog</td>\n",
       "      <td>522</td>\n",
       "    </tr>\n",
       "    <tr>\n",
       "      <th>1</th>\n",
       "      <td>Cat</td>\n",
       "      <td>505</td>\n",
       "    </tr>\n",
       "    <tr>\n",
       "      <th>3</th>\n",
       "      <td>Rabbit</td>\n",
       "      <td>493</td>\n",
       "    </tr>\n",
       "    <tr>\n",
       "      <th>0</th>\n",
       "      <td>Bird</td>\n",
       "      <td>487</td>\n",
       "    </tr>\n",
       "  </tbody>\n",
       "</table>\n",
       "</div>"
      ],
      "text/plain": [
       "  PetType  Count\n",
       "2     Dog    522\n",
       "1     Cat    505\n",
       "3  Rabbit    493\n",
       "0    Bird    487"
      ]
     },
     "execution_count": 11,
     "metadata": {},
     "output_type": "execute_result"
    }
   ],
   "source": [
    "df.groupby(\"PetType\").agg(Count = ('AdoptionLikelihood', 'count')).reset_index().sort_values(by = 'Count', ascending = False)"
   ]
  },
  {
   "cell_type": "code",
   "execution_count": 12,
   "id": "459eb304",
   "metadata": {
    "execution": {
     "iopub.execute_input": "2024-07-03T14:35:44.243104Z",
     "iopub.status.busy": "2024-07-03T14:35:44.242061Z",
     "iopub.status.idle": "2024-07-03T14:35:44.260453Z",
     "shell.execute_reply": "2024-07-03T14:35:44.259105Z"
    },
    "papermill": {
     "duration": 0.042253,
     "end_time": "2024-07-03T14:35:44.263523",
     "exception": false,
     "start_time": "2024-07-03T14:35:44.221270",
     "status": "completed"
    },
    "tags": []
   },
   "outputs": [
    {
     "data": {
      "text/html": [
       "<div>\n",
       "<style scoped>\n",
       "    .dataframe tbody tr th:only-of-type {\n",
       "        vertical-align: middle;\n",
       "    }\n",
       "\n",
       "    .dataframe tbody tr th {\n",
       "        vertical-align: top;\n",
       "    }\n",
       "\n",
       "    .dataframe thead th {\n",
       "        text-align: right;\n",
       "    }\n",
       "</style>\n",
       "<table border=\"1\" class=\"dataframe\">\n",
       "  <thead>\n",
       "    <tr style=\"text-align: right;\">\n",
       "      <th></th>\n",
       "      <th>PetType</th>\n",
       "      <th>Count</th>\n",
       "    </tr>\n",
       "  </thead>\n",
       "  <tbody>\n",
       "    <tr>\n",
       "      <th>2</th>\n",
       "      <td>Dog</td>\n",
       "      <td>242</td>\n",
       "    </tr>\n",
       "    <tr>\n",
       "      <th>0</th>\n",
       "      <td>Bird</td>\n",
       "      <td>147</td>\n",
       "    </tr>\n",
       "    <tr>\n",
       "      <th>1</th>\n",
       "      <td>Cat</td>\n",
       "      <td>145</td>\n",
       "    </tr>\n",
       "    <tr>\n",
       "      <th>3</th>\n",
       "      <td>Rabbit</td>\n",
       "      <td>125</td>\n",
       "    </tr>\n",
       "  </tbody>\n",
       "</table>\n",
       "</div>"
      ],
      "text/plain": [
       "  PetType  Count\n",
       "2     Dog    242\n",
       "0    Bird    147\n",
       "1     Cat    145\n",
       "3  Rabbit    125"
      ]
     },
     "execution_count": 12,
     "metadata": {},
     "output_type": "execute_result"
    }
   ],
   "source": [
    "ptype = adopted.groupby(\"PetType\").agg(Count = ('AdoptionLikelihood', 'count')).reset_index().sort_values(by = 'Count', ascending = False)\n",
    "ptype"
   ]
  },
  {
   "cell_type": "code",
   "execution_count": 13,
   "id": "171bfe59",
   "metadata": {
    "execution": {
     "iopub.execute_input": "2024-07-03T14:35:44.372620Z",
     "iopub.status.busy": "2024-07-03T14:35:44.372213Z",
     "iopub.status.idle": "2024-07-03T14:35:44.656388Z",
     "shell.execute_reply": "2024-07-03T14:35:44.655186Z"
    },
    "papermill": {
     "duration": 0.372989,
     "end_time": "2024-07-03T14:35:44.658898",
     "exception": false,
     "start_time": "2024-07-03T14:35:44.285909",
     "status": "completed"
    },
    "tags": []
   },
   "outputs": [
    {
     "data": {
      "image/png": "[encoded data removed]",
      "text/plain": [
       "<Figure size 800x500 with 1 Axes>"
      ]
     },
     "metadata": {},
     "output_type": "display_data"
    }
   ],
   "source": [
    "fig = plt.figure(figsize = (8, 5))\n",
    "ax = fig.add_axes([0, 0, 1, 1])\n",
    "\n",
    "sns.barplot(ptype, x = 'Count', y = 'PetType')\n",
    "ax.set_title(\"Adoption Likelihood x PetType\", loc = 'left', fontsize = 15, pad = 10)\n",
    "ax.set_xlabel(\"Quantity\", fontsize = 8)\n",
    "ax.set_ylabel(\"\")\n",
    "plt.show()"
   ]
  },
  {
   "cell_type": "markdown",
   "id": "aeb54bf7",
   "metadata": {
    "papermill": {
     "duration": 0.019602,
     "end_time": "2024-07-03T14:35:44.698918",
     "exception": false,
     "start_time": "2024-07-03T14:35:44.679316",
     "status": "completed"
    },
    "tags": []
   },
   "source": [
    "With a larger volume of animals in shelters, dogs are also the most adopted pets."
   ]
  },
  {
   "cell_type": "markdown",
   "id": "3e3ad088",
   "metadata": {
    "papermill": {
     "duration": 0.01937,
     "end_time": "2024-07-03T14:35:44.738219",
     "exception": false,
     "start_time": "2024-07-03T14:35:44.718849",
     "status": "completed"
    },
    "tags": []
   },
   "source": [
    "## 3.2. Breed"
   ]
  },
  {
   "cell_type": "code",
   "execution_count": 14,
   "id": "820fe642",
   "metadata": {
    "execution": {
     "iopub.execute_input": "2024-07-03T14:35:44.779802Z",
     "iopub.status.busy": "2024-07-03T14:35:44.779405Z",
     "iopub.status.idle": "2024-07-03T14:35:44.799588Z",
     "shell.execute_reply": "2024-07-03T14:35:44.798352Z"
    },
    "papermill": {
     "duration": 0.043506,
     "end_time": "2024-07-03T14:35:44.801836",
     "exception": false,
     "start_time": "2024-07-03T14:35:44.758330",
     "status": "completed"
    },
    "tags": []
   },
   "outputs": [
    {
     "data": {
      "text/html": [
       "<div>\n",
       "<style scoped>\n",
       "    .dataframe tbody tr th:only-of-type {\n",
       "        vertical-align: middle;\n",
       "    }\n",
       "\n",
       "    .dataframe tbody tr th {\n",
       "        vertical-align: top;\n",
       "    }\n",
       "\n",
       "    .dataframe thead th {\n",
       "        text-align: right;\n",
       "    }\n",
       "</style>\n",
       "<table border=\"1\" class=\"dataframe\">\n",
       "  <thead>\n",
       "    <tr style=\"text-align: right;\">\n",
       "      <th></th>\n",
       "      <th>Breed</th>\n",
       "      <th>PetType</th>\n",
       "      <th>Count</th>\n",
       "    </tr>\n",
       "  </thead>\n",
       "  <tbody>\n",
       "    <tr>\n",
       "      <th>5</th>\n",
       "      <td>Rabbit</td>\n",
       "      <td>Rabbit</td>\n",
       "      <td>493</td>\n",
       "    </tr>\n",
       "    <tr>\n",
       "      <th>2</th>\n",
       "      <td>Parakeet</td>\n",
       "      <td>Bird</td>\n",
       "      <td>487</td>\n",
       "    </tr>\n",
       "    <tr>\n",
       "      <th>6</th>\n",
       "      <td>Siamese</td>\n",
       "      <td>Cat</td>\n",
       "      <td>253</td>\n",
       "    </tr>\n",
       "    <tr>\n",
       "      <th>3</th>\n",
       "      <td>Persian</td>\n",
       "      <td>Cat</td>\n",
       "      <td>252</td>\n",
       "    </tr>\n",
       "    <tr>\n",
       "      <th>1</th>\n",
       "      <td>Labrador</td>\n",
       "      <td>Dog</td>\n",
       "      <td>193</td>\n",
       "    </tr>\n",
       "    <tr>\n",
       "      <th>4</th>\n",
       "      <td>Poodle</td>\n",
       "      <td>Dog</td>\n",
       "      <td>167</td>\n",
       "    </tr>\n",
       "    <tr>\n",
       "      <th>0</th>\n",
       "      <td>Golden Retriever</td>\n",
       "      <td>Dog</td>\n",
       "      <td>162</td>\n",
       "    </tr>\n",
       "  </tbody>\n",
       "</table>\n",
       "</div>"
      ],
      "text/plain": [
       "              Breed PetType  Count\n",
       "5            Rabbit  Rabbit    493\n",
       "2          Parakeet    Bird    487\n",
       "6           Siamese     Cat    253\n",
       "3           Persian     Cat    252\n",
       "1          Labrador     Dog    193\n",
       "4            Poodle     Dog    167\n",
       "0  Golden Retriever     Dog    162"
      ]
     },
     "execution_count": 14,
     "metadata": {},
     "output_type": "execute_result"
    }
   ],
   "source": [
    "df.groupby([\"Breed\", \"PetType\"]).agg(Count = ('AdoptionLikelihood', 'count')).reset_index().sort_values(by = 'Count', ascending = False)"
   ]
  },
  {
   "cell_type": "markdown",
   "id": "763398b2",
   "metadata": {
    "papermill": {
     "duration": 0.020362,
     "end_time": "2024-07-03T14:35:44.842146",
     "exception": false,
     "start_time": "2024-07-03T14:35:44.821784",
     "status": "completed"
    },
    "tags": []
   },
   "source": [
    "There is no distinction between rabbit breeds, and among birds, only parakeets are available."
   ]
  },
  {
   "cell_type": "code",
   "execution_count": 15,
   "id": "1eef55b3",
   "metadata": {
    "execution": {
     "iopub.execute_input": "2024-07-03T14:35:44.884321Z",
     "iopub.status.busy": "2024-07-03T14:35:44.883907Z",
     "iopub.status.idle": "2024-07-03T14:35:44.907511Z",
     "shell.execute_reply": "2024-07-03T14:35:44.906145Z"
    },
    "papermill": {
     "duration": 0.048213,
     "end_time": "2024-07-03T14:35:44.910614",
     "exception": false,
     "start_time": "2024-07-03T14:35:44.862401",
     "status": "completed"
    },
    "tags": []
   },
   "outputs": [
    {
     "data": {
      "text/html": [
       "<div>\n",
       "<style scoped>\n",
       "    .dataframe tbody tr th:only-of-type {\n",
       "        vertical-align: middle;\n",
       "    }\n",
       "\n",
       "    .dataframe tbody tr th {\n",
       "        vertical-align: top;\n",
       "    }\n",
       "\n",
       "    .dataframe thead th {\n",
       "        text-align: right;\n",
       "    }\n",
       "</style>\n",
       "<table border=\"1\" class=\"dataframe\">\n",
       "  <thead>\n",
       "    <tr style=\"text-align: right;\">\n",
       "      <th></th>\n",
       "      <th>Breed</th>\n",
       "      <th>PetType</th>\n",
       "      <th>Count</th>\n",
       "    </tr>\n",
       "  </thead>\n",
       "  <tbody>\n",
       "    <tr>\n",
       "      <th>2</th>\n",
       "      <td>Parakeet</td>\n",
       "      <td>Bird</td>\n",
       "      <td>147</td>\n",
       "    </tr>\n",
       "    <tr>\n",
       "      <th>1</th>\n",
       "      <td>Labrador</td>\n",
       "      <td>Dog</td>\n",
       "      <td>139</td>\n",
       "    </tr>\n",
       "    <tr>\n",
       "      <th>5</th>\n",
       "      <td>Rabbit</td>\n",
       "      <td>Rabbit</td>\n",
       "      <td>125</td>\n",
       "    </tr>\n",
       "    <tr>\n",
       "      <th>6</th>\n",
       "      <td>Siamese</td>\n",
       "      <td>Cat</td>\n",
       "      <td>78</td>\n",
       "    </tr>\n",
       "    <tr>\n",
       "      <th>3</th>\n",
       "      <td>Persian</td>\n",
       "      <td>Cat</td>\n",
       "      <td>67</td>\n",
       "    </tr>\n",
       "    <tr>\n",
       "      <th>4</th>\n",
       "      <td>Poodle</td>\n",
       "      <td>Dog</td>\n",
       "      <td>56</td>\n",
       "    </tr>\n",
       "    <tr>\n",
       "      <th>0</th>\n",
       "      <td>Golden Retriever</td>\n",
       "      <td>Dog</td>\n",
       "      <td>47</td>\n",
       "    </tr>\n",
       "  </tbody>\n",
       "</table>\n",
       "</div>"
      ],
      "text/plain": [
       "              Breed PetType  Count\n",
       "2          Parakeet    Bird    147\n",
       "1          Labrador     Dog    139\n",
       "5            Rabbit  Rabbit    125\n",
       "6           Siamese     Cat     78\n",
       "3           Persian     Cat     67\n",
       "4            Poodle     Dog     56\n",
       "0  Golden Retriever     Dog     47"
      ]
     },
     "execution_count": 15,
     "metadata": {},
     "output_type": "execute_result"
    }
   ],
   "source": [
    "breed = adopted.groupby([\"Breed\", \"PetType\"]).agg(Count = ('AdoptionLikelihood', 'count')).reset_index().sort_values(by = 'Count', ascending = False)\n",
    "breed"
   ]
  },
  {
   "cell_type": "code",
   "execution_count": 16,
   "id": "5f93355c",
   "metadata": {
    "execution": {
     "iopub.execute_input": "2024-07-03T14:35:44.953344Z",
     "iopub.status.busy": "2024-07-03T14:35:44.952934Z",
     "iopub.status.idle": "2024-07-03T14:35:45.478867Z",
     "shell.execute_reply": "2024-07-03T14:35:45.477733Z"
    },
    "papermill": {
     "duration": 0.550338,
     "end_time": "2024-07-03T14:35:45.481421",
     "exception": false,
     "start_time": "2024-07-03T14:35:44.931083",
     "status": "completed"
    },
    "tags": []
   },
   "outputs": [
    {
     "data": {
      "image/png": "[encoded data removed]",
      "text/plain": [
       "<Figure size 800x500 with 1 Axes>"
      ]
     },
     "metadata": {},
     "output_type": "display_data"
    }
   ],
   "source": [
    "fig = plt.figure(figsize = (8, 5))\n",
    "ax = fig.add_axes([0, 0, 1, 1])\n",
    "\n",
    "sns.barplot(breed, y = 'Count', x = 'Breed', hue = 'PetType')\n",
    "ax.set_title(\"Adoption Likelihood x Breed\", loc = 'left', fontsize = 15, pad = 10)\n",
    "ax.set_xlabel(\"Breed\", fontsize = 8)\n",
    "ax.set_ylabel(\"Quantity\", fontsize = 8)\n",
    "plt.legend(title = 'PetType')\n",
    "plt.show()"
   ]
  },
  {
   "cell_type": "markdown",
   "id": "efca2f33",
   "metadata": {
    "papermill": {
     "duration": 0.020553,
     "end_time": "2024-07-03T14:35:45.523607",
     "exception": false,
     "start_time": "2024-07-03T14:35:45.503054",
     "status": "completed"
    },
    "tags": []
   },
   "source": [
    "Among the types of pets with defined breeds, Labrador retrievers are the most adopted dogs. Labrador Retrievers are popular for their friendly, intelligent, and trainable nature."
   ]
  },
  {
   "cell_type": "markdown",
   "id": "f81af433",
   "metadata": {
    "papermill": {
     "duration": 0.027189,
     "end_time": "2024-07-03T14:35:45.571663",
     "exception": false,
     "start_time": "2024-07-03T14:35:45.544474",
     "status": "completed"
    },
    "tags": []
   },
   "source": [
    "## 3.3 AgeMonths"
   ]
  },
  {
   "cell_type": "code",
   "execution_count": 17,
   "id": "3c7f78c1",
   "metadata": {
    "execution": {
     "iopub.execute_input": "2024-07-03T14:35:45.641075Z",
     "iopub.status.busy": "2024-07-03T14:35:45.640235Z",
     "iopub.status.idle": "2024-07-03T14:35:45.919248Z",
     "shell.execute_reply": "2024-07-03T14:35:45.918170Z"
    },
    "papermill": {
     "duration": 0.317058,
     "end_time": "2024-07-03T14:35:45.921712",
     "exception": false,
     "start_time": "2024-07-03T14:35:45.604654",
     "status": "completed"
    },
    "tags": []
   },
   "outputs": [
    {
     "data": {
      "image/png": "[encoded data removed]",
      "text/plain": [
       "<Figure size 800x500 with 1 Axes>"
      ]
     },
     "metadata": {},
     "output_type": "display_data"
    }
   ],
   "source": [
    "fig = plt.figure(figsize=(8, 5))\n",
    "ax = fig.add_axes([0, 0, 1, 1])\n",
    "\n",
    "sns.boxplot(df, y = 'AgeMonths', x = 'AdoptionLikelihood', palette=my_palette)\n",
    "ax.set_title('Adoption Likelihood x Age in Months – Boxplot', loc = 'left', fontsize = 15, pad = 10)\n",
    "ax.set_xlabel('Adoption Likelihood', fontsize = 8)\n",
    "ax.set_ylabel('Age in Months', fontsize = 8)\n",
    "plt.show()"
   ]
  },
  {
   "cell_type": "markdown",
   "id": "fb94b58c",
   "metadata": {
    "papermill": {
     "duration": 0.022537,
     "end_time": "2024-07-03T14:35:45.965559",
     "exception": false,
     "start_time": "2024-07-03T14:35:45.943022",
     "status": "completed"
    },
    "tags": []
   },
   "source": [
    "Older animals are less likely to be adopted, with health being the most important criterion when choosing an animal for adoption."
   ]
  },
  {
   "cell_type": "markdown",
   "id": "8c265735",
   "metadata": {
    "papermill": {
     "duration": 0.020698,
     "end_time": "2024-07-03T14:35:46.007471",
     "exception": false,
     "start_time": "2024-07-03T14:35:45.986773",
     "status": "completed"
    },
    "tags": []
   },
   "source": [
    "## 3.4. Color"
   ]
  },
  {
   "cell_type": "code",
   "execution_count": 18,
   "id": "44432813",
   "metadata": {
    "execution": {
     "iopub.execute_input": "2024-07-03T14:35:46.051290Z",
     "iopub.status.busy": "2024-07-03T14:35:46.050875Z",
     "iopub.status.idle": "2024-07-03T14:35:46.068195Z",
     "shell.execute_reply": "2024-07-03T14:35:46.067171Z"
    },
    "papermill": {
     "duration": 0.041899,
     "end_time": "2024-07-03T14:35:46.070342",
     "exception": false,
     "start_time": "2024-07-03T14:35:46.028443",
     "status": "completed"
    },
    "tags": []
   },
   "outputs": [
    {
     "data": {
      "text/html": [
       "<div>\n",
       "<style scoped>\n",
       "    .dataframe tbody tr th:only-of-type {\n",
       "        vertical-align: middle;\n",
       "    }\n",
       "\n",
       "    .dataframe tbody tr th {\n",
       "        vertical-align: top;\n",
       "    }\n",
       "\n",
       "    .dataframe thead th {\n",
       "        text-align: right;\n",
       "    }\n",
       "</style>\n",
       "<table border=\"1\" class=\"dataframe\">\n",
       "  <thead>\n",
       "    <tr style=\"text-align: right;\">\n",
       "      <th></th>\n",
       "      <th>Color</th>\n",
       "      <th>Count</th>\n",
       "    </tr>\n",
       "  </thead>\n",
       "  <tbody>\n",
       "    <tr>\n",
       "      <th>4</th>\n",
       "      <td>White</td>\n",
       "      <td>420</td>\n",
       "    </tr>\n",
       "    <tr>\n",
       "      <th>3</th>\n",
       "      <td>Orange</td>\n",
       "      <td>409</td>\n",
       "    </tr>\n",
       "    <tr>\n",
       "      <th>2</th>\n",
       "      <td>Gray</td>\n",
       "      <td>400</td>\n",
       "    </tr>\n",
       "    <tr>\n",
       "      <th>0</th>\n",
       "      <td>Black</td>\n",
       "      <td>395</td>\n",
       "    </tr>\n",
       "    <tr>\n",
       "      <th>1</th>\n",
       "      <td>Brown</td>\n",
       "      <td>383</td>\n",
       "    </tr>\n",
       "  </tbody>\n",
       "</table>\n",
       "</div>"
      ],
      "text/plain": [
       "    Color  Count\n",
       "4   White    420\n",
       "3  Orange    409\n",
       "2    Gray    400\n",
       "0   Black    395\n",
       "1   Brown    383"
      ]
     },
     "execution_count": 18,
     "metadata": {},
     "output_type": "execute_result"
    }
   ],
   "source": [
    "df.groupby([\"Color\"]).agg(Count = ('AdoptionLikelihood', 'count')).reset_index().sort_values(by = 'Count', ascending = False)"
   ]
  },
  {
   "cell_type": "code",
   "execution_count": 19,
   "id": "f17d8749",
   "metadata": {
    "execution": {
     "iopub.execute_input": "2024-07-03T14:35:46.114787Z",
     "iopub.status.busy": "2024-07-03T14:35:46.114386Z",
     "iopub.status.idle": "2024-07-03T14:35:46.133957Z",
     "shell.execute_reply": "2024-07-03T14:35:46.133010Z"
    },
    "papermill": {
     "duration": 0.044708,
     "end_time": "2024-07-03T14:35:46.136375",
     "exception": false,
     "start_time": "2024-07-03T14:35:46.091667",
     "status": "completed"
    },
    "tags": []
   },
   "outputs": [
    {
     "data": {
      "text/html": [
       "<div>\n",
       "<style scoped>\n",
       "    .dataframe tbody tr th:only-of-type {\n",
       "        vertical-align: middle;\n",
       "    }\n",
       "\n",
       "    .dataframe tbody tr th {\n",
       "        vertical-align: top;\n",
       "    }\n",
       "\n",
       "    .dataframe thead th {\n",
       "        text-align: right;\n",
       "    }\n",
       "</style>\n",
       "<table border=\"1\" class=\"dataframe\">\n",
       "  <thead>\n",
       "    <tr style=\"text-align: right;\">\n",
       "      <th></th>\n",
       "      <th>Color</th>\n",
       "      <th>Count</th>\n",
       "    </tr>\n",
       "  </thead>\n",
       "  <tbody>\n",
       "    <tr>\n",
       "      <th>3</th>\n",
       "      <td>Orange</td>\n",
       "      <td>142</td>\n",
       "    </tr>\n",
       "    <tr>\n",
       "      <th>2</th>\n",
       "      <td>Gray</td>\n",
       "      <td>137</td>\n",
       "    </tr>\n",
       "    <tr>\n",
       "      <th>0</th>\n",
       "      <td>Black</td>\n",
       "      <td>135</td>\n",
       "    </tr>\n",
       "    <tr>\n",
       "      <th>1</th>\n",
       "      <td>Brown</td>\n",
       "      <td>125</td>\n",
       "    </tr>\n",
       "    <tr>\n",
       "      <th>4</th>\n",
       "      <td>White</td>\n",
       "      <td>120</td>\n",
       "    </tr>\n",
       "  </tbody>\n",
       "</table>\n",
       "</div>"
      ],
      "text/plain": [
       "    Color  Count\n",
       "3  Orange    142\n",
       "2    Gray    137\n",
       "0   Black    135\n",
       "1   Brown    125\n",
       "4   White    120"
      ]
     },
     "execution_count": 19,
     "metadata": {},
     "output_type": "execute_result"
    }
   ],
   "source": [
    "color = adopted.groupby([\"Color\"]).agg(Count = ('AdoptionLikelihood', 'count')).reset_index().sort_values(by = 'Count', ascending = False)\n",
    "color"
   ]
  },
  {
   "cell_type": "code",
   "execution_count": 20,
   "id": "d64c66d1",
   "metadata": {
    "execution": {
     "iopub.execute_input": "2024-07-03T14:35:46.181348Z",
     "iopub.status.busy": "2024-07-03T14:35:46.180932Z",
     "iopub.status.idle": "2024-07-03T14:35:46.464350Z",
     "shell.execute_reply": "2024-07-03T14:35:46.463208Z"
    },
    "papermill": {
     "duration": 0.30886,
     "end_time": "2024-07-03T14:35:46.466917",
     "exception": false,
     "start_time": "2024-07-03T14:35:46.158057",
     "status": "completed"
    },
    "tags": []
   },
   "outputs": [
    {
     "data": {
      "image/png": "[encoded data removed]",
      "text/plain": [
       "<Figure size 800x600 with 1 Axes>"
      ]
     },
     "metadata": {},
     "output_type": "display_data"
    }
   ],
   "source": [
    "fig = plt.figure(figsize=(8, 6))\n",
    "ax = fig.add_axes([0, 0, 1, 1])\n",
    "\n",
    "sns.barplot(color, y = 'Color', x = 'Count')\n",
    "ax.set_title('Adoption Likelihoood x Color', loc = 'left', fontsize = 15, pad = 10)\n",
    "ax.set_xlabel('Quantity', fontsize = 8)\n",
    "ax.set_ylabel('')\n",
    "plt.show()"
   ]
  },
  {
   "cell_type": "markdown",
   "id": "f4976d6e",
   "metadata": {
    "papermill": {
     "duration": 0.022066,
     "end_time": "2024-07-03T14:35:46.511052",
     "exception": false,
     "start_time": "2024-07-03T14:35:46.488986",
     "status": "completed"
    },
    "tags": []
   },
   "source": [
    "## 3.5. Size"
   ]
  },
  {
   "cell_type": "code",
   "execution_count": 21,
   "id": "6602e64e",
   "metadata": {
    "execution": {
     "iopub.execute_input": "2024-07-03T14:35:46.556764Z",
     "iopub.status.busy": "2024-07-03T14:35:46.556371Z",
     "iopub.status.idle": "2024-07-03T14:35:46.576377Z",
     "shell.execute_reply": "2024-07-03T14:35:46.575220Z"
    },
    "papermill": {
     "duration": 0.045709,
     "end_time": "2024-07-03T14:35:46.578957",
     "exception": false,
     "start_time": "2024-07-03T14:35:46.533248",
     "status": "completed"
    },
    "tags": []
   },
   "outputs": [
    {
     "data": {
      "text/html": [
       "<div>\n",
       "<style scoped>\n",
       "    .dataframe tbody tr th:only-of-type {\n",
       "        vertical-align: middle;\n",
       "    }\n",
       "\n",
       "    .dataframe tbody tr th {\n",
       "        vertical-align: top;\n",
       "    }\n",
       "\n",
       "    .dataframe thead th {\n",
       "        text-align: right;\n",
       "    }\n",
       "</style>\n",
       "<table border=\"1\" class=\"dataframe\">\n",
       "  <thead>\n",
       "    <tr style=\"text-align: right;\">\n",
       "      <th></th>\n",
       "      <th>Size</th>\n",
       "      <th>Count</th>\n",
       "    </tr>\n",
       "  </thead>\n",
       "  <tbody>\n",
       "    <tr>\n",
       "      <th>1</th>\n",
       "      <td>Medium</td>\n",
       "      <td>714</td>\n",
       "    </tr>\n",
       "    <tr>\n",
       "      <th>2</th>\n",
       "      <td>Small</td>\n",
       "      <td>663</td>\n",
       "    </tr>\n",
       "    <tr>\n",
       "      <th>0</th>\n",
       "      <td>Large</td>\n",
       "      <td>630</td>\n",
       "    </tr>\n",
       "  </tbody>\n",
       "</table>\n",
       "</div>"
      ],
      "text/plain": [
       "     Size  Count\n",
       "1  Medium    714\n",
       "2   Small    663\n",
       "0   Large    630"
      ]
     },
     "execution_count": 21,
     "metadata": {},
     "output_type": "execute_result"
    }
   ],
   "source": [
    "df.groupby(\"Size\").agg(Count = ('AdoptionLikelihood', 'count')).reset_index().sort_values(by = 'Count', ascending = False)"
   ]
  },
  {
   "cell_type": "code",
   "execution_count": 22,
   "id": "734ff697",
   "metadata": {
    "execution": {
     "iopub.execute_input": "2024-07-03T14:35:46.625581Z",
     "iopub.status.busy": "2024-07-03T14:35:46.625169Z",
     "iopub.status.idle": "2024-07-03T14:35:46.643875Z",
     "shell.execute_reply": "2024-07-03T14:35:46.642695Z"
    },
    "papermill": {
     "duration": 0.044467,
     "end_time": "2024-07-03T14:35:46.646155",
     "exception": false,
     "start_time": "2024-07-03T14:35:46.601688",
     "status": "completed"
    },
    "tags": []
   },
   "outputs": [
    {
     "data": {
      "text/html": [
       "<div>\n",
       "<style scoped>\n",
       "    .dataframe tbody tr th:only-of-type {\n",
       "        vertical-align: middle;\n",
       "    }\n",
       "\n",
       "    .dataframe tbody tr th {\n",
       "        vertical-align: top;\n",
       "    }\n",
       "\n",
       "    .dataframe thead th {\n",
       "        text-align: right;\n",
       "    }\n",
       "</style>\n",
       "<table border=\"1\" class=\"dataframe\">\n",
       "  <thead>\n",
       "    <tr style=\"text-align: right;\">\n",
       "      <th></th>\n",
       "      <th>Size</th>\n",
       "      <th>Count</th>\n",
       "    </tr>\n",
       "  </thead>\n",
       "  <tbody>\n",
       "    <tr>\n",
       "      <th>1</th>\n",
       "      <td>Medium</td>\n",
       "      <td>445</td>\n",
       "    </tr>\n",
       "    <tr>\n",
       "      <th>2</th>\n",
       "      <td>Small</td>\n",
       "      <td>117</td>\n",
       "    </tr>\n",
       "    <tr>\n",
       "      <th>0</th>\n",
       "      <td>Large</td>\n",
       "      <td>97</td>\n",
       "    </tr>\n",
       "  </tbody>\n",
       "</table>\n",
       "</div>"
      ],
      "text/plain": [
       "     Size  Count\n",
       "1  Medium    445\n",
       "2   Small    117\n",
       "0   Large     97"
      ]
     },
     "execution_count": 22,
     "metadata": {},
     "output_type": "execute_result"
    }
   ],
   "source": [
    "size = adopted.groupby(\"Size\").agg(Count = ('AdoptionLikelihood', 'count')).reset_index().sort_values(by = 'Count', ascending = False)\n",
    "size"
   ]
  },
  {
   "cell_type": "code",
   "execution_count": 23,
   "id": "95cb8794",
   "metadata": {
    "execution": {
     "iopub.execute_input": "2024-07-03T14:35:46.694218Z",
     "iopub.status.busy": "2024-07-03T14:35:46.693210Z",
     "iopub.status.idle": "2024-07-03T14:35:46.875376Z",
     "shell.execute_reply": "2024-07-03T14:35:46.874131Z"
    },
    "papermill": {
     "duration": 0.208707,
     "end_time": "2024-07-03T14:35:46.877867",
     "exception": false,
     "start_time": "2024-07-03T14:35:46.669160",
     "status": "completed"
    },
    "tags": []
   },
   "outputs": [
    {
     "data": {
      "image/png": "[encoded data removed]",
      "text/plain": [
       "<Figure size 800x600 with 1 Axes>"
      ]
     },
     "metadata": {},
     "output_type": "display_data"
    }
   ],
   "source": [
    "fig = plt.figure(figsize=(8, 6))\n",
    "ax = fig.add_axes([0, 0, 1, 1])\n",
    "\n",
    "sns.barplot(size, x = 'Count', y = 'Size')\n",
    "ax.set_title('Adoption Likelihood x Size', loc = 'left', fontsize = 15, pad = 10)\n",
    "ax.set_xlabel('Quantity', fontsize = 8)\n",
    "ax.set_ylabel('')\n",
    "plt.show()"
   ]
  },
  {
   "cell_type": "markdown",
   "id": "ff7339a5",
   "metadata": {
    "papermill": {
     "duration": 0.022273,
     "end_time": "2024-07-03T14:35:46.924333",
     "exception": false,
     "start_time": "2024-07-03T14:35:46.902060",
     "status": "completed"
    },
    "tags": []
   },
   "source": [
    "Medium-sized animals are the majority both in number in shelters and in adoptions. Larger animals are the least adopted. \n",
    "\n",
    "- The popularity of medium-sized animals for adoption may be due to their suitability for a variety of living spaces and lifestyles.\n",
    "- Larger animals may require more space, exercise, and training, which can be a deterrent for some potential adopters.\n",
    "\n",
    "Let's take a closer look by type of animal."
   ]
  },
  {
   "cell_type": "code",
   "execution_count": 24,
   "id": "684aab24",
   "metadata": {
    "execution": {
     "iopub.execute_input": "2024-07-03T14:35:46.971010Z",
     "iopub.status.busy": "2024-07-03T14:35:46.970606Z",
     "iopub.status.idle": "2024-07-03T14:35:46.992612Z",
     "shell.execute_reply": "2024-07-03T14:35:46.991529Z"
    },
    "papermill": {
     "duration": 0.04822,
     "end_time": "2024-07-03T14:35:46.994986",
     "exception": false,
     "start_time": "2024-07-03T14:35:46.946766",
     "status": "completed"
    },
    "tags": []
   },
   "outputs": [
    {
     "data": {
      "text/html": [
       "<div>\n",
       "<style scoped>\n",
       "    .dataframe tbody tr th:only-of-type {\n",
       "        vertical-align: middle;\n",
       "    }\n",
       "\n",
       "    .dataframe tbody tr th {\n",
       "        vertical-align: top;\n",
       "    }\n",
       "\n",
       "    .dataframe thead th {\n",
       "        text-align: right;\n",
       "    }\n",
       "</style>\n",
       "<table border=\"1\" class=\"dataframe\">\n",
       "  <thead>\n",
       "    <tr style=\"text-align: right;\">\n",
       "      <th></th>\n",
       "      <th>Size</th>\n",
       "      <th>PetType</th>\n",
       "      <th>Count</th>\n",
       "    </tr>\n",
       "  </thead>\n",
       "  <tbody>\n",
       "    <tr>\n",
       "      <th>6</th>\n",
       "      <td>Medium</td>\n",
       "      <td>Dog</td>\n",
       "      <td>133</td>\n",
       "    </tr>\n",
       "    <tr>\n",
       "      <th>5</th>\n",
       "      <td>Medium</td>\n",
       "      <td>Cat</td>\n",
       "      <td>111</td>\n",
       "    </tr>\n",
       "    <tr>\n",
       "      <th>4</th>\n",
       "      <td>Medium</td>\n",
       "      <td>Bird</td>\n",
       "      <td>110</td>\n",
       "    </tr>\n",
       "    <tr>\n",
       "      <th>7</th>\n",
       "      <td>Medium</td>\n",
       "      <td>Rabbit</td>\n",
       "      <td>91</td>\n",
       "    </tr>\n",
       "    <tr>\n",
       "      <th>10</th>\n",
       "      <td>Small</td>\n",
       "      <td>Dog</td>\n",
       "      <td>60</td>\n",
       "    </tr>\n",
       "    <tr>\n",
       "      <th>2</th>\n",
       "      <td>Large</td>\n",
       "      <td>Dog</td>\n",
       "      <td>49</td>\n",
       "    </tr>\n",
       "    <tr>\n",
       "      <th>8</th>\n",
       "      <td>Small</td>\n",
       "      <td>Bird</td>\n",
       "      <td>21</td>\n",
       "    </tr>\n",
       "    <tr>\n",
       "      <th>11</th>\n",
       "      <td>Small</td>\n",
       "      <td>Rabbit</td>\n",
       "      <td>21</td>\n",
       "    </tr>\n",
       "    <tr>\n",
       "      <th>1</th>\n",
       "      <td>Large</td>\n",
       "      <td>Cat</td>\n",
       "      <td>19</td>\n",
       "    </tr>\n",
       "    <tr>\n",
       "      <th>0</th>\n",
       "      <td>Large</td>\n",
       "      <td>Bird</td>\n",
       "      <td>16</td>\n",
       "    </tr>\n",
       "    <tr>\n",
       "      <th>9</th>\n",
       "      <td>Small</td>\n",
       "      <td>Cat</td>\n",
       "      <td>15</td>\n",
       "    </tr>\n",
       "    <tr>\n",
       "      <th>3</th>\n",
       "      <td>Large</td>\n",
       "      <td>Rabbit</td>\n",
       "      <td>13</td>\n",
       "    </tr>\n",
       "  </tbody>\n",
       "</table>\n",
       "</div>"
      ],
      "text/plain": [
       "      Size PetType  Count\n",
       "6   Medium     Dog    133\n",
       "5   Medium     Cat    111\n",
       "4   Medium    Bird    110\n",
       "7   Medium  Rabbit     91\n",
       "10   Small     Dog     60\n",
       "2    Large     Dog     49\n",
       "8    Small    Bird     21\n",
       "11   Small  Rabbit     21\n",
       "1    Large     Cat     19\n",
       "0    Large    Bird     16\n",
       "9    Small     Cat     15\n",
       "3    Large  Rabbit     13"
      ]
     },
     "execution_count": 24,
     "metadata": {},
     "output_type": "execute_result"
    }
   ],
   "source": [
    "size_a = adopted.groupby([\"Size\", \"PetType\"]).agg(Count = ('AdoptionLikelihood', 'count')).reset_index().sort_values(by = 'Count', ascending = False)\n",
    "size_a"
   ]
  },
  {
   "cell_type": "code",
   "execution_count": 25,
   "id": "c8f1dd3a",
   "metadata": {
    "execution": {
     "iopub.execute_input": "2024-07-03T14:35:47.043473Z",
     "iopub.status.busy": "2024-07-03T14:35:47.043052Z",
     "iopub.status.idle": "2024-07-03T14:35:47.351368Z",
     "shell.execute_reply": "2024-07-03T14:35:47.350234Z"
    },
    "papermill": {
     "duration": 0.335569,
     "end_time": "2024-07-03T14:35:47.353828",
     "exception": false,
     "start_time": "2024-07-03T14:35:47.018259",
     "status": "completed"
    },
    "tags": []
   },
   "outputs": [
    {
     "data": {
      "image/png": "[encoded data removed]",
      "text/plain": [
       "<Figure size 800x600 with 1 Axes>"
      ]
     },
     "metadata": {},
     "output_type": "display_data"
    }
   ],
   "source": [
    "fig = plt.figure(figsize=(8, 6))\n",
    "ax = fig.add_axes([0, 0, 1, 1])\n",
    "\n",
    "sns.barplot(size_a, x = 'Size', y = 'Count', hue = 'PetType')\n",
    "ax.set_title('Adoption Likelihood x Size and PetType', loc = 'left', fontsize = 15, pad = 10)\n",
    "ax.set_ylabel('Quantity', fontsize = 8)\n",
    "ax.set_xlabel('')\n",
    "plt.legend(title = 'PetType')\n",
    "plt.show()"
   ]
  },
  {
   "cell_type": "markdown",
   "id": "2459370e",
   "metadata": {
    "papermill": {
     "duration": 0.02359,
     "end_time": "2024-07-03T14:35:47.401070",
     "exception": false,
     "start_time": "2024-07-03T14:35:47.377480",
     "status": "completed"
    },
    "tags": []
   },
   "source": [
    "## 3.6. WeightKg"
   ]
  },
  {
   "cell_type": "code",
   "execution_count": 26,
   "id": "4fe9d66f",
   "metadata": {
    "execution": {
     "iopub.execute_input": "2024-07-03T14:35:47.450329Z",
     "iopub.status.busy": "2024-07-03T14:35:47.449920Z",
     "iopub.status.idle": "2024-07-03T14:35:47.711635Z",
     "shell.execute_reply": "2024-07-03T14:35:47.710194Z"
    },
    "papermill": {
     "duration": 0.28905,
     "end_time": "2024-07-03T14:35:47.714104",
     "exception": false,
     "start_time": "2024-07-03T14:35:47.425054",
     "status": "completed"
    },
    "tags": []
   },
   "outputs": [
    {
     "data": {
      "image/png": "[encoded data removed]",
      "text/plain": [
       "<Figure size 800x500 with 1 Axes>"
      ]
     },
     "metadata": {},
     "output_type": "display_data"
    }
   ],
   "source": [
    "fig = plt.figure(figsize=(8, 5))\n",
    "ax = fig.add_axes([0, 0, 1, 1])\n",
    "\n",
    "sns.boxplot(df, y = 'WeightKg', x = 'AdoptionLikelihood', palette = my_palette)\n",
    "ax.set_title('Adoption Likelihood x Weight – Boxplot', loc = 'left', fontsize = 15, pad = 10)\n",
    "ax.set_xlabel('Probabilidade de Adoção', fontsize = 8)\n",
    "ax.set_ylabel('Peso em kg', fontsize = 8)\n",
    "plt.show()"
   ]
  },
  {
   "cell_type": "markdown",
   "id": "dfdd663b",
   "metadata": {
    "papermill": {
     "duration": 0.02415,
     "end_time": "2024-07-03T14:35:47.762669",
     "exception": false,
     "start_time": "2024-07-03T14:35:47.738519",
     "status": "completed"
    },
    "tags": []
   },
   "source": [
    "An animal's weight can be an indicator of good health. It is important to consult with a veterinarian to get an assessment of an animal's health before adopting it, a healthy weight for an animal can vary depending on its breed, age, and sex."
   ]
  },
  {
   "cell_type": "markdown",
   "id": "ca2ddce4",
   "metadata": {
    "papermill": {
     "duration": 0.024104,
     "end_time": "2024-07-03T14:35:47.810803",
     "exception": false,
     "start_time": "2024-07-03T14:35:47.786699",
     "status": "completed"
    },
    "tags": []
   },
   "source": [
    "## 3.7. Vaccinated"
   ]
  },
  {
   "cell_type": "code",
   "execution_count": 27,
   "id": "8e1594dd",
   "metadata": {
    "execution": {
     "iopub.execute_input": "2024-07-03T14:35:47.863976Z",
     "iopub.status.busy": "2024-07-03T14:35:47.862998Z",
     "iopub.status.idle": "2024-07-03T14:35:47.883328Z",
     "shell.execute_reply": "2024-07-03T14:35:47.881479Z"
    },
    "papermill": {
     "duration": 0.051052,
     "end_time": "2024-07-03T14:35:47.886633",
     "exception": false,
     "start_time": "2024-07-03T14:35:47.835581",
     "status": "completed"
    },
    "tags": []
   },
   "outputs": [
    {
     "data": {
      "text/html": [
       "<div>\n",
       "<style scoped>\n",
       "    .dataframe tbody tr th:only-of-type {\n",
       "        vertical-align: middle;\n",
       "    }\n",
       "\n",
       "    .dataframe tbody tr th {\n",
       "        vertical-align: top;\n",
       "    }\n",
       "\n",
       "    .dataframe thead th {\n",
       "        text-align: right;\n",
       "    }\n",
       "</style>\n",
       "<table border=\"1\" class=\"dataframe\">\n",
       "  <thead>\n",
       "    <tr style=\"text-align: right;\">\n",
       "      <th></th>\n",
       "      <th>Vaccinated</th>\n",
       "      <th>Count</th>\n",
       "    </tr>\n",
       "  </thead>\n",
       "  <tbody>\n",
       "    <tr>\n",
       "      <th>0</th>\n",
       "      <td>0</td>\n",
       "      <td>600</td>\n",
       "    </tr>\n",
       "    <tr>\n",
       "      <th>1</th>\n",
       "      <td>1</td>\n",
       "      <td>1407</td>\n",
       "    </tr>\n",
       "  </tbody>\n",
       "</table>\n",
       "</div>"
      ],
      "text/plain": [
       "   Vaccinated  Count\n",
       "0           0    600\n",
       "1           1   1407"
      ]
     },
     "execution_count": 27,
     "metadata": {},
     "output_type": "execute_result"
    }
   ],
   "source": [
    "df.groupby('Vaccinated').agg(Count = ('AdoptionLikelihood', 'count')).reset_index()"
   ]
  },
  {
   "cell_type": "code",
   "execution_count": 28,
   "id": "4b1a6ed6",
   "metadata": {
    "execution": {
     "iopub.execute_input": "2024-07-03T14:35:47.937081Z",
     "iopub.status.busy": "2024-07-03T14:35:47.936682Z",
     "iopub.status.idle": "2024-07-03T14:35:47.955550Z",
     "shell.execute_reply": "2024-07-03T14:35:47.954447Z"
    },
    "papermill": {
     "duration": 0.047189,
     "end_time": "2024-07-03T14:35:47.958331",
     "exception": false,
     "start_time": "2024-07-03T14:35:47.911142",
     "status": "completed"
    },
    "tags": []
   },
   "outputs": [
    {
     "data": {
      "text/html": [
       "<div>\n",
       "<style scoped>\n",
       "    .dataframe tbody tr th:only-of-type {\n",
       "        vertical-align: middle;\n",
       "    }\n",
       "\n",
       "    .dataframe tbody tr th {\n",
       "        vertical-align: top;\n",
       "    }\n",
       "\n",
       "    .dataframe thead th {\n",
       "        text-align: right;\n",
       "    }\n",
       "</style>\n",
       "<table border=\"1\" class=\"dataframe\">\n",
       "  <thead>\n",
       "    <tr style=\"text-align: right;\">\n",
       "      <th></th>\n",
       "      <th>Vaccinated</th>\n",
       "      <th>Count</th>\n",
       "    </tr>\n",
       "  </thead>\n",
       "  <tbody>\n",
       "    <tr>\n",
       "      <th>0</th>\n",
       "      <td>0</td>\n",
       "      <td>67</td>\n",
       "    </tr>\n",
       "    <tr>\n",
       "      <th>1</th>\n",
       "      <td>1</td>\n",
       "      <td>592</td>\n",
       "    </tr>\n",
       "  </tbody>\n",
       "</table>\n",
       "</div>"
      ],
      "text/plain": [
       "   Vaccinated  Count\n",
       "0           0     67\n",
       "1           1    592"
      ]
     },
     "execution_count": 28,
     "metadata": {},
     "output_type": "execute_result"
    }
   ],
   "source": [
    "vax = adopted.groupby('Vaccinated').agg(Count = ('AdoptionLikelihood', 'count')).reset_index()\n",
    "vax"
   ]
  },
  {
   "cell_type": "code",
   "execution_count": 29,
   "id": "d0a93832",
   "metadata": {
    "execution": {
     "iopub.execute_input": "2024-07-03T14:35:48.012158Z",
     "iopub.status.busy": "2024-07-03T14:35:48.011701Z",
     "iopub.status.idle": "2024-07-03T14:35:48.277204Z",
     "shell.execute_reply": "2024-07-03T14:35:48.275894Z"
    },
    "papermill": {
     "duration": 0.295269,
     "end_time": "2024-07-03T14:35:48.279886",
     "exception": false,
     "start_time": "2024-07-03T14:35:47.984617",
     "status": "completed"
    },
    "tags": []
   },
   "outputs": [
    {
     "data": {
      "image/png": "[encoded data removed]",
      "text/plain": [
       "<Figure size 800x500 with 1 Axes>"
      ]
     },
     "metadata": {},
     "output_type": "display_data"
    }
   ],
   "source": [
    "fig = plt.figure(figsize=(8, 5))\n",
    "ax = fig.add_axes([0, 0, 1, 1])\n",
    "\n",
    "sns.barplot(vax, x = 'Vaccinated', y = 'Count')\n",
    "ax.set_title('Adoption Likelihood x Vaccination', loc = 'left', fontsize = 15, pad = 10)\n",
    "ax.set_xlabel('Vaccination Status', fontsize = 8)\n",
    "ax.set_ylabel('Quantity', fontsize = 8)\n",
    "plt.show()"
   ]
  },
  {
   "cell_type": "markdown",
   "id": "0c24654a",
   "metadata": {
    "papermill": {
     "duration": 0.026087,
     "end_time": "2024-07-03T14:35:48.332193",
     "exception": false,
     "start_time": "2024-07-03T14:35:48.306106",
     "status": "completed"
    },
    "tags": []
   },
   "source": [
    "Health has been the most important factor observed during this study, and vaccination is one of the most defining aspects of an animal's health, vaccination is essential for preventing various infectious diseases that can harm animals, some of which can be fatal."
   ]
  },
  {
   "cell_type": "markdown",
   "id": "aaa37a29",
   "metadata": {
    "papermill": {
     "duration": 0.024761,
     "end_time": "2024-07-03T14:35:48.381570",
     "exception": false,
     "start_time": "2024-07-03T14:35:48.356809",
     "status": "completed"
    },
    "tags": []
   },
   "source": [
    "## 3.8. HealthCondition"
   ]
  },
  {
   "cell_type": "code",
   "execution_count": 30,
   "id": "e9dd487b",
   "metadata": {
    "execution": {
     "iopub.execute_input": "2024-07-03T14:35:48.436975Z",
     "iopub.status.busy": "2024-07-03T14:35:48.436496Z",
     "iopub.status.idle": "2024-07-03T14:35:48.456384Z",
     "shell.execute_reply": "2024-07-03T14:35:48.455325Z"
    },
    "papermill": {
     "duration": 0.050365,
     "end_time": "2024-07-03T14:35:48.458817",
     "exception": false,
     "start_time": "2024-07-03T14:35:48.408452",
     "status": "completed"
    },
    "tags": []
   },
   "outputs": [
    {
     "data": {
      "text/html": [
       "<div>\n",
       "<style scoped>\n",
       "    .dataframe tbody tr th:only-of-type {\n",
       "        vertical-align: middle;\n",
       "    }\n",
       "\n",
       "    .dataframe tbody tr th {\n",
       "        vertical-align: top;\n",
       "    }\n",
       "\n",
       "    .dataframe thead th {\n",
       "        text-align: right;\n",
       "    }\n",
       "</style>\n",
       "<table border=\"1\" class=\"dataframe\">\n",
       "  <thead>\n",
       "    <tr style=\"text-align: right;\">\n",
       "      <th></th>\n",
       "      <th>HealthCondition</th>\n",
       "      <th>Count</th>\n",
       "    </tr>\n",
       "  </thead>\n",
       "  <tbody>\n",
       "    <tr>\n",
       "      <th>0</th>\n",
       "      <td>0</td>\n",
       "      <td>1613</td>\n",
       "    </tr>\n",
       "    <tr>\n",
       "      <th>1</th>\n",
       "      <td>1</td>\n",
       "      <td>394</td>\n",
       "    </tr>\n",
       "  </tbody>\n",
       "</table>\n",
       "</div>"
      ],
      "text/plain": [
       "   HealthCondition  Count\n",
       "0                0   1613\n",
       "1                1    394"
      ]
     },
     "execution_count": 30,
     "metadata": {},
     "output_type": "execute_result"
    }
   ],
   "source": [
    "df.groupby('HealthCondition').agg(Count = ('AdoptionLikelihood', 'count')).reset_index()"
   ]
  },
  {
   "cell_type": "code",
   "execution_count": 31,
   "id": "0a9d7c40",
   "metadata": {
    "execution": {
     "iopub.execute_input": "2024-07-03T14:35:48.511371Z",
     "iopub.status.busy": "2024-07-03T14:35:48.510970Z",
     "iopub.status.idle": "2024-07-03T14:35:48.528502Z",
     "shell.execute_reply": "2024-07-03T14:35:48.526686Z"
    },
    "papermill": {
     "duration": 0.046457,
     "end_time": "2024-07-03T14:35:48.530874",
     "exception": false,
     "start_time": "2024-07-03T14:35:48.484417",
     "status": "completed"
    },
    "tags": []
   },
   "outputs": [
    {
     "data": {
      "text/html": [
       "<div>\n",
       "<style scoped>\n",
       "    .dataframe tbody tr th:only-of-type {\n",
       "        vertical-align: middle;\n",
       "    }\n",
       "\n",
       "    .dataframe tbody tr th {\n",
       "        vertical-align: top;\n",
       "    }\n",
       "\n",
       "    .dataframe thead th {\n",
       "        text-align: right;\n",
       "    }\n",
       "</style>\n",
       "<table border=\"1\" class=\"dataframe\">\n",
       "  <thead>\n",
       "    <tr style=\"text-align: right;\">\n",
       "      <th></th>\n",
       "      <th>HealthCondition</th>\n",
       "      <th>Count</th>\n",
       "    </tr>\n",
       "  </thead>\n",
       "  <tbody>\n",
       "    <tr>\n",
       "      <th>0</th>\n",
       "      <td>0</td>\n",
       "      <td>621</td>\n",
       "    </tr>\n",
       "    <tr>\n",
       "      <th>1</th>\n",
       "      <td>1</td>\n",
       "      <td>38</td>\n",
       "    </tr>\n",
       "  </tbody>\n",
       "</table>\n",
       "</div>"
      ],
      "text/plain": [
       "   HealthCondition  Count\n",
       "0                0    621\n",
       "1                1     38"
      ]
     },
     "execution_count": 31,
     "metadata": {},
     "output_type": "execute_result"
    }
   ],
   "source": [
    "health = adopted.groupby('HealthCondition').agg(Count = ('AdoptionLikelihood', 'count')).reset_index()\n",
    "health"
   ]
  },
  {
   "cell_type": "code",
   "execution_count": 32,
   "id": "9d920eb0",
   "metadata": {
    "execution": {
     "iopub.execute_input": "2024-07-03T14:35:48.586106Z",
     "iopub.status.busy": "2024-07-03T14:35:48.585000Z",
     "iopub.status.idle": "2024-07-03T14:35:48.788320Z",
     "shell.execute_reply": "2024-07-03T14:35:48.787070Z"
    },
    "papermill": {
     "duration": 0.234789,
     "end_time": "2024-07-03T14:35:48.790782",
     "exception": false,
     "start_time": "2024-07-03T14:35:48.555993",
     "status": "completed"
    },
    "tags": []
   },
   "outputs": [
    {
     "data": {
      "image/png": "[encoded data removed]",
      "text/plain": [
       "<Figure size 800x500 with 1 Axes>"
      ]
     },
     "metadata": {},
     "output_type": "display_data"
    }
   ],
   "source": [
    "fig = plt.figure(figsize=(8, 5))\n",
    "ax = fig.add_axes([0, 0, 1, 1])\n",
    "\n",
    "sns.barplot(health, x = 'HealthCondition', y = 'Count')\n",
    "ax.set_title('Adoption Likelihood x Health Condition', loc = 'left', fontsize = 15, pad = 10)\n",
    "ax.set_xlabel('Poor Health Condition', fontsize = 8)\n",
    "ax.set_ylabel('Quantity', fontsize = 8)\n",
    "plt.show()"
   ]
  },
  {
   "cell_type": "markdown",
   "id": "b6b96c2e",
   "metadata": {
    "papermill": {
     "duration": 0.024906,
     "end_time": "2024-07-03T14:35:48.841233",
     "exception": false,
     "start_time": "2024-07-03T14:35:48.816327",
     "status": "completed"
    },
    "tags": []
   },
   "source": [
    "Individuals who adopt sick pets often have a strong passion for animals and are willing to invest the time, resources, and expertise necessary to provide the animals with the care they need. The low adoption rate of sick pets may be due to concerns about the animals' medical expenses, potential behavioral issues, and the emotional toll of caring for an unwell animal."
   ]
  },
  {
   "cell_type": "markdown",
   "id": "642ee6ba",
   "metadata": {
    "papermill": {
     "duration": 0.025276,
     "end_time": "2024-07-03T14:35:48.892386",
     "exception": false,
     "start_time": "2024-07-03T14:35:48.867110",
     "status": "completed"
    },
    "tags": []
   },
   "source": [
    "## 3.9. TimeInShelterDays"
   ]
  },
  {
   "cell_type": "code",
   "execution_count": 33,
   "id": "280754fd",
   "metadata": {
    "execution": {
     "iopub.execute_input": "2024-07-03T14:35:48.945716Z",
     "iopub.status.busy": "2024-07-03T14:35:48.945355Z",
     "iopub.status.idle": "2024-07-03T14:35:49.188675Z",
     "shell.execute_reply": "2024-07-03T14:35:49.187343Z"
    },
    "papermill": {
     "duration": 0.272838,
     "end_time": "2024-07-03T14:35:49.191441",
     "exception": false,
     "start_time": "2024-07-03T14:35:48.918603",
     "status": "completed"
    },
    "tags": []
   },
   "outputs": [
    {
     "data": {
      "image/png": "[encoded data removed]",
      "text/plain": [
       "<Figure size 800x500 with 1 Axes>"
      ]
     },
     "metadata": {},
     "output_type": "display_data"
    }
   ],
   "source": [
    "fig = plt.figure(figsize=(8, 5))\n",
    "ax = fig.add_axes([0, 0, 1, 1])\n",
    "\n",
    "sns.boxplot(df, x = 'AdoptionLikelihood', y = 'TimeInShelterDays', palette = my_palette)\n",
    "ax.set_title('Adoption Likelihood x Time in Shelter – Boxplot', loc = 'left', fontsize = 15, pad = 10)\n",
    "ax.set_xlabel('Adoption Likelihood', fontsize = 8)\n",
    "ax.set_ylabel('Time in Shelter (Days)', fontsize = 8)\n",
    "plt.show()"
   ]
  },
  {
   "cell_type": "markdown",
   "id": "2f04f33e",
   "metadata": {
    "papermill": {
     "duration": 0.02596,
     "end_time": "2024-07-03T14:35:49.245153",
     "exception": false,
     "start_time": "2024-07-03T14:35:49.219193",
     "status": "completed"
    },
    "tags": []
   },
   "source": [
    "The difference is small, but animals with more time spent in shelters have a higher probability of adoption. "
   ]
  },
  {
   "cell_type": "markdown",
   "id": "b26da946",
   "metadata": {
    "papermill": {
     "duration": 0.026393,
     "end_time": "2024-07-03T14:35:49.298005",
     "exception": false,
     "start_time": "2024-07-03T14:35:49.271612",
     "status": "completed"
    },
    "tags": []
   },
   "source": [
    "## 3.10. AdoptionFee"
   ]
  },
  {
   "cell_type": "code",
   "execution_count": 34,
   "id": "01bdf564",
   "metadata": {
    "execution": {
     "iopub.execute_input": "2024-07-03T14:35:49.351719Z",
     "iopub.status.busy": "2024-07-03T14:35:49.351314Z",
     "iopub.status.idle": "2024-07-03T14:35:49.725692Z",
     "shell.execute_reply": "2024-07-03T14:35:49.724556Z"
    },
    "papermill": {
     "duration": 0.404498,
     "end_time": "2024-07-03T14:35:49.728340",
     "exception": false,
     "start_time": "2024-07-03T14:35:49.323842",
     "status": "completed"
    },
    "tags": []
   },
   "outputs": [
    {
     "data": {
      "image/png": "[encoded data removed]",
      "text/plain": [
       "<Figure size 800x500 with 1 Axes>"
      ]
     },
     "metadata": {},
     "output_type": "display_data"
    }
   ],
   "source": [
    "fig = plt.figure(figsize=(8, 5))\n",
    "ax = fig.add_axes([0, 0, 1, 1])\n",
    "\n",
    "sns.boxplot(df, x = 'AdoptionLikelihood', y = 'AdoptionFee', palette = my_palette)\n",
    "ax.set_title('Adoption Likelihood x Adoption Fees – Boxplot', loc = 'left', fontsize = 15, pad = 10)\n",
    "ax.set_xlabel('Adoption Likelihood', fontsize = 8)\n",
    "ax.set_ylabel('Adoption Fee (USD)', fontsize = 8)\n",
    "plt.show()"
   ]
  },
  {
   "cell_type": "markdown",
   "id": "fa9eac89",
   "metadata": {
    "execution": {
     "iopub.execute_input": "2024-07-03T14:01:30.886359Z",
     "iopub.status.busy": "2024-07-03T14:01:30.885975Z",
     "iopub.status.idle": "2024-07-03T14:01:30.891949Z",
     "shell.execute_reply": "2024-07-03T14:01:30.890674Z",
     "shell.execute_reply.started": "2024-07-03T14:01:30.886329Z"
    },
    "papermill": {
     "duration": 0.026788,
     "end_time": "2024-07-03T14:35:49.781444",
     "exception": false,
     "start_time": "2024-07-03T14:35:49.754656",
     "status": "completed"
    },
    "tags": []
   },
   "source": [
    "## 3.11. PreviousOwner"
   ]
  },
  {
   "cell_type": "code",
   "execution_count": 35,
   "id": "a01eb157",
   "metadata": {
    "execution": {
     "iopub.execute_input": "2024-07-03T14:35:49.835326Z",
     "iopub.status.busy": "2024-07-03T14:35:49.834884Z",
     "iopub.status.idle": "2024-07-03T14:35:49.853648Z",
     "shell.execute_reply": "2024-07-03T14:35:49.852417Z"
    },
    "papermill": {
     "duration": 0.048436,
     "end_time": "2024-07-03T14:35:49.855945",
     "exception": false,
     "start_time": "2024-07-03T14:35:49.807509",
     "status": "completed"
    },
    "tags": []
   },
   "outputs": [
    {
     "data": {
      "text/html": [
       "<div>\n",
       "<style scoped>\n",
       "    .dataframe tbody tr th:only-of-type {\n",
       "        vertical-align: middle;\n",
       "    }\n",
       "\n",
       "    .dataframe tbody tr th {\n",
       "        vertical-align: top;\n",
       "    }\n",
       "\n",
       "    .dataframe thead th {\n",
       "        text-align: right;\n",
       "    }\n",
       "</style>\n",
       "<table border=\"1\" class=\"dataframe\">\n",
       "  <thead>\n",
       "    <tr style=\"text-align: right;\">\n",
       "      <th></th>\n",
       "      <th>PreviousOwner</th>\n",
       "      <th>Count</th>\n",
       "    </tr>\n",
       "  </thead>\n",
       "  <tbody>\n",
       "    <tr>\n",
       "      <th>0</th>\n",
       "      <td>0</td>\n",
       "      <td>1401</td>\n",
       "    </tr>\n",
       "    <tr>\n",
       "      <th>1</th>\n",
       "      <td>1</td>\n",
       "      <td>606</td>\n",
       "    </tr>\n",
       "  </tbody>\n",
       "</table>\n",
       "</div>"
      ],
      "text/plain": [
       "   PreviousOwner  Count\n",
       "0              0   1401\n",
       "1              1    606"
      ]
     },
     "execution_count": 35,
     "metadata": {},
     "output_type": "execute_result"
    }
   ],
   "source": [
    "df.groupby('PreviousOwner').agg(Count = ('AdoptionLikelihood', 'count')).reset_index()"
   ]
  },
  {
   "cell_type": "code",
   "execution_count": 36,
   "id": "918a7049",
   "metadata": {
    "execution": {
     "iopub.execute_input": "2024-07-03T14:35:49.910721Z",
     "iopub.status.busy": "2024-07-03T14:35:49.910324Z",
     "iopub.status.idle": "2024-07-03T14:35:49.927603Z",
     "shell.execute_reply": "2024-07-03T14:35:49.926480Z"
    },
    "papermill": {
     "duration": 0.047273,
     "end_time": "2024-07-03T14:35:49.929850",
     "exception": false,
     "start_time": "2024-07-03T14:35:49.882577",
     "status": "completed"
    },
    "tags": []
   },
   "outputs": [
    {
     "data": {
      "text/html": [
       "<div>\n",
       "<style scoped>\n",
       "    .dataframe tbody tr th:only-of-type {\n",
       "        vertical-align: middle;\n",
       "    }\n",
       "\n",
       "    .dataframe tbody tr th {\n",
       "        vertical-align: top;\n",
       "    }\n",
       "\n",
       "    .dataframe thead th {\n",
       "        text-align: right;\n",
       "    }\n",
       "</style>\n",
       "<table border=\"1\" class=\"dataframe\">\n",
       "  <thead>\n",
       "    <tr style=\"text-align: right;\">\n",
       "      <th></th>\n",
       "      <th>PreviousOwner</th>\n",
       "      <th>Count</th>\n",
       "    </tr>\n",
       "  </thead>\n",
       "  <tbody>\n",
       "    <tr>\n",
       "      <th>0</th>\n",
       "      <td>0</td>\n",
       "      <td>470</td>\n",
       "    </tr>\n",
       "    <tr>\n",
       "      <th>1</th>\n",
       "      <td>1</td>\n",
       "      <td>189</td>\n",
       "    </tr>\n",
       "  </tbody>\n",
       "</table>\n",
       "</div>"
      ],
      "text/plain": [
       "   PreviousOwner  Count\n",
       "0              0    470\n",
       "1              1    189"
      ]
     },
     "execution_count": 36,
     "metadata": {},
     "output_type": "execute_result"
    }
   ],
   "source": [
    "owner = adopted.groupby('PreviousOwner').agg(Count = ('AdoptionLikelihood', 'count')).reset_index()\n",
    "owner"
   ]
  },
  {
   "cell_type": "code",
   "execution_count": 37,
   "id": "1ee2f93f",
   "metadata": {
    "execution": {
     "iopub.execute_input": "2024-07-03T14:35:49.986499Z",
     "iopub.status.busy": "2024-07-03T14:35:49.985541Z",
     "iopub.status.idle": "2024-07-03T14:35:50.213938Z",
     "shell.execute_reply": "2024-07-03T14:35:50.212788Z"
    },
    "papermill": {
     "duration": 0.258719,
     "end_time": "2024-07-03T14:35:50.216151",
     "exception": false,
     "start_time": "2024-07-03T14:35:49.957432",
     "status": "completed"
    },
    "tags": []
   },
   "outputs": [
    {
     "data": {
      "image/png": "[encoded data removed]",
      "text/plain": [
       "<Figure size 800x500 with 1 Axes>"
      ]
     },
     "metadata": {},
     "output_type": "display_data"
    }
   ],
   "source": [
    "fig = plt.figure(figsize=(8, 5))\n",
    "ax = fig.add_axes([0, 0, 1, 1])\n",
    "\n",
    "sns.barplot(owner, x = 'PreviousOwner', y = 'Count')\n",
    "ax.set_title('Adoption Likelihood x Previous Owners', loc = 'left', fontsize = 15, pad = 10)\n",
    "ax.set_xlabel('Had an Owner Before?', fontsize = 8)\n",
    "ax.set_ylabel('Quantity', fontsize = 8)\n",
    "plt.show()"
   ]
  },
  {
   "cell_type": "markdown",
   "id": "049b57c0",
   "metadata": {
    "papermill": {
     "duration": 0.027295,
     "end_time": "2024-07-03T14:35:50.271252",
     "exception": false,
     "start_time": "2024-07-03T14:35:50.243957",
     "status": "completed"
    },
    "tags": []
   },
   "source": [
    "## 3.12. EDA Conclusions"
   ]
  },
  {
   "cell_type": "markdown",
   "id": "a675f7c9",
   "metadata": {
    "papermill": {
     "duration": 0.026883,
     "end_time": "2024-07-03T14:35:50.325239",
     "exception": false,
     "start_time": "2024-07-03T14:35:50.298356",
     "status": "completed"
    },
    "tags": []
   },
   "source": [
    "#### Key Factors Influencing Pet Adoption\n",
    "\n",
    "\n",
    "- **Health**: Health is a top priority for potential adopters, encompassing aspects like vaccination status, overall health history, and any pre-existing medical conditions.\n",
    "\n",
    "- **Size and Type**: Medium-sized animals, particularly dogs, tend to have higher adoption rates. Surprisingly, birds are also quite popular, often in a close tie with cats.\n",
    "\n",
    "- **Color**: White-colored animals may have lower adoption rates, possibly due to perceived challenges in maintaining cleanliness.\n",
    "\n",
    "- **Time in Shelter**: The length of time an animal has spent at a shelter doesn't seem to significantly impact adoption chances.\n",
    "\n",
    "Overall, a combination of factors influences pet adoption decisions, with health, size, type, and individual preferences playing significant roles. Responsible adoption practices and understanding the animal's needs are crucial for ensuring successful placements."
   ]
  },
  {
   "cell_type": "markdown",
   "id": "b2f30e75",
   "metadata": {
    "papermill": {
     "duration": 0.027534,
     "end_time": "2024-07-03T14:35:50.380047",
     "exception": false,
     "start_time": "2024-07-03T14:35:50.352513",
     "status": "completed"
    },
    "tags": []
   },
   "source": [
    "# 4. Predictive Model"
   ]
  },
  {
   "cell_type": "markdown",
   "id": "42e7fd92",
   "metadata": {
    "papermill": {
     "duration": 0.027436,
     "end_time": "2024-07-03T14:35:50.434598",
     "exception": false,
     "start_time": "2024-07-03T14:35:50.407162",
     "status": "completed"
    },
    "tags": []
   },
   "source": [
    "## 4.1. Pre-processing"
   ]
  },
  {
   "cell_type": "code",
   "execution_count": 38,
   "id": "0cbec061",
   "metadata": {
    "execution": {
     "iopub.execute_input": "2024-07-03T14:35:50.491418Z",
     "iopub.status.busy": "2024-07-03T14:35:50.491000Z",
     "iopub.status.idle": "2024-07-03T14:35:50.496383Z",
     "shell.execute_reply": "2024-07-03T14:35:50.495207Z"
    },
    "papermill": {
     "duration": 0.03593,
     "end_time": "2024-07-03T14:35:50.498704",
     "exception": false,
     "start_time": "2024-07-03T14:35:50.462774",
     "status": "completed"
    },
    "tags": []
   },
   "outputs": [],
   "source": [
    "features = df.columns.to_list()[1:-1]\n",
    "target = 'AdoptionLikelihood'"
   ]
  },
  {
   "cell_type": "code",
   "execution_count": 39,
   "id": "d2af0be2",
   "metadata": {
    "execution": {
     "iopub.execute_input": "2024-07-03T14:35:50.560293Z",
     "iopub.status.busy": "2024-07-03T14:35:50.559875Z",
     "iopub.status.idle": "2024-07-03T14:35:50.574804Z",
     "shell.execute_reply": "2024-07-03T14:35:50.573702Z"
    },
    "papermill": {
     "duration": 0.047631,
     "end_time": "2024-07-03T14:35:50.577524",
     "exception": false,
     "start_time": "2024-07-03T14:35:50.529893",
     "status": "completed"
    },
    "tags": []
   },
   "outputs": [
    {
     "name": "stdout",
     "output_type": "stream",
     "text": [
      "Mean Adoption Likelihood in Train:  0.3283489096573209\n",
      "Mean Adoption Likelihood in Test  0.3283582089552239\n"
     ]
    }
   ],
   "source": [
    "X_train, X_test, y_train, y_test = model_selection.train_test_split(df[features],\n",
    "                                                                    df[target],\n",
    "                                                                    test_size=0.20,\n",
    "                                                                    random_state=42,\n",
    "                                                                    stratify=df[target])\n",
    "\n",
    "print(\"Mean Adoption Likelihood in Train: \", y_train.mean())\n",
    "print(\"Mean Adoption Likelihood in Test \", y_test.mean())"
   ]
  },
  {
   "cell_type": "code",
   "execution_count": 40,
   "id": "251d1c1b",
   "metadata": {
    "execution": {
     "iopub.execute_input": "2024-07-03T14:35:50.636572Z",
     "iopub.status.busy": "2024-07-03T14:35:50.636167Z",
     "iopub.status.idle": "2024-07-03T14:35:50.642200Z",
     "shell.execute_reply": "2024-07-03T14:35:50.641194Z"
    },
    "papermill": {
     "duration": 0.036829,
     "end_time": "2024-07-03T14:35:50.644467",
     "exception": false,
     "start_time": "2024-07-03T14:35:50.607638",
     "status": "completed"
    },
    "tags": []
   },
   "outputs": [],
   "source": [
    "cat_features = X_test.select_dtypes(exclude = 'number').columns.to_list()\n",
    "num_features = X_test.select_dtypes(include = 'number').columns.to_list()"
   ]
  },
  {
   "cell_type": "code",
   "execution_count": 41,
   "id": "24dc1631",
   "metadata": {
    "execution": {
     "iopub.execute_input": "2024-07-03T14:35:50.711020Z",
     "iopub.status.busy": "2024-07-03T14:35:50.710458Z",
     "iopub.status.idle": "2024-07-03T14:35:50.718317Z",
     "shell.execute_reply": "2024-07-03T14:35:50.717021Z"
    },
    "papermill": {
     "duration": 0.048962,
     "end_time": "2024-07-03T14:35:50.721156",
     "exception": false,
     "start_time": "2024-07-03T14:35:50.672194",
     "status": "completed"
    },
    "tags": []
   },
   "outputs": [],
   "source": [
    "onehot = encoding.OneHotEncoder(variables=cat_features)\n",
    "num_imputer = imputation.MeanMedianImputer(imputation_method = 'median', variables = num_features)\n",
    "cat_imputer = imputation.CategoricalImputer(imputation_method = 'frequent', variables = cat_features)"
   ]
  },
  {
   "cell_type": "markdown",
   "id": "d91a0414",
   "metadata": {
    "papermill": {
     "duration": 0.028671,
     "end_time": "2024-07-03T14:35:50.779259",
     "exception": false,
     "start_time": "2024-07-03T14:35:50.750588",
     "status": "completed"
    },
    "tags": []
   },
   "source": [
    "## 4.2. Random Forest"
   ]
  },
  {
   "cell_type": "code",
   "execution_count": 42,
   "id": "ac84009e",
   "metadata": {
    "execution": {
     "iopub.execute_input": "2024-07-03T14:35:50.836520Z",
     "iopub.status.busy": "2024-07-03T14:35:50.836098Z",
     "iopub.status.idle": "2024-07-03T14:36:17.649632Z",
     "shell.execute_reply": "2024-07-03T14:36:17.648245Z"
    },
    "papermill": {
     "duration": 26.845105,
     "end_time": "2024-07-03T14:36:17.652313",
     "exception": false,
     "start_time": "2024-07-03T14:35:50.807208",
     "status": "completed"
    },
    "tags": []
   },
   "outputs": [
    {
     "data": {
      "text/html": [
       "<style>#sk-container-id-1 {\n",
       "  /* Definition of color scheme common for light and dark mode */\n",
       "  --sklearn-color-text: black;\n",
       "  --sklearn-color-line: gray;\n",
       "  /* Definition of color scheme for unfitted estimators */\n",
       "  --sklearn-color-unfitted-level-0: #fff5e6;\n",
       "  --sklearn-color-unfitted-level-1: #f6e4d2;\n",
       "  --sklearn-color-unfitted-level-2: #ffe0b3;\n",
       "  --sklearn-color-unfitted-level-3: chocolate;\n",
       "  /* Definition of color scheme for fitted estimators */\n",
       "  --sklearn-color-fitted-level-0: #f0f8ff;\n",
       "  --sklearn-color-fitted-level-1: #d4ebff;\n",
       "  --sklearn-color-fitted-level-2: #b3dbfd;\n",
       "  --sklearn-color-fitted-level-3: cornflowerblue;\n",
       "\n",
       "  /* Specific color for light theme */\n",
       "  --sklearn-color-text-on-default-background: var(--sg-text-color, var(--theme-code-foreground, var(--jp-content-font-color1, black)));\n",
       "  --sklearn-color-background: var(--sg-background-color, var(--theme-background, var(--jp-layout-color0, white)));\n",
       "  --sklearn-color-border-box: var(--sg-text-color, var(--theme-code-foreground, var(--jp-content-font-color1, black)));\n",
       "  --sklearn-color-icon: #696969;\n",
       "\n",
       "  @media (prefers-color-scheme: dark) {\n",
       "    /* Redefinition of color scheme for dark theme */\n",
       "    --sklearn-color-text-on-default-background: var(--sg-text-color, var(--theme-code-foreground, var(--jp-content-font-color1, white)));\n",
       "    --sklearn-color-background: var(--sg-background-color, var(--theme-background, var(--jp-layout-color0, #111)));\n",
       "    --sklearn-color-border-box: var(--sg-text-color, var(--theme-code-foreground, var(--jp-content-font-color1, white)));\n",
       "    --sklearn-color-icon: #878787;\n",
       "  }\n",
       "}\n",
       "\n",
       "#sk-container-id-1 {\n",
       "  color: var(--sklearn-color-text);\n",
       "}\n",
       "\n",
       "#sk-container-id-1 pre {\n",
       "  padding: 0;\n",
       "}\n",
       "\n",
       "#sk-container-id-1 input.sk-hidden--visually {\n",
       "  border: 0;\n",
       "  clip: rect(1px 1px 1px 1px);\n",
       "  clip: rect(1px, 1px, 1px, 1px);\n",
       "  height: 1px;\n",
       "  margin: -1px;\n",
       "  overflow: hidden;\n",
       "  padding: 0;\n",
       "  position: absolute;\n",
       "  width: 1px;\n",
       "}\n",
       "\n",
       "#sk-container-id-1 div.sk-dashed-wrapped {\n",
       "  border: 1px dashed var(--sklearn-color-line);\n",
       "  margin: 0 0.4em 0.5em 0.4em;\n",
       "  box-sizing: border-box;\n",
       "  padding-bottom: 0.4em;\n",
       "  background-color: var(--sklearn-color-background);\n",
       "}\n",
       "\n",
       "#sk-container-id-1 div.sk-container {\n",
       "  /* jupyter's `normalize.less` sets `[hidden] { display: none; }`\n",
       "     but bootstrap.min.css set `[hidden] { display: none !important; }`\n",
       "     so we also need the `!important` here to be able to override the\n",
       "     default hidden behavior on the sphinx rendered scikit-learn.org.\n",
       "     See: https://github.com/scikit-learn/scikit-learn/issues/21755 */\n",
       "  display: inline-block !important;\n",
       "  position: relative;\n",
       "}\n",
       "\n",
       "#sk-container-id-1 div.sk-text-repr-fallback {\n",
       "  display: none;\n",
       "}\n",
       "\n",
       "div.sk-parallel-item,\n",
       "div.sk-serial,\n",
       "div.sk-item {\n",
       "  /* draw centered vertical line to link estimators */\n",
       "  background-image: linear-gradient(var(--sklearn-color-text-on-default-background), var(--sklearn-color-text-on-default-background));\n",
       "  background-size: 2px 100%;\n",
       "  background-repeat: no-repeat;\n",
       "  background-position: center center;\n",
       "}\n",
       "\n",
       "/* Parallel-specific style estimator block */\n",
       "\n",
       "#sk-container-id-1 div.sk-parallel-item::after {\n",
       "  content: \"\";\n",
       "  width: 100%;\n",
       "  border-bottom: 2px solid var(--sklearn-color-text-on-default-background);\n",
       "  flex-grow: 1;\n",
       "}\n",
       "\n",
       "#sk-container-id-1 div.sk-parallel {\n",
       "  display: flex;\n",
       "  align-items: stretch;\n",
       "  justify-content: center;\n",
       "  background-color: var(--sklearn-color-background);\n",
       "  position: relative;\n",
       "}\n",
       "\n",
       "#sk-container-id-1 div.sk-parallel-item {\n",
       "  display: flex;\n",
       "  flex-direction: column;\n",
       "}\n",
       "\n",
       "#sk-container-id-1 div.sk-parallel-item:first-child::after {\n",
       "  align-self: flex-end;\n",
       "  width: 50%;\n",
       "}\n",
       "\n",
       "#sk-container-id-1 div.sk-parallel-item:last-child::after {\n",
       "  align-self: flex-start;\n",
       "  width: 50%;\n",
       "}\n",
       "\n",
       "#sk-container-id-1 div.sk-parallel-item:only-child::after {\n",
       "  width: 0;\n",
       "}\n",
       "\n",
       "/* Serial-specific style estimator block */\n",
       "\n",
       "#sk-container-id-1 div.sk-serial {\n",
       "  display: flex;\n",
       "  flex-direction: column;\n",
       "  align-items: center;\n",
       "  background-color: var(--sklearn-color-background);\n",
       "  padding-right: 1em;\n",
       "  padding-left: 1em;\n",
       "}\n",
       "\n",
       "\n",
       "/* Toggleable style: style used for estimator/Pipeline/ColumnTransformer box that is\n",
       "clickable and can be expanded/collapsed.\n",
       "- Pipeline and ColumnTransformer use this feature and define the default style\n",
       "- Estimators will overwrite some part of the style using the `sk-estimator` class\n",
       "*/\n",
       "\n",
       "/* Pipeline and ColumnTransformer style (default) */\n",
       "\n",
       "#sk-container-id-1 div.sk-toggleable {\n",
       "  /* Default theme specific background. It is overwritten whether we have a\n",
       "  specific estimator or a Pipeline/ColumnTransformer */\n",
       "  background-color: var(--sklearn-color-background);\n",
       "}\n",
       "\n",
       "/* Toggleable label */\n",
       "#sk-container-id-1 label.sk-toggleable__label {\n",
       "  cursor: pointer;\n",
       "  display: block;\n",
       "  width: 100%;\n",
       "  margin-bottom: 0;\n",
       "  padding: 0.5em;\n",
       "  box-sizing: border-box;\n",
       "  text-align: center;\n",
       "}\n",
       "\n",
       "#sk-container-id-1 label.sk-toggleable__label-arrow:before {\n",
       "  /* Arrow on the left of the label */\n",
       "  content: \"▸\";\n",
       "  float: left;\n",
       "  margin-right: 0.25em;\n",
       "  color: var(--sklearn-color-icon);\n",
       "}\n",
       "\n",
       "#sk-container-id-1 label.sk-toggleable__label-arrow:hover:before {\n",
       "  color: var(--sklearn-color-text);\n",
       "}\n",
       "\n",
       "/* Toggleable content - dropdown */\n",
       "\n",
       "#sk-container-id-1 div.sk-toggleable__content {\n",
       "  max-height: 0;\n",
       "  max-width: 0;\n",
       "  overflow: hidden;\n",
       "  text-align: left;\n",
       "  /* unfitted */\n",
       "  background-color: var(--sklearn-color-unfitted-level-0);\n",
       "}\n",
       "\n",
       "#sk-container-id-1 div.sk-toggleable__content.fitted {\n",
       "  /* fitted */\n",
       "  background-color: var(--sklearn-color-fitted-level-0);\n",
       "}\n",
       "\n",
       "#sk-container-id-1 div.sk-toggleable__content pre {\n",
       "  margin: 0.2em;\n",
       "  border-radius: 0.25em;\n",
       "  color: var(--sklearn-color-text);\n",
       "  /* unfitted */\n",
       "  background-color: var(--sklearn-color-unfitted-level-0);\n",
       "}\n",
       "\n",
       "#sk-container-id-1 div.sk-toggleable__content.fitted pre {\n",
       "  /* unfitted */\n",
       "  background-color: var(--sklearn-color-fitted-level-0);\n",
       "}\n",
       "\n",
       "#sk-container-id-1 input.sk-toggleable__control:checked~div.sk-toggleable__content {\n",
       "  /* Expand drop-down */\n",
       "  max-height: 200px;\n",
       "  max-width: 100%;\n",
       "  overflow: auto;\n",
       "}\n",
       "\n",
       "#sk-container-id-1 input.sk-toggleable__control:checked~label.sk-toggleable__label-arrow:before {\n",
       "  content: \"▾\";\n",
       "}\n",
       "\n",
       "/* Pipeline/ColumnTransformer-specific style */\n",
       "\n",
       "#sk-container-id-1 div.sk-label input.sk-toggleable__control:checked~label.sk-toggleable__label {\n",
       "  color: var(--sklearn-color-text);\n",
       "  background-color: var(--sklearn-color-unfitted-level-2);\n",
       "}\n",
       "\n",
       "#sk-container-id-1 div.sk-label.fitted input.sk-toggleable__control:checked~label.sk-toggleable__label {\n",
       "  background-color: var(--sklearn-color-fitted-level-2);\n",
       "}\n",
       "\n",
       "/* Estimator-specific style */\n",
       "\n",
       "/* Colorize estimator box */\n",
       "#sk-container-id-1 div.sk-estimator input.sk-toggleable__control:checked~label.sk-toggleable__label {\n",
       "  /* unfitted */\n",
       "  background-color: var(--sklearn-color-unfitted-level-2);\n",
       "}\n",
       "\n",
       "#sk-container-id-1 div.sk-estimator.fitted input.sk-toggleable__control:checked~label.sk-toggleable__label {\n",
       "  /* fitted */\n",
       "  background-color: var(--sklearn-color-fitted-level-2);\n",
       "}\n",
       "\n",
       "#sk-container-id-1 div.sk-label label.sk-toggleable__label,\n",
       "#sk-container-id-1 div.sk-label label {\n",
       "  /* The background is the default theme color */\n",
       "  color: var(--sklearn-color-text-on-default-background);\n",
       "}\n",
       "\n",
       "/* On hover, darken the color of the background */\n",
       "#sk-container-id-1 div.sk-label:hover label.sk-toggleable__label {\n",
       "  color: var(--sklearn-color-text);\n",
       "  background-color: var(--sklearn-color-unfitted-level-2);\n",
       "}\n",
       "\n",
       "/* Label box, darken color on hover, fitted */\n",
       "#sk-container-id-1 div.sk-label.fitted:hover label.sk-toggleable__label.fitted {\n",
       "  color: var(--sklearn-color-text);\n",
       "  background-color: var(--sklearn-color-fitted-level-2);\n",
       "}\n",
       "\n",
       "/* Estimator label */\n",
       "\n",
       "#sk-container-id-1 div.sk-label label {\n",
       "  font-family: monospace;\n",
       "  font-weight: bold;\n",
       "  display: inline-block;\n",
       "  line-height: 1.2em;\n",
       "}\n",
       "\n",
       "#sk-container-id-1 div.sk-label-container {\n",
       "  text-align: center;\n",
       "}\n",
       "\n",
       "/* Estimator-specific */\n",
       "#sk-container-id-1 div.sk-estimator {\n",
       "  font-family: monospace;\n",
       "  border: 1px dotted var(--sklearn-color-border-box);\n",
       "  border-radius: 0.25em;\n",
       "  box-sizing: border-box;\n",
       "  margin-bottom: 0.5em;\n",
       "  /* unfitted */\n",
       "  background-color: var(--sklearn-color-unfitted-level-0);\n",
       "}\n",
       "\n",
       "#sk-container-id-1 div.sk-estimator.fitted {\n",
       "  /* fitted */\n",
       "  background-color: var(--sklearn-color-fitted-level-0);\n",
       "}\n",
       "\n",
       "/* on hover */\n",
       "#sk-container-id-1 div.sk-estimator:hover {\n",
       "  /* unfitted */\n",
       "  background-color: var(--sklearn-color-unfitted-level-2);\n",
       "}\n",
       "\n",
       "#sk-container-id-1 div.sk-estimator.fitted:hover {\n",
       "  /* fitted */\n",
       "  background-color: var(--sklearn-color-fitted-level-2);\n",
       "}\n",
       "\n",
       "/* Specification for estimator info (e.g. \"i\" and \"?\") */\n",
       "\n",
       "/* Common style for \"i\" and \"?\" */\n",
       "\n",
       ".sk-estimator-doc-link,\n",
       "a:link.sk-estimator-doc-link,\n",
       "a:visited.sk-estimator-doc-link {\n",
       "  float: right;\n",
       "  font-size: smaller;\n",
       "  line-height: 1em;\n",
       "  font-family: monospace;\n",
       "  background-color: var(--sklearn-color-background);\n",
       "  border-radius: 1em;\n",
       "  height: 1em;\n",
       "  width: 1em;\n",
       "  text-decoration: none !important;\n",
       "  margin-left: 1ex;\n",
       "  /* unfitted */\n",
       "  border: var(--sklearn-color-unfitted-level-1) 1pt solid;\n",
       "  color: var(--sklearn-color-unfitted-level-1);\n",
       "}\n",
       "\n",
       ".sk-estimator-doc-link.fitted,\n",
       "a:link.sk-estimator-doc-link.fitted,\n",
       "a:visited.sk-estimator-doc-link.fitted {\n",
       "  /* fitted */\n",
       "  border: var(--sklearn-color-fitted-level-1) 1pt solid;\n",
       "  color: var(--sklearn-color-fitted-level-1);\n",
       "}\n",
       "\n",
       "/* On hover */\n",
       "div.sk-estimator:hover .sk-estimator-doc-link:hover,\n",
       ".sk-estimator-doc-link:hover,\n",
       "div.sk-label-container:hover .sk-estimator-doc-link:hover,\n",
       ".sk-estimator-doc-link:hover {\n",
       "  /* unfitted */\n",
       "  background-color: var(--sklearn-color-unfitted-level-3);\n",
       "  color: var(--sklearn-color-background);\n",
       "  text-decoration: none;\n",
       "}\n",
       "\n",
       "div.sk-estimator.fitted:hover .sk-estimator-doc-link.fitted:hover,\n",
       ".sk-estimator-doc-link.fitted:hover,\n",
       "div.sk-label-container:hover .sk-estimator-doc-link.fitted:hover,\n",
       ".sk-estimator-doc-link.fitted:hover {\n",
       "  /* fitted */\n",
       "  background-color: var(--sklearn-color-fitted-level-3);\n",
       "  color: var(--sklearn-color-background);\n",
       "  text-decoration: none;\n",
       "}\n",
       "\n",
       "/* Span, style for the box shown on hovering the info icon */\n",
       ".sk-estimator-doc-link span {\n",
       "  display: none;\n",
       "  z-index: 9999;\n",
       "  position: relative;\n",
       "  font-weight: normal;\n",
       "  right: .2ex;\n",
       "  padding: .5ex;\n",
       "  margin: .5ex;\n",
       "  width: min-content;\n",
       "  min-width: 20ex;\n",
       "  max-width: 50ex;\n",
       "  color: var(--sklearn-color-text);\n",
       "  box-shadow: 2pt 2pt 4pt #999;\n",
       "  /* unfitted */\n",
       "  background: var(--sklearn-color-unfitted-level-0);\n",
       "  border: .5pt solid var(--sklearn-color-unfitted-level-3);\n",
       "}\n",
       "\n",
       ".sk-estimator-doc-link.fitted span {\n",
       "  /* fitted */\n",
       "  background: var(--sklearn-color-fitted-level-0);\n",
       "  border: var(--sklearn-color-fitted-level-3);\n",
       "}\n",
       "\n",
       ".sk-estimator-doc-link:hover span {\n",
       "  display: block;\n",
       "}\n",
       "\n",
       "/* \"?\"-specific style due to the `<a>` HTML tag */\n",
       "\n",
       "#sk-container-id-1 a.estimator_doc_link {\n",
       "  float: right;\n",
       "  font-size: 1rem;\n",
       "  line-height: 1em;\n",
       "  font-family: monospace;\n",
       "  background-color: var(--sklearn-color-background);\n",
       "  border-radius: 1rem;\n",
       "  height: 1rem;\n",
       "  width: 1rem;\n",
       "  text-decoration: none;\n",
       "  /* unfitted */\n",
       "  color: var(--sklearn-color-unfitted-level-1);\n",
       "  border: var(--sklearn-color-unfitted-level-1) 1pt solid;\n",
       "}\n",
       "\n",
       "#sk-container-id-1 a.estimator_doc_link.fitted {\n",
       "  /* fitted */\n",
       "  border: var(--sklearn-color-fitted-level-1) 1pt solid;\n",
       "  color: var(--sklearn-color-fitted-level-1);\n",
       "}\n",
       "\n",
       "/* On hover */\n",
       "#sk-container-id-1 a.estimator_doc_link:hover {\n",
       "  /* unfitted */\n",
       "  background-color: var(--sklearn-color-unfitted-level-3);\n",
       "  color: var(--sklearn-color-background);\n",
       "  text-decoration: none;\n",
       "}\n",
       "\n",
       "#sk-container-id-1 a.estimator_doc_link.fitted:hover {\n",
       "  /* fitted */\n",
       "  background-color: var(--sklearn-color-fitted-level-3);\n",
       "}\n",
       "</style><div id=\"sk-container-id-1\" class=\"sk-top-container\"><div class=\"sk-text-repr-fallback\"><pre>Pipeline(steps=[(&#x27;imp_1&#x27;,\n",
       "                 MeanMedianImputer(variables=[&#x27;AgeMonths&#x27;, &#x27;WeightKg&#x27;,\n",
       "                                              &#x27;Vaccinated&#x27;, &#x27;HealthCondition&#x27;,\n",
       "                                              &#x27;TimeInShelterDays&#x27;,\n",
       "                                              &#x27;AdoptionFee&#x27;,\n",
       "                                              &#x27;PreviousOwner&#x27;])),\n",
       "                (&#x27;imp_2&#x27;,\n",
       "                 CategoricalImputer(imputation_method=&#x27;frequent&#x27;,\n",
       "                                    variables=[&#x27;PetType&#x27;, &#x27;Breed&#x27;, &#x27;Color&#x27;,\n",
       "                                               &#x27;Size&#x27;])),\n",
       "                (&#x27;ohe&#x27;,\n",
       "                 OneHotEncoder(variables=[&#x27;PetType&#x27;, &#x27;Breed&#x27;, &#x27;Color&#x27;,\n",
       "                                          &#x27;Size&#x27;])),\n",
       "                (&#x27;model&#x27;,\n",
       "                 GridSearchCV(cv=5,\n",
       "                              estimator=RandomForestClassifier(random_state=42),\n",
       "                              n_jobs=-1,\n",
       "                              param_grid={&#x27;min_samples_leaf&#x27;: [10, 20, 30, 50,\n",
       "                                                               100],\n",
       "                                          &#x27;n_estimators&#x27;: [100, 150, 250, 500]},\n",
       "                              scoring=&#x27;roc_auc&#x27;))])</pre><b>In a Jupyter environment, please rerun this cell to show the HTML representation or trust the notebook. <br />On GitHub, the HTML representation is unable to render, please try loading this page with nbviewer.org.</b></div><div class=\"sk-container\" hidden><div class=\"sk-item sk-dashed-wrapped\"><div class=\"sk-label-container\"><div class=\"sk-label fitted sk-toggleable\"><input class=\"sk-toggleable__control sk-hidden--visually\" id=\"sk-estimator-id-1\" type=\"checkbox\" ><label for=\"sk-estimator-id-1\" class=\"sk-toggleable__label fitted sk-toggleable__label-arrow fitted\">&nbsp;&nbsp;Pipeline<a class=\"sk-estimator-doc-link fitted\" rel=\"noreferrer\" target=\"_blank\" href=\"https://scikit-learn.org/1.5/modules/generated/sklearn.pipeline.Pipeline.html\">?<span>Documentation for Pipeline</span></a><span class=\"sk-estimator-doc-link fitted\">i<span>Fitted</span></span></label><div class=\"sk-toggleable__content fitted\"><pre>Pipeline(steps=[(&#x27;imp_1&#x27;,\n",
       "                 MeanMedianImputer(variables=[&#x27;AgeMonths&#x27;, &#x27;WeightKg&#x27;,\n",
       "                                              &#x27;Vaccinated&#x27;, &#x27;HealthCondition&#x27;,\n",
       "                                              &#x27;TimeInShelterDays&#x27;,\n",
       "                                              &#x27;AdoptionFee&#x27;,\n",
       "                                              &#x27;PreviousOwner&#x27;])),\n",
       "                (&#x27;imp_2&#x27;,\n",
       "                 CategoricalImputer(imputation_method=&#x27;frequent&#x27;,\n",
       "                                    variables=[&#x27;PetType&#x27;, &#x27;Breed&#x27;, &#x27;Color&#x27;,\n",
       "                                               &#x27;Size&#x27;])),\n",
       "                (&#x27;ohe&#x27;,\n",
       "                 OneHotEncoder(variables=[&#x27;PetType&#x27;, &#x27;Breed&#x27;, &#x27;Color&#x27;,\n",
       "                                          &#x27;Size&#x27;])),\n",
       "                (&#x27;model&#x27;,\n",
       "                 GridSearchCV(cv=5,\n",
       "                              estimator=RandomForestClassifier(random_state=42),\n",
       "                              n_jobs=-1,\n",
       "                              param_grid={&#x27;min_samples_leaf&#x27;: [10, 20, 30, 50,\n",
       "                                                               100],\n",
       "                                          &#x27;n_estimators&#x27;: [100, 150, 250, 500]},\n",
       "                              scoring=&#x27;roc_auc&#x27;))])</pre></div> </div></div><div class=\"sk-serial\"><div class=\"sk-item\"><div class=\"sk-estimator fitted sk-toggleable\"><input class=\"sk-toggleable__control sk-hidden--visually\" id=\"sk-estimator-id-2\" type=\"checkbox\" ><label for=\"sk-estimator-id-2\" class=\"sk-toggleable__label fitted sk-toggleable__label-arrow fitted\">MeanMedianImputer</label><div class=\"sk-toggleable__content fitted\"><pre>MeanMedianImputer(variables=[&#x27;AgeMonths&#x27;, &#x27;WeightKg&#x27;, &#x27;Vaccinated&#x27;,\n",
       "                             &#x27;HealthCondition&#x27;, &#x27;TimeInShelterDays&#x27;,\n",
       "                             &#x27;AdoptionFee&#x27;, &#x27;PreviousOwner&#x27;])</pre></div> </div></div><div class=\"sk-item\"><div class=\"sk-estimator fitted sk-toggleable\"><input class=\"sk-toggleable__control sk-hidden--visually\" id=\"sk-estimator-id-3\" type=\"checkbox\" ><label for=\"sk-estimator-id-3\" class=\"sk-toggleable__label fitted sk-toggleable__label-arrow fitted\">CategoricalImputer</label><div class=\"sk-toggleable__content fitted\"><pre>CategoricalImputer(imputation_method=&#x27;frequent&#x27;,\n",
       "                   variables=[&#x27;PetType&#x27;, &#x27;Breed&#x27;, &#x27;Color&#x27;, &#x27;Size&#x27;])</pre></div> </div></div><div class=\"sk-item\"><div class=\"sk-estimator fitted sk-toggleable\"><input class=\"sk-toggleable__control sk-hidden--visually\" id=\"sk-estimator-id-4\" type=\"checkbox\" ><label for=\"sk-estimator-id-4\" class=\"sk-toggleable__label fitted sk-toggleable__label-arrow fitted\">OneHotEncoder</label><div class=\"sk-toggleable__content fitted\"><pre>OneHotEncoder(variables=[&#x27;PetType&#x27;, &#x27;Breed&#x27;, &#x27;Color&#x27;, &#x27;Size&#x27;])</pre></div> </div></div><div class=\"sk-item sk-dashed-wrapped\"><div class=\"sk-label-container\"><div class=\"sk-label fitted sk-toggleable\"><input class=\"sk-toggleable__control sk-hidden--visually\" id=\"sk-estimator-id-5\" type=\"checkbox\" ><label for=\"sk-estimator-id-5\" class=\"sk-toggleable__label fitted sk-toggleable__label-arrow fitted\">&nbsp;model: GridSearchCV<a class=\"sk-estimator-doc-link fitted\" rel=\"noreferrer\" target=\"_blank\" href=\"https://scikit-learn.org/1.5/modules/generated/sklearn.model_selection.GridSearchCV.html\">?<span>Documentation for model: GridSearchCV</span></a></label><div class=\"sk-toggleable__content fitted\"><pre>GridSearchCV(cv=5, estimator=RandomForestClassifier(random_state=42), n_jobs=-1,\n",
       "             param_grid={&#x27;min_samples_leaf&#x27;: [10, 20, 30, 50, 100],\n",
       "                         &#x27;n_estimators&#x27;: [100, 150, 250, 500]},\n",
       "             scoring=&#x27;roc_auc&#x27;)</pre></div> </div></div><div class=\"sk-parallel\"><div class=\"sk-parallel-item\"><div class=\"sk-item\"><div class=\"sk-label-container\"><div class=\"sk-label fitted sk-toggleable\"><input class=\"sk-toggleable__control sk-hidden--visually\" id=\"sk-estimator-id-6\" type=\"checkbox\" ><label for=\"sk-estimator-id-6\" class=\"sk-toggleable__label fitted sk-toggleable__label-arrow fitted\">best_estimator_: RandomForestClassifier</label><div class=\"sk-toggleable__content fitted\"><pre>RandomForestClassifier(min_samples_leaf=10, n_estimators=150, random_state=42)</pre></div> </div></div><div class=\"sk-serial\"><div class=\"sk-item\"><div class=\"sk-estimator fitted sk-toggleable\"><input class=\"sk-toggleable__control sk-hidden--visually\" id=\"sk-estimator-id-7\" type=\"checkbox\" ><label for=\"sk-estimator-id-7\" class=\"sk-toggleable__label fitted sk-toggleable__label-arrow fitted\">&nbsp;RandomForestClassifier<a class=\"sk-estimator-doc-link fitted\" rel=\"noreferrer\" target=\"_blank\" href=\"https://scikit-learn.org/1.5/modules/generated/sklearn.ensemble.RandomForestClassifier.html\">?<span>Documentation for RandomForestClassifier</span></a></label><div class=\"sk-toggleable__content fitted\"><pre>RandomForestClassifier(min_samples_leaf=10, n_estimators=150, random_state=42)</pre></div> </div></div></div></div></div></div></div></div></div></div></div>"
      ],
      "text/plain": [
       "Pipeline(steps=[('imp_1',\n",
       "                 MeanMedianImputer(variables=['AgeMonths', 'WeightKg',\n",
       "                                              'Vaccinated', 'HealthCondition',\n",
       "                                              'TimeInShelterDays',\n",
       "                                              'AdoptionFee',\n",
       "                                              'PreviousOwner'])),\n",
       "                ('imp_2',\n",
       "                 CategoricalImputer(imputation_method='frequent',\n",
       "                                    variables=['PetType', 'Breed', 'Color',\n",
       "                                               'Size'])),\n",
       "                ('ohe',\n",
       "                 OneHotEncoder(variables=['PetType', 'Breed', 'Color',\n",
       "                                          'Size'])),\n",
       "                ('model',\n",
       "                 GridSearchCV(cv=5,\n",
       "                              estimator=RandomForestClassifier(random_state=42),\n",
       "                              n_jobs=-1,\n",
       "                              param_grid={'min_samples_leaf': [10, 20, 30, 50,\n",
       "                                                               100],\n",
       "                                          'n_estimators': [100, 150, 250, 500]},\n",
       "                              scoring='roc_auc'))])"
      ]
     },
     "execution_count": 42,
     "metadata": {},
     "output_type": "execute_result"
    }
   ],
   "source": [
    "model = ensemble.RandomForestClassifier(random_state=42)\n",
    "\n",
    "params = {\n",
    "    'n_estimators': [100, 150, 250, 500],\n",
    "    'min_samples_leaf': [10, 20, 30, 50, 100]\n",
    "}\n",
    "\n",
    "grid = model_selection.GridSearchCV(model, \n",
    "                                    param_grid = params,\n",
    "                                    n_jobs=-1,\n",
    "                                    cv = 5,\n",
    "                                    scoring = \"roc_auc\")\n",
    "\n",
    "rf = pipeline.Pipeline([\n",
    "    ('imp_1', num_imputer),\n",
    "    ('imp_2', cat_imputer),\n",
    "    ('ohe', onehot),\n",
    "    ('model', grid)\n",
    "])\n",
    "\n",
    "rf.fit(X_train, y_train)"
   ]
  },
  {
   "cell_type": "code",
   "execution_count": 43,
   "id": "f3d9e6ee",
   "metadata": {
    "execution": {
     "iopub.execute_input": "2024-07-03T14:36:17.711259Z",
     "iopub.status.busy": "2024-07-03T14:36:17.710776Z",
     "iopub.status.idle": "2024-07-03T14:36:17.925837Z",
     "shell.execute_reply": "2024-07-03T14:36:17.924594Z"
    },
    "papermill": {
     "duration": 0.248167,
     "end_time": "2024-07-03T14:36:17.928508",
     "exception": false,
     "start_time": "2024-07-03T14:36:17.680341",
     "status": "completed"
    },
    "tags": []
   },
   "outputs": [],
   "source": [
    "y_train_predict = rf.predict(X_train)\n",
    "y_train_proba = rf.predict_proba(X_train)[:,1]\n",
    "\n",
    "y_test_predict = rf.predict(X_test)\n",
    "y_test_proba = rf.predict_proba(X_test)[:,1]"
   ]
  },
  {
   "cell_type": "code",
   "execution_count": 44,
   "id": "8db7f59a",
   "metadata": {
    "execution": {
     "iopub.execute_input": "2024-07-03T14:36:17.985992Z",
     "iopub.status.busy": "2024-07-03T14:36:17.985619Z",
     "iopub.status.idle": "2024-07-03T14:36:18.003642Z",
     "shell.execute_reply": "2024-07-03T14:36:18.002528Z"
    },
    "papermill": {
     "duration": 0.049632,
     "end_time": "2024-07-03T14:36:18.006416",
     "exception": false,
     "start_time": "2024-07-03T14:36:17.956784",
     "status": "completed"
    },
    "tags": []
   },
   "outputs": [
    {
     "name": "stdout",
     "output_type": "stream",
     "text": [
      "Accuracy in Train: 0.9495327102803738\n",
      "Accuracy in Test: 0.9129353233830846\n",
      "AUC in Train: 0.9668213326386274\n",
      "AUC in Test: 0.9207912457912458\n",
      "3.6597% difference between Train and Test Accuracy\n",
      "4.603% difference between Train and Test AUC\n"
     ]
    }
   ],
   "source": [
    "acc_train = metrics.accuracy_score(y_train, y_train_predict)\n",
    "acc_test = metrics.accuracy_score(y_test, y_test_predict)\n",
    "print(f\"Accuracy in Train: {acc_train}\")\n",
    "print(f\"Accuracy in Test: {acc_test}\")\n",
    "\n",
    "auc_train = metrics.roc_auc_score(y_train, y_train_proba)\n",
    "auc_test = metrics.roc_auc_score(y_test, y_test_proba)\n",
    "print(f\"AUC in Train: {auc_train}\")\n",
    "print(f\"AUC in Test: {auc_test}\")\n",
    "\n",
    "acc_diff = (acc_train - acc_test) * 100\n",
    "auc_diff = (auc_train - auc_test) * 100\n",
    "print(f\"{round(acc_diff, 4)}% difference between Train and Test Accuracy\")\n",
    "print(f\"{round(auc_diff, 4)}% difference between Train and Test AUC\")"
   ]
  },
  {
   "cell_type": "code",
   "execution_count": 45,
   "id": "b56f5b04",
   "metadata": {
    "execution": {
     "iopub.execute_input": "2024-07-03T14:36:18.067608Z",
     "iopub.status.busy": "2024-07-03T14:36:18.067185Z",
     "iopub.status.idle": "2024-07-03T14:36:18.366578Z",
     "shell.execute_reply": "2024-07-03T14:36:18.365357Z"
    },
    "papermill": {
     "duration": 0.333163,
     "end_time": "2024-07-03T14:36:18.369104",
     "exception": false,
     "start_time": "2024-07-03T14:36:18.035941",
     "status": "completed"
    },
    "tags": []
   },
   "outputs": [
    {
     "data": {
      "image/png": "[encoded data removed]",
      "text/plain": [
       "<Figure size 800x600 with 1 Axes>"
      ]
     },
     "metadata": {},
     "output_type": "display_data"
    }
   ],
   "source": [
    "fig = plt.figure(figsize = (8, 6))\n",
    "ax = fig.add_axes([0, 0, 1, 1])\n",
    "\n",
    "roc_curve = metrics.roc_curve(y_test, y_test_proba)\n",
    "plt.plot(roc_curve[0], roc_curve[1] )\n",
    "plt.grid(True)\n",
    "plt.plot([0,1], [0,1], '--')\n",
    "ax.set_title('Random Forest ROC Curve', loc = 'left', fontsize = 15, pad = 10)\n",
    "ax.set_xlabel('False Positive', fontsize = 8)\n",
    "ax.set_ylabel('True Positive', fontsize = 8)\n",
    "plt.show()"
   ]
  },
  {
   "cell_type": "markdown",
   "id": "d492024e",
   "metadata": {
    "papermill": {
     "duration": 0.028647,
     "end_time": "2024-07-03T14:36:18.427274",
     "exception": false,
     "start_time": "2024-07-03T14:36:18.398627",
     "status": "completed"
    },
    "tags": []
   },
   "source": [
    "## 4.3. DecisionTree"
   ]
  },
  {
   "cell_type": "code",
   "execution_count": 46,
   "id": "bf4177fc",
   "metadata": {
    "execution": {
     "iopub.execute_input": "2024-07-03T14:36:18.488146Z",
     "iopub.status.busy": "2024-07-03T14:36:18.487731Z",
     "iopub.status.idle": "2024-07-03T14:36:19.664511Z",
     "shell.execute_reply": "2024-07-03T14:36:19.663234Z"
    },
    "papermill": {
     "duration": 1.212026,
     "end_time": "2024-07-03T14:36:19.667715",
     "exception": false,
     "start_time": "2024-07-03T14:36:18.455689",
     "status": "completed"
    },
    "tags": []
   },
   "outputs": [
    {
     "data": {
      "text/html": [
       "<style>#sk-container-id-2 {\n",
       "  /* Definition of color scheme common for light and dark mode */\n",
       "  --sklearn-color-text: black;\n",
       "  --sklearn-color-line: gray;\n",
       "  /* Definition of color scheme for unfitted estimators */\n",
       "  --sklearn-color-unfitted-level-0: #fff5e6;\n",
       "  --sklearn-color-unfitted-level-1: #f6e4d2;\n",
       "  --sklearn-color-unfitted-level-2: #ffe0b3;\n",
       "  --sklearn-color-unfitted-level-3: chocolate;\n",
       "  /* Definition of color scheme for fitted estimators */\n",
       "  --sklearn-color-fitted-level-0: #f0f8ff;\n",
       "  --sklearn-color-fitted-level-1: #d4ebff;\n",
       "  --sklearn-color-fitted-level-2: #b3dbfd;\n",
       "  --sklearn-color-fitted-level-3: cornflowerblue;\n",
       "\n",
       "  /* Specific color for light theme */\n",
       "  --sklearn-color-text-on-default-background: var(--sg-text-color, var(--theme-code-foreground, var(--jp-content-font-color1, black)));\n",
       "  --sklearn-color-background: var(--sg-background-color, var(--theme-background, var(--jp-layout-color0, white)));\n",
       "  --sklearn-color-border-box: var(--sg-text-color, var(--theme-code-foreground, var(--jp-content-font-color1, black)));\n",
       "  --sklearn-color-icon: #696969;\n",
       "\n",
       "  @media (prefers-color-scheme: dark) {\n",
       "    /* Redefinition of color scheme for dark theme */\n",
       "    --sklearn-color-text-on-default-background: var(--sg-text-color, var(--theme-code-foreground, var(--jp-content-font-color1, white)));\n",
       "    --sklearn-color-background: var(--sg-background-color, var(--theme-background, var(--jp-layout-color0, #111)));\n",
       "    --sklearn-color-border-box: var(--sg-text-color, var(--theme-code-foreground, var(--jp-content-font-color1, white)));\n",
       "    --sklearn-color-icon: #878787;\n",
       "  }\n",
       "}\n",
       "\n",
       "#sk-container-id-2 {\n",
       "  color: var(--sklearn-color-text);\n",
       "}\n",
       "\n",
       "#sk-container-id-2 pre {\n",
       "  padding: 0;\n",
       "}\n",
       "\n",
       "#sk-container-id-2 input.sk-hidden--visually {\n",
       "  border: 0;\n",
       "  clip: rect(1px 1px 1px 1px);\n",
       "  clip: rect(1px, 1px, 1px, 1px);\n",
       "  height: 1px;\n",
       "  margin: -1px;\n",
       "  overflow: hidden;\n",
       "  padding: 0;\n",
       "  position: absolute;\n",
       "  width: 1px;\n",
       "}\n",
       "\n",
       "#sk-container-id-2 div.sk-dashed-wrapped {\n",
       "  border: 1px dashed var(--sklearn-color-line);\n",
       "  margin: 0 0.4em 0.5em 0.4em;\n",
       "  box-sizing: border-box;\n",
       "  padding-bottom: 0.4em;\n",
       "  background-color: var(--sklearn-color-background);\n",
       "}\n",
       "\n",
       "#sk-container-id-2 div.sk-container {\n",
       "  /* jupyter's `normalize.less` sets `[hidden] { display: none; }`\n",
       "     but bootstrap.min.css set `[hidden] { display: none !important; }`\n",
       "     so we also need the `!important` here to be able to override the\n",
       "     default hidden behavior on the sphinx rendered scikit-learn.org.\n",
       "     See: https://github.com/scikit-learn/scikit-learn/issues/21755 */\n",
       "  display: inline-block !important;\n",
       "  position: relative;\n",
       "}\n",
       "\n",
       "#sk-container-id-2 div.sk-text-repr-fallback {\n",
       "  display: none;\n",
       "}\n",
       "\n",
       "div.sk-parallel-item,\n",
       "div.sk-serial,\n",
       "div.sk-item {\n",
       "  /* draw centered vertical line to link estimators */\n",
       "  background-image: linear-gradient(var(--sklearn-color-text-on-default-background), var(--sklearn-color-text-on-default-background));\n",
       "  background-size: 2px 100%;\n",
       "  background-repeat: no-repeat;\n",
       "  background-position: center center;\n",
       "}\n",
       "\n",
       "/* Parallel-specific style estimator block */\n",
       "\n",
       "#sk-container-id-2 div.sk-parallel-item::after {\n",
       "  content: \"\";\n",
       "  width: 100%;\n",
       "  border-bottom: 2px solid var(--sklearn-color-text-on-default-background);\n",
       "  flex-grow: 1;\n",
       "}\n",
       "\n",
       "#sk-container-id-2 div.sk-parallel {\n",
       "  display: flex;\n",
       "  align-items: stretch;\n",
       "  justify-content: center;\n",
       "  background-color: var(--sklearn-color-background);\n",
       "  position: relative;\n",
       "}\n",
       "\n",
       "#sk-container-id-2 div.sk-parallel-item {\n",
       "  display: flex;\n",
       "  flex-direction: column;\n",
       "}\n",
       "\n",
       "#sk-container-id-2 div.sk-parallel-item:first-child::after {\n",
       "  align-self: flex-end;\n",
       "  width: 50%;\n",
       "}\n",
       "\n",
       "#sk-container-id-2 div.sk-parallel-item:last-child::after {\n",
       "  align-self: flex-start;\n",
       "  width: 50%;\n",
       "}\n",
       "\n",
       "#sk-container-id-2 div.sk-parallel-item:only-child::after {\n",
       "  width: 0;\n",
       "}\n",
       "\n",
       "/* Serial-specific style estimator block */\n",
       "\n",
       "#sk-container-id-2 div.sk-serial {\n",
       "  display: flex;\n",
       "  flex-direction: column;\n",
       "  align-items: center;\n",
       "  background-color: var(--sklearn-color-background);\n",
       "  padding-right: 1em;\n",
       "  padding-left: 1em;\n",
       "}\n",
       "\n",
       "\n",
       "/* Toggleable style: style used for estimator/Pipeline/ColumnTransformer box that is\n",
       "clickable and can be expanded/collapsed.\n",
       "- Pipeline and ColumnTransformer use this feature and define the default style\n",
       "- Estimators will overwrite some part of the style using the `sk-estimator` class\n",
       "*/\n",
       "\n",
       "/* Pipeline and ColumnTransformer style (default) */\n",
       "\n",
       "#sk-container-id-2 div.sk-toggleable {\n",
       "  /* Default theme specific background. It is overwritten whether we have a\n",
       "  specific estimator or a Pipeline/ColumnTransformer */\n",
       "  background-color: var(--sklearn-color-background);\n",
       "}\n",
       "\n",
       "/* Toggleable label */\n",
       "#sk-container-id-2 label.sk-toggleable__label {\n",
       "  cursor: pointer;\n",
       "  display: block;\n",
       "  width: 100%;\n",
       "  margin-bottom: 0;\n",
       "  padding: 0.5em;\n",
       "  box-sizing: border-box;\n",
       "  text-align: center;\n",
       "}\n",
       "\n",
       "#sk-container-id-2 label.sk-toggleable__label-arrow:before {\n",
       "  /* Arrow on the left of the label */\n",
       "  content: \"▸\";\n",
       "  float: left;\n",
       "  margin-right: 0.25em;\n",
       "  color: var(--sklearn-color-icon);\n",
       "}\n",
       "\n",
       "#sk-container-id-2 label.sk-toggleable__label-arrow:hover:before {\n",
       "  color: var(--sklearn-color-text);\n",
       "}\n",
       "\n",
       "/* Toggleable content - dropdown */\n",
       "\n",
       "#sk-container-id-2 div.sk-toggleable__content {\n",
       "  max-height: 0;\n",
       "  max-width: 0;\n",
       "  overflow: hidden;\n",
       "  text-align: left;\n",
       "  /* unfitted */\n",
       "  background-color: var(--sklearn-color-unfitted-level-0);\n",
       "}\n",
       "\n",
       "#sk-container-id-2 div.sk-toggleable__content.fitted {\n",
       "  /* fitted */\n",
       "  background-color: var(--sklearn-color-fitted-level-0);\n",
       "}\n",
       "\n",
       "#sk-container-id-2 div.sk-toggleable__content pre {\n",
       "  margin: 0.2em;\n",
       "  border-radius: 0.25em;\n",
       "  color: var(--sklearn-color-text);\n",
       "  /* unfitted */\n",
       "  background-color: var(--sklearn-color-unfitted-level-0);\n",
       "}\n",
       "\n",
       "#sk-container-id-2 div.sk-toggleable__content.fitted pre {\n",
       "  /* unfitted */\n",
       "  background-color: var(--sklearn-color-fitted-level-0);\n",
       "}\n",
       "\n",
       "#sk-container-id-2 input.sk-toggleable__control:checked~div.sk-toggleable__content {\n",
       "  /* Expand drop-down */\n",
       "  max-height: 200px;\n",
       "  max-width: 100%;\n",
       "  overflow: auto;\n",
       "}\n",
       "\n",
       "#sk-container-id-2 input.sk-toggleable__control:checked~label.sk-toggleable__label-arrow:before {\n",
       "  content: \"▾\";\n",
       "}\n",
       "\n",
       "/* Pipeline/ColumnTransformer-specific style */\n",
       "\n",
       "#sk-container-id-2 div.sk-label input.sk-toggleable__control:checked~label.sk-toggleable__label {\n",
       "  color: var(--sklearn-color-text);\n",
       "  background-color: var(--sklearn-color-unfitted-level-2);\n",
       "}\n",
       "\n",
       "#sk-container-id-2 div.sk-label.fitted input.sk-toggleable__control:checked~label.sk-toggleable__label {\n",
       "  background-color: var(--sklearn-color-fitted-level-2);\n",
       "}\n",
       "\n",
       "/* Estimator-specific style */\n",
       "\n",
       "/* Colorize estimator box */\n",
       "#sk-container-id-2 div.sk-estimator input.sk-toggleable__control:checked~label.sk-toggleable__label {\n",
       "  /* unfitted */\n",
       "  background-color: var(--sklearn-color-unfitted-level-2);\n",
       "}\n",
       "\n",
       "#sk-container-id-2 div.sk-estimator.fitted input.sk-toggleable__control:checked~label.sk-toggleable__label {\n",
       "  /* fitted */\n",
       "  background-color: var(--sklearn-color-fitted-level-2);\n",
       "}\n",
       "\n",
       "#sk-container-id-2 div.sk-label label.sk-toggleable__label,\n",
       "#sk-container-id-2 div.sk-label label {\n",
       "  /* The background is the default theme color */\n",
       "  color: var(--sklearn-color-text-on-default-background);\n",
       "}\n",
       "\n",
       "/* On hover, darken the color of the background */\n",
       "#sk-container-id-2 div.sk-label:hover label.sk-toggleable__label {\n",
       "  color: var(--sklearn-color-text);\n",
       "  background-color: var(--sklearn-color-unfitted-level-2);\n",
       "}\n",
       "\n",
       "/* Label box, darken color on hover, fitted */\n",
       "#sk-container-id-2 div.sk-label.fitted:hover label.sk-toggleable__label.fitted {\n",
       "  color: var(--sklearn-color-text);\n",
       "  background-color: var(--sklearn-color-fitted-level-2);\n",
       "}\n",
       "\n",
       "/* Estimator label */\n",
       "\n",
       "#sk-container-id-2 div.sk-label label {\n",
       "  font-family: monospace;\n",
       "  font-weight: bold;\n",
       "  display: inline-block;\n",
       "  line-height: 1.2em;\n",
       "}\n",
       "\n",
       "#sk-container-id-2 div.sk-label-container {\n",
       "  text-align: center;\n",
       "}\n",
       "\n",
       "/* Estimator-specific */\n",
       "#sk-container-id-2 div.sk-estimator {\n",
       "  font-family: monospace;\n",
       "  border: 1px dotted var(--sklearn-color-border-box);\n",
       "  border-radius: 0.25em;\n",
       "  box-sizing: border-box;\n",
       "  margin-bottom: 0.5em;\n",
       "  /* unfitted */\n",
       "  background-color: var(--sklearn-color-unfitted-level-0);\n",
       "}\n",
       "\n",
       "#sk-container-id-2 div.sk-estimator.fitted {\n",
       "  /* fitted */\n",
       "  background-color: var(--sklearn-color-fitted-level-0);\n",
       "}\n",
       "\n",
       "/* on hover */\n",
       "#sk-container-id-2 div.sk-estimator:hover {\n",
       "  /* unfitted */\n",
       "  background-color: var(--sklearn-color-unfitted-level-2);\n",
       "}\n",
       "\n",
       "#sk-container-id-2 div.sk-estimator.fitted:hover {\n",
       "  /* fitted */\n",
       "  background-color: var(--sklearn-color-fitted-level-2);\n",
       "}\n",
       "\n",
       "/* Specification for estimator info (e.g. \"i\" and \"?\") */\n",
       "\n",
       "/* Common style for \"i\" and \"?\" */\n",
       "\n",
       ".sk-estimator-doc-link,\n",
       "a:link.sk-estimator-doc-link,\n",
       "a:visited.sk-estimator-doc-link {\n",
       "  float: right;\n",
       "  font-size: smaller;\n",
       "  line-height: 1em;\n",
       "  font-family: monospace;\n",
       "  background-color: var(--sklearn-color-background);\n",
       "  border-radius: 1em;\n",
       "  height: 1em;\n",
       "  width: 1em;\n",
       "  text-decoration: none !important;\n",
       "  margin-left: 1ex;\n",
       "  /* unfitted */\n",
       "  border: var(--sklearn-color-unfitted-level-1) 1pt solid;\n",
       "  color: var(--sklearn-color-unfitted-level-1);\n",
       "}\n",
       "\n",
       ".sk-estimator-doc-link.fitted,\n",
       "a:link.sk-estimator-doc-link.fitted,\n",
       "a:visited.sk-estimator-doc-link.fitted {\n",
       "  /* fitted */\n",
       "  border: var(--sklearn-color-fitted-level-1) 1pt solid;\n",
       "  color: var(--sklearn-color-fitted-level-1);\n",
       "}\n",
       "\n",
       "/* On hover */\n",
       "div.sk-estimator:hover .sk-estimator-doc-link:hover,\n",
       ".sk-estimator-doc-link:hover,\n",
       "div.sk-label-container:hover .sk-estimator-doc-link:hover,\n",
       ".sk-estimator-doc-link:hover {\n",
       "  /* unfitted */\n",
       "  background-color: var(--sklearn-color-unfitted-level-3);\n",
       "  color: var(--sklearn-color-background);\n",
       "  text-decoration: none;\n",
       "}\n",
       "\n",
       "div.sk-estimator.fitted:hover .sk-estimator-doc-link.fitted:hover,\n",
       ".sk-estimator-doc-link.fitted:hover,\n",
       "div.sk-label-container:hover .sk-estimator-doc-link.fitted:hover,\n",
       ".sk-estimator-doc-link.fitted:hover {\n",
       "  /* fitted */\n",
       "  background-color: var(--sklearn-color-fitted-level-3);\n",
       "  color: var(--sklearn-color-background);\n",
       "  text-decoration: none;\n",
       "}\n",
       "\n",
       "/* Span, style for the box shown on hovering the info icon */\n",
       ".sk-estimator-doc-link span {\n",
       "  display: none;\n",
       "  z-index: 9999;\n",
       "  position: relative;\n",
       "  font-weight: normal;\n",
       "  right: .2ex;\n",
       "  padding: .5ex;\n",
       "  margin: .5ex;\n",
       "  width: min-content;\n",
       "  min-width: 20ex;\n",
       "  max-width: 50ex;\n",
       "  color: var(--sklearn-color-text);\n",
       "  box-shadow: 2pt 2pt 4pt #999;\n",
       "  /* unfitted */\n",
       "  background: var(--sklearn-color-unfitted-level-0);\n",
       "  border: .5pt solid var(--sklearn-color-unfitted-level-3);\n",
       "}\n",
       "\n",
       ".sk-estimator-doc-link.fitted span {\n",
       "  /* fitted */\n",
       "  background: var(--sklearn-color-fitted-level-0);\n",
       "  border: var(--sklearn-color-fitted-level-3);\n",
       "}\n",
       "\n",
       ".sk-estimator-doc-link:hover span {\n",
       "  display: block;\n",
       "}\n",
       "\n",
       "/* \"?\"-specific style due to the `<a>` HTML tag */\n",
       "\n",
       "#sk-container-id-2 a.estimator_doc_link {\n",
       "  float: right;\n",
       "  font-size: 1rem;\n",
       "  line-height: 1em;\n",
       "  font-family: monospace;\n",
       "  background-color: var(--sklearn-color-background);\n",
       "  border-radius: 1rem;\n",
       "  height: 1rem;\n",
       "  width: 1rem;\n",
       "  text-decoration: none;\n",
       "  /* unfitted */\n",
       "  color: var(--sklearn-color-unfitted-level-1);\n",
       "  border: var(--sklearn-color-unfitted-level-1) 1pt solid;\n",
       "}\n",
       "\n",
       "#sk-container-id-2 a.estimator_doc_link.fitted {\n",
       "  /* fitted */\n",
       "  border: var(--sklearn-color-fitted-level-1) 1pt solid;\n",
       "  color: var(--sklearn-color-fitted-level-1);\n",
       "}\n",
       "\n",
       "/* On hover */\n",
       "#sk-container-id-2 a.estimator_doc_link:hover {\n",
       "  /* unfitted */\n",
       "  background-color: var(--sklearn-color-unfitted-level-3);\n",
       "  color: var(--sklearn-color-background);\n",
       "  text-decoration: none;\n",
       "}\n",
       "\n",
       "#sk-container-id-2 a.estimator_doc_link.fitted:hover {\n",
       "  /* fitted */\n",
       "  background-color: var(--sklearn-color-fitted-level-3);\n",
       "}\n",
       "</style><div id=\"sk-container-id-2\" class=\"sk-top-container\"><div class=\"sk-text-repr-fallback\"><pre>Pipeline(steps=[(&#x27;imp_1&#x27;,\n",
       "                 MeanMedianImputer(variables=[&#x27;AgeMonths&#x27;, &#x27;WeightKg&#x27;,\n",
       "                                              &#x27;Vaccinated&#x27;, &#x27;HealthCondition&#x27;,\n",
       "                                              &#x27;TimeInShelterDays&#x27;,\n",
       "                                              &#x27;AdoptionFee&#x27;,\n",
       "                                              &#x27;PreviousOwner&#x27;])),\n",
       "                (&#x27;imp_2&#x27;,\n",
       "                 CategoricalImputer(imputation_method=&#x27;frequent&#x27;,\n",
       "                                    variables=[&#x27;PetType&#x27;, &#x27;Breed&#x27;, &#x27;Color&#x27;,\n",
       "                                               &#x27;Size&#x27;])),\n",
       "                (&#x27;ohe&#x27;,\n",
       "                 OneHotEncoder(variables=[&#x27;PetType&#x27;, &#x27;Breed&#x27;, &#x27;Color&#x27;,\n",
       "                                          &#x27;Size&#x27;])),\n",
       "                (&#x27;model&#x27;,\n",
       "                 GridSearchCV(cv=5,\n",
       "                              estimator=DecisionTreeClassifier(random_state=42),\n",
       "                              n_jobs=-1,\n",
       "                              param_grid={&#x27;max_depth&#x27;: [None, 10, 20, 30],\n",
       "                                          &#x27;min_samples_leaf&#x27;: [1, 2, 4],\n",
       "                                          &#x27;min_samples_split&#x27;: [2, 5, 10]},\n",
       "                              scoring=&#x27;roc_auc&#x27;))])</pre><b>In a Jupyter environment, please rerun this cell to show the HTML representation or trust the notebook. <br />On GitHub, the HTML representation is unable to render, please try loading this page with nbviewer.org.</b></div><div class=\"sk-container\" hidden><div class=\"sk-item sk-dashed-wrapped\"><div class=\"sk-label-container\"><div class=\"sk-label fitted sk-toggleable\"><input class=\"sk-toggleable__control sk-hidden--visually\" id=\"sk-estimator-id-8\" type=\"checkbox\" ><label for=\"sk-estimator-id-8\" class=\"sk-toggleable__label fitted sk-toggleable__label-arrow fitted\">&nbsp;&nbsp;Pipeline<a class=\"sk-estimator-doc-link fitted\" rel=\"noreferrer\" target=\"_blank\" href=\"https://scikit-learn.org/1.5/modules/generated/sklearn.pipeline.Pipeline.html\">?<span>Documentation for Pipeline</span></a><span class=\"sk-estimator-doc-link fitted\">i<span>Fitted</span></span></label><div class=\"sk-toggleable__content fitted\"><pre>Pipeline(steps=[(&#x27;imp_1&#x27;,\n",
       "                 MeanMedianImputer(variables=[&#x27;AgeMonths&#x27;, &#x27;WeightKg&#x27;,\n",
       "                                              &#x27;Vaccinated&#x27;, &#x27;HealthCondition&#x27;,\n",
       "                                              &#x27;TimeInShelterDays&#x27;,\n",
       "                                              &#x27;AdoptionFee&#x27;,\n",
       "                                              &#x27;PreviousOwner&#x27;])),\n",
       "                (&#x27;imp_2&#x27;,\n",
       "                 CategoricalImputer(imputation_method=&#x27;frequent&#x27;,\n",
       "                                    variables=[&#x27;PetType&#x27;, &#x27;Breed&#x27;, &#x27;Color&#x27;,\n",
       "                                               &#x27;Size&#x27;])),\n",
       "                (&#x27;ohe&#x27;,\n",
       "                 OneHotEncoder(variables=[&#x27;PetType&#x27;, &#x27;Breed&#x27;, &#x27;Color&#x27;,\n",
       "                                          &#x27;Size&#x27;])),\n",
       "                (&#x27;model&#x27;,\n",
       "                 GridSearchCV(cv=5,\n",
       "                              estimator=DecisionTreeClassifier(random_state=42),\n",
       "                              n_jobs=-1,\n",
       "                              param_grid={&#x27;max_depth&#x27;: [None, 10, 20, 30],\n",
       "                                          &#x27;min_samples_leaf&#x27;: [1, 2, 4],\n",
       "                                          &#x27;min_samples_split&#x27;: [2, 5, 10]},\n",
       "                              scoring=&#x27;roc_auc&#x27;))])</pre></div> </div></div><div class=\"sk-serial\"><div class=\"sk-item\"><div class=\"sk-estimator fitted sk-toggleable\"><input class=\"sk-toggleable__control sk-hidden--visually\" id=\"sk-estimator-id-9\" type=\"checkbox\" ><label for=\"sk-estimator-id-9\" class=\"sk-toggleable__label fitted sk-toggleable__label-arrow fitted\">MeanMedianImputer</label><div class=\"sk-toggleable__content fitted\"><pre>MeanMedianImputer(variables=[&#x27;AgeMonths&#x27;, &#x27;WeightKg&#x27;, &#x27;Vaccinated&#x27;,\n",
       "                             &#x27;HealthCondition&#x27;, &#x27;TimeInShelterDays&#x27;,\n",
       "                             &#x27;AdoptionFee&#x27;, &#x27;PreviousOwner&#x27;])</pre></div> </div></div><div class=\"sk-item\"><div class=\"sk-estimator fitted sk-toggleable\"><input class=\"sk-toggleable__control sk-hidden--visually\" id=\"sk-estimator-id-10\" type=\"checkbox\" ><label for=\"sk-estimator-id-10\" class=\"sk-toggleable__label fitted sk-toggleable__label-arrow fitted\">CategoricalImputer</label><div class=\"sk-toggleable__content fitted\"><pre>CategoricalImputer(imputation_method=&#x27;frequent&#x27;,\n",
       "                   variables=[&#x27;PetType&#x27;, &#x27;Breed&#x27;, &#x27;Color&#x27;, &#x27;Size&#x27;])</pre></div> </div></div><div class=\"sk-item\"><div class=\"sk-estimator fitted sk-toggleable\"><input class=\"sk-toggleable__control sk-hidden--visually\" id=\"sk-estimator-id-11\" type=\"checkbox\" ><label for=\"sk-estimator-id-11\" class=\"sk-toggleable__label fitted sk-toggleable__label-arrow fitted\">OneHotEncoder</label><div class=\"sk-toggleable__content fitted\"><pre>OneHotEncoder(variables=[&#x27;PetType&#x27;, &#x27;Breed&#x27;, &#x27;Color&#x27;, &#x27;Size&#x27;])</pre></div> </div></div><div class=\"sk-item sk-dashed-wrapped\"><div class=\"sk-label-container\"><div class=\"sk-label fitted sk-toggleable\"><input class=\"sk-toggleable__control sk-hidden--visually\" id=\"sk-estimator-id-12\" type=\"checkbox\" ><label for=\"sk-estimator-id-12\" class=\"sk-toggleable__label fitted sk-toggleable__label-arrow fitted\">&nbsp;model: GridSearchCV<a class=\"sk-estimator-doc-link fitted\" rel=\"noreferrer\" target=\"_blank\" href=\"https://scikit-learn.org/1.5/modules/generated/sklearn.model_selection.GridSearchCV.html\">?<span>Documentation for model: GridSearchCV</span></a></label><div class=\"sk-toggleable__content fitted\"><pre>GridSearchCV(cv=5, estimator=DecisionTreeClassifier(random_state=42), n_jobs=-1,\n",
       "             param_grid={&#x27;max_depth&#x27;: [None, 10, 20, 30],\n",
       "                         &#x27;min_samples_leaf&#x27;: [1, 2, 4],\n",
       "                         &#x27;min_samples_split&#x27;: [2, 5, 10]},\n",
       "             scoring=&#x27;roc_auc&#x27;)</pre></div> </div></div><div class=\"sk-parallel\"><div class=\"sk-parallel-item\"><div class=\"sk-item\"><div class=\"sk-label-container\"><div class=\"sk-label fitted sk-toggleable\"><input class=\"sk-toggleable__control sk-hidden--visually\" id=\"sk-estimator-id-13\" type=\"checkbox\" ><label for=\"sk-estimator-id-13\" class=\"sk-toggleable__label fitted sk-toggleable__label-arrow fitted\">best_estimator_: DecisionTreeClassifier</label><div class=\"sk-toggleable__content fitted\"><pre>DecisionTreeClassifier(max_depth=10, min_samples_leaf=4, min_samples_split=10,\n",
       "                       random_state=42)</pre></div> </div></div><div class=\"sk-serial\"><div class=\"sk-item\"><div class=\"sk-estimator fitted sk-toggleable\"><input class=\"sk-toggleable__control sk-hidden--visually\" id=\"sk-estimator-id-14\" type=\"checkbox\" ><label for=\"sk-estimator-id-14\" class=\"sk-toggleable__label fitted sk-toggleable__label-arrow fitted\">&nbsp;DecisionTreeClassifier<a class=\"sk-estimator-doc-link fitted\" rel=\"noreferrer\" target=\"_blank\" href=\"https://scikit-learn.org/1.5/modules/generated/sklearn.tree.DecisionTreeClassifier.html\">?<span>Documentation for DecisionTreeClassifier</span></a></label><div class=\"sk-toggleable__content fitted\"><pre>DecisionTreeClassifier(max_depth=10, min_samples_leaf=4, min_samples_split=10,\n",
       "                       random_state=42)</pre></div> </div></div></div></div></div></div></div></div></div></div></div>"
      ],
      "text/plain": [
       "Pipeline(steps=[('imp_1',\n",
       "                 MeanMedianImputer(variables=['AgeMonths', 'WeightKg',\n",
       "                                              'Vaccinated', 'HealthCondition',\n",
       "                                              'TimeInShelterDays',\n",
       "                                              'AdoptionFee',\n",
       "                                              'PreviousOwner'])),\n",
       "                ('imp_2',\n",
       "                 CategoricalImputer(imputation_method='frequent',\n",
       "                                    variables=['PetType', 'Breed', 'Color',\n",
       "                                               'Size'])),\n",
       "                ('ohe',\n",
       "                 OneHotEncoder(variables=['PetType', 'Breed', 'Color',\n",
       "                                          'Size'])),\n",
       "                ('model',\n",
       "                 GridSearchCV(cv=5,\n",
       "                              estimator=DecisionTreeClassifier(random_state=42),\n",
       "                              n_jobs=-1,\n",
       "                              param_grid={'max_depth': [None, 10, 20, 30],\n",
       "                                          'min_samples_leaf': [1, 2, 4],\n",
       "                                          'min_samples_split': [2, 5, 10]},\n",
       "                              scoring='roc_auc'))])"
      ]
     },
     "execution_count": 46,
     "metadata": {},
     "output_type": "execute_result"
    }
   ],
   "source": [
    "model = tree.DecisionTreeClassifier(random_state=42)\n",
    "\n",
    "params = {\n",
    "    'max_depth': [None, 10, 20, 30],\n",
    "    'min_samples_split': [2, 5, 10],\n",
    "    'min_samples_leaf': [1, 2, 4]\n",
    "}\n",
    "\n",
    "grid = model_selection.GridSearchCV(model, \n",
    "                                    param_grid = params,\n",
    "                                    n_jobs=-1,\n",
    "                                    cv = 5,\n",
    "                                    scoring = \"roc_auc\")\n",
    "\n",
    "dt = pipeline.Pipeline([\n",
    "    ('imp_1', num_imputer),\n",
    "    ('imp_2', cat_imputer),\n",
    "    ('ohe', onehot),\n",
    "    ('model', grid)\n",
    "])\n",
    "\n",
    "dt.fit(X_train, y_train)"
   ]
  },
  {
   "cell_type": "code",
   "execution_count": 47,
   "id": "d25a5a6a",
   "metadata": {
    "execution": {
     "iopub.execute_input": "2024-07-03T14:36:19.729727Z",
     "iopub.status.busy": "2024-07-03T14:36:19.729350Z",
     "iopub.status.idle": "2024-07-03T14:36:19.858352Z",
     "shell.execute_reply": "2024-07-03T14:36:19.857180Z"
    },
    "papermill": {
     "duration": 0.162583,
     "end_time": "2024-07-03T14:36:19.861084",
     "exception": false,
     "start_time": "2024-07-03T14:36:19.698501",
     "status": "completed"
    },
    "tags": []
   },
   "outputs": [],
   "source": [
    "y_train_predict = dt.predict(X_train)\n",
    "y_train_proba = dt.predict_proba(X_train)[:,1]\n",
    "\n",
    "y_test_predict = dt.predict(X_test)\n",
    "y_test_proba = dt.predict_proba(X_test)[:,1]"
   ]
  },
  {
   "cell_type": "code",
   "execution_count": 48,
   "id": "cb27feab",
   "metadata": {
    "execution": {
     "iopub.execute_input": "2024-07-03T14:36:19.922109Z",
     "iopub.status.busy": "2024-07-03T14:36:19.921708Z",
     "iopub.status.idle": "2024-07-03T14:36:19.938025Z",
     "shell.execute_reply": "2024-07-03T14:36:19.936663Z"
    },
    "papermill": {
     "duration": 0.049387,
     "end_time": "2024-07-03T14:36:19.940443",
     "exception": false,
     "start_time": "2024-07-03T14:36:19.891056",
     "status": "completed"
    },
    "tags": []
   },
   "outputs": [
    {
     "name": "stdout",
     "output_type": "stream",
     "text": [
      "Accuracy in Train: 0.9514018691588785\n",
      "Accuracy in Test: 0.9253731343283582\n",
      "AUC in Train: 0.9856664073253935\n",
      "AUC in Test: 0.9148849607182941\n",
      "2.6029% difference between Train and Test Accuracy\n",
      "7.0781% difference between Train and Test AUC\n"
     ]
    }
   ],
   "source": [
    "acc_train = metrics.accuracy_score(y_train, y_train_predict)\n",
    "acc_test = metrics.accuracy_score(y_test, y_test_predict)\n",
    "print(f\"Accuracy in Train: {acc_train}\")\n",
    "print(f\"Accuracy in Test: {acc_test}\")\n",
    "\n",
    "auc_train = metrics.roc_auc_score(y_train, y_train_proba)\n",
    "auc_test = metrics.roc_auc_score(y_test, y_test_proba)\n",
    "print(f\"AUC in Train: {auc_train}\")\n",
    "print(f\"AUC in Test: {auc_test}\")\n",
    "\n",
    "acc_diff = (acc_train - acc_test) * 100\n",
    "auc_diff = (auc_train - auc_test) * 100\n",
    "print(f\"{round(acc_diff, 4)}% difference between Train and Test Accuracy\")\n",
    "print(f\"{round(auc_diff, 4)}% difference between Train and Test AUC\")"
   ]
  },
  {
   "cell_type": "code",
   "execution_count": 49,
   "id": "9d5f5e9a",
   "metadata": {
    "execution": {
     "iopub.execute_input": "2024-07-03T14:36:20.001218Z",
     "iopub.status.busy": "2024-07-03T14:36:20.000775Z",
     "iopub.status.idle": "2024-07-03T14:36:20.251401Z",
     "shell.execute_reply": "2024-07-03T14:36:20.250060Z"
    },
    "papermill": {
     "duration": 0.28434,
     "end_time": "2024-07-03T14:36:20.254256",
     "exception": false,
     "start_time": "2024-07-03T14:36:19.969916",
     "status": "completed"
    },
    "tags": []
   },
   "outputs": [
    {
     "data": {
      "image/png": "[encoded data removed]",
      "text/plain": [
       "<Figure size 800x600 with 1 Axes>"
      ]
     },
     "metadata": {},
     "output_type": "display_data"
    }
   ],
   "source": [
    "fig = plt.figure(figsize = (8, 6))\n",
    "ax = fig.add_axes([0, 0, 1, 1])\n",
    "\n",
    "roc_curve = metrics.roc_curve(y_test, y_test_proba)\n",
    "plt.plot(roc_curve[0], roc_curve[1] )\n",
    "plt.grid(True)\n",
    "plt.plot([0,1], [0,1], '--')\n",
    "ax.set_title('Decision Tree ROC Curve', loc = 'left', fontsize = 15, pad = 10)\n",
    "ax.set_xlabel('False Positive', fontsize = 8)\n",
    "ax.set_ylabel('True Positive', fontsize = 8)\n",
    "plt.show()"
   ]
  },
  {
   "cell_type": "markdown",
   "id": "8dd37930",
   "metadata": {
    "papermill": {
     "duration": 0.030239,
     "end_time": "2024-07-03T14:36:20.314930",
     "exception": false,
     "start_time": "2024-07-03T14:36:20.284691",
     "status": "completed"
    },
    "tags": []
   },
   "source": [
    "## 4.4. Logistic Regression"
   ]
  },
  {
   "cell_type": "code",
   "execution_count": 50,
   "id": "15ac78b2",
   "metadata": {
    "execution": {
     "iopub.execute_input": "2024-07-03T14:36:20.377806Z",
     "iopub.status.busy": "2024-07-03T14:36:20.376713Z",
     "iopub.status.idle": "2024-07-03T14:36:29.027625Z",
     "shell.execute_reply": "2024-07-03T14:36:29.026431Z"
    },
    "papermill": {
     "duration": 8.687501,
     "end_time": "2024-07-03T14:36:29.032652",
     "exception": false,
     "start_time": "2024-07-03T14:36:20.345151",
     "status": "completed"
    },
    "tags": []
   },
   "outputs": [
    {
     "name": "stderr",
     "output_type": "stream",
     "text": [
      "/opt/conda/lib/python3.10/site-packages/sklearn/linear_model/_sag.py:349: ConvergenceWarning: The max_iter was reached which means the coef_ did not converge\n",
      "  warnings.warn(\n",
      "/opt/conda/lib/python3.10/site-packages/sklearn/linear_model/_sag.py:349: ConvergenceWarning: The max_iter was reached which means the coef_ did not converge\n",
      "  warnings.warn(\n",
      "/opt/conda/lib/python3.10/site-packages/sklearn/linear_model/_sag.py:349: ConvergenceWarning: The max_iter was reached which means the coef_ did not converge\n",
      "  warnings.warn(\n",
      "/opt/conda/lib/python3.10/site-packages/sklearn/linear_model/_sag.py:349: ConvergenceWarning: The max_iter was reached which means the coef_ did not converge\n",
      "  warnings.warn(\n",
      "/opt/conda/lib/python3.10/site-packages/sklearn/linear_model/_sag.py:349: ConvergenceWarning: The max_iter was reached which means the coef_ did not converge\n",
      "  warnings.warn(\n",
      "/opt/conda/lib/python3.10/site-packages/sklearn/linear_model/_sag.py:349: ConvergenceWarning: The max_iter was reached which means the coef_ did not converge\n",
      "  warnings.warn(\n",
      "/opt/conda/lib/python3.10/site-packages/sklearn/linear_model/_sag.py:349: ConvergenceWarning: The max_iter was reached which means the coef_ did not converge\n",
      "  warnings.warn(\n",
      "/opt/conda/lib/python3.10/site-packages/sklearn/linear_model/_sag.py:349: ConvergenceWarning: The max_iter was reached which means the coef_ did not converge\n",
      "  warnings.warn(\n",
      "/opt/conda/lib/python3.10/site-packages/sklearn/linear_model/_logistic.py:469: ConvergenceWarning: lbfgs failed to converge (status=1):\n",
      "STOP: TOTAL NO. of ITERATIONS REACHED LIMIT.\n",
      "\n",
      "Increase the number of iterations (max_iter) or scale the data as shown in:\n",
      "    https://scikit-learn.org/stable/modules/preprocessing.html\n",
      "Please also refer to the documentation for alternative solver options:\n",
      "    https://scikit-learn.org/stable/modules/linear_model.html#logistic-regression\n",
      "  n_iter_i = _check_optimize_result(\n",
      "/opt/conda/lib/python3.10/site-packages/sklearn/linear_model/_sag.py:349: ConvergenceWarning: The max_iter was reached which means the coef_ did not converge\n",
      "  warnings.warn(\n",
      "/opt/conda/lib/python3.10/site-packages/sklearn/linear_model/_sag.py:349: ConvergenceWarning: The max_iter was reached which means the coef_ did not converge\n",
      "  warnings.warn(\n",
      "/opt/conda/lib/python3.10/site-packages/sklearn/linear_model/_sag.py:349: ConvergenceWarning: The max_iter was reached which means the coef_ did not converge\n",
      "  warnings.warn(\n",
      "/opt/conda/lib/python3.10/site-packages/sklearn/linear_model/_sag.py:349: ConvergenceWarning: The max_iter was reached which means the coef_ did not converge\n",
      "  warnings.warn(\n",
      "/opt/conda/lib/python3.10/site-packages/sklearn/linear_model/_sag.py:349: ConvergenceWarning: The max_iter was reached which means the coef_ did not converge\n",
      "  warnings.warn(\n",
      "/opt/conda/lib/python3.10/site-packages/sklearn/linear_model/_sag.py:349: ConvergenceWarning: The max_iter was reached which means the coef_ did not converge\n",
      "  warnings.warn(\n",
      "/opt/conda/lib/python3.10/site-packages/sklearn/linear_model/_sag.py:349: ConvergenceWarning: The max_iter was reached which means the coef_ did not converge\n",
      "  warnings.warn(\n",
      "/opt/conda/lib/python3.10/site-packages/sklearn/linear_model/_sag.py:349: ConvergenceWarning: The max_iter was reached which means the coef_ did not converge\n",
      "  warnings.warn(\n",
      "/opt/conda/lib/python3.10/site-packages/sklearn/linear_model/_sag.py:349: ConvergenceWarning: The max_iter was reached which means the coef_ did not converge\n",
      "  warnings.warn(\n",
      "/opt/conda/lib/python3.10/site-packages/sklearn/linear_model/_sag.py:349: ConvergenceWarning: The max_iter was reached which means the coef_ did not converge\n",
      "  warnings.warn(\n",
      "/opt/conda/lib/python3.10/site-packages/sklearn/linear_model/_sag.py:349: ConvergenceWarning: The max_iter was reached which means the coef_ did not converge\n",
      "  warnings.warn(\n",
      "/opt/conda/lib/python3.10/site-packages/sklearn/linear_model/_sag.py:349: ConvergenceWarning: The max_iter was reached which means the coef_ did not converge\n",
      "  warnings.warn(\n",
      "/opt/conda/lib/python3.10/site-packages/sklearn/linear_model/_sag.py:349: ConvergenceWarning: The max_iter was reached which means the coef_ did not converge\n",
      "  warnings.warn(\n",
      "/opt/conda/lib/python3.10/site-packages/sklearn/linear_model/_sag.py:349: ConvergenceWarning: The max_iter was reached which means the coef_ did not converge\n",
      "  warnings.warn(\n",
      "/opt/conda/lib/python3.10/site-packages/sklearn/linear_model/_sag.py:349: ConvergenceWarning: The max_iter was reached which means the coef_ did not converge\n",
      "  warnings.warn(\n",
      "/opt/conda/lib/python3.10/site-packages/sklearn/linear_model/_sag.py:349: ConvergenceWarning: The max_iter was reached which means the coef_ did not converge\n",
      "  warnings.warn(\n",
      "/opt/conda/lib/python3.10/site-packages/sklearn/linear_model/_sag.py:349: ConvergenceWarning: The max_iter was reached which means the coef_ did not converge\n",
      "  warnings.warn(\n"
     ]
    },
    {
     "data": {
      "text/html": [
       "<style>#sk-container-id-3 {\n",
       "  /* Definition of color scheme common for light and dark mode */\n",
       "  --sklearn-color-text: black;\n",
       "  --sklearn-color-line: gray;\n",
       "  /* Definition of color scheme for unfitted estimators */\n",
       "  --sklearn-color-unfitted-level-0: #fff5e6;\n",
       "  --sklearn-color-unfitted-level-1: #f6e4d2;\n",
       "  --sklearn-color-unfitted-level-2: #ffe0b3;\n",
       "  --sklearn-color-unfitted-level-3: chocolate;\n",
       "  /* Definition of color scheme for fitted estimators */\n",
       "  --sklearn-color-fitted-level-0: #f0f8ff;\n",
       "  --sklearn-color-fitted-level-1: #d4ebff;\n",
       "  --sklearn-color-fitted-level-2: #b3dbfd;\n",
       "  --sklearn-color-fitted-level-3: cornflowerblue;\n",
       "\n",
       "  /* Specific color for light theme */\n",
       "  --sklearn-color-text-on-default-background: var(--sg-text-color, var(--theme-code-foreground, var(--jp-content-font-color1, black)));\n",
       "  --sklearn-color-background: var(--sg-background-color, var(--theme-background, var(--jp-layout-color0, white)));\n",
       "  --sklearn-color-border-box: var(--sg-text-color, var(--theme-code-foreground, var(--jp-content-font-color1, black)));\n",
       "  --sklearn-color-icon: #696969;\n",
       "\n",
       "  @media (prefers-color-scheme: dark) {\n",
       "    /* Redefinition of color scheme for dark theme */\n",
       "    --sklearn-color-text-on-default-background: var(--sg-text-color, var(--theme-code-foreground, var(--jp-content-font-color1, white)));\n",
       "    --sklearn-color-background: var(--sg-background-color, var(--theme-background, var(--jp-layout-color0, #111)));\n",
       "    --sklearn-color-border-box: var(--sg-text-color, var(--theme-code-foreground, var(--jp-content-font-color1, white)));\n",
       "    --sklearn-color-icon: #878787;\n",
       "  }\n",
       "}\n",
       "\n",
       "#sk-container-id-3 {\n",
       "  color: var(--sklearn-color-text);\n",
       "}\n",
       "\n",
       "#sk-container-id-3 pre {\n",
       "  padding: 0;\n",
       "}\n",
       "\n",
       "#sk-container-id-3 input.sk-hidden--visually {\n",
       "  border: 0;\n",
       "  clip: rect(1px 1px 1px 1px);\n",
       "  clip: rect(1px, 1px, 1px, 1px);\n",
       "  height: 1px;\n",
       "  margin: -1px;\n",
       "  overflow: hidden;\n",
       "  padding: 0;\n",
       "  position: absolute;\n",
       "  width: 1px;\n",
       "}\n",
       "\n",
       "#sk-container-id-3 div.sk-dashed-wrapped {\n",
       "  border: 1px dashed var(--sklearn-color-line);\n",
       "  margin: 0 0.4em 0.5em 0.4em;\n",
       "  box-sizing: border-box;\n",
       "  padding-bottom: 0.4em;\n",
       "  background-color: var(--sklearn-color-background);\n",
       "}\n",
       "\n",
       "#sk-container-id-3 div.sk-container {\n",
       "  /* jupyter's `normalize.less` sets `[hidden] { display: none; }`\n",
       "     but bootstrap.min.css set `[hidden] { display: none !important; }`\n",
       "     so we also need the `!important` here to be able to override the\n",
       "     default hidden behavior on the sphinx rendered scikit-learn.org.\n",
       "     See: https://github.com/scikit-learn/scikit-learn/issues/21755 */\n",
       "  display: inline-block !important;\n",
       "  position: relative;\n",
       "}\n",
       "\n",
       "#sk-container-id-3 div.sk-text-repr-fallback {\n",
       "  display: none;\n",
       "}\n",
       "\n",
       "div.sk-parallel-item,\n",
       "div.sk-serial,\n",
       "div.sk-item {\n",
       "  /* draw centered vertical line to link estimators */\n",
       "  background-image: linear-gradient(var(--sklearn-color-text-on-default-background), var(--sklearn-color-text-on-default-background));\n",
       "  background-size: 2px 100%;\n",
       "  background-repeat: no-repeat;\n",
       "  background-position: center center;\n",
       "}\n",
       "\n",
       "/* Parallel-specific style estimator block */\n",
       "\n",
       "#sk-container-id-3 div.sk-parallel-item::after {\n",
       "  content: \"\";\n",
       "  width: 100%;\n",
       "  border-bottom: 2px solid var(--sklearn-color-text-on-default-background);\n",
       "  flex-grow: 1;\n",
       "}\n",
       "\n",
       "#sk-container-id-3 div.sk-parallel {\n",
       "  display: flex;\n",
       "  align-items: stretch;\n",
       "  justify-content: center;\n",
       "  background-color: var(--sklearn-color-background);\n",
       "  position: relative;\n",
       "}\n",
       "\n",
       "#sk-container-id-3 div.sk-parallel-item {\n",
       "  display: flex;\n",
       "  flex-direction: column;\n",
       "}\n",
       "\n",
       "#sk-container-id-3 div.sk-parallel-item:first-child::after {\n",
       "  align-self: flex-end;\n",
       "  width: 50%;\n",
       "}\n",
       "\n",
       "#sk-container-id-3 div.sk-parallel-item:last-child::after {\n",
       "  align-self: flex-start;\n",
       "  width: 50%;\n",
       "}\n",
       "\n",
       "#sk-container-id-3 div.sk-parallel-item:only-child::after {\n",
       "  width: 0;\n",
       "}\n",
       "\n",
       "/* Serial-specific style estimator block */\n",
       "\n",
       "#sk-container-id-3 div.sk-serial {\n",
       "  display: flex;\n",
       "  flex-direction: column;\n",
       "  align-items: center;\n",
       "  background-color: var(--sklearn-color-background);\n",
       "  padding-right: 1em;\n",
       "  padding-left: 1em;\n",
       "}\n",
       "\n",
       "\n",
       "/* Toggleable style: style used for estimator/Pipeline/ColumnTransformer box that is\n",
       "clickable and can be expanded/collapsed.\n",
       "- Pipeline and ColumnTransformer use this feature and define the default style\n",
       "- Estimators will overwrite some part of the style using the `sk-estimator` class\n",
       "*/\n",
       "\n",
       "/* Pipeline and ColumnTransformer style (default) */\n",
       "\n",
       "#sk-container-id-3 div.sk-toggleable {\n",
       "  /* Default theme specific background. It is overwritten whether we have a\n",
       "  specific estimator or a Pipeline/ColumnTransformer */\n",
       "  background-color: var(--sklearn-color-background);\n",
       "}\n",
       "\n",
       "/* Toggleable label */\n",
       "#sk-container-id-3 label.sk-toggleable__label {\n",
       "  cursor: pointer;\n",
       "  display: block;\n",
       "  width: 100%;\n",
       "  margin-bottom: 0;\n",
       "  padding: 0.5em;\n",
       "  box-sizing: border-box;\n",
       "  text-align: center;\n",
       "}\n",
       "\n",
       "#sk-container-id-3 label.sk-toggleable__label-arrow:before {\n",
       "  /* Arrow on the left of the label */\n",
       "  content: \"▸\";\n",
       "  float: left;\n",
       "  margin-right: 0.25em;\n",
       "  color: var(--sklearn-color-icon);\n",
       "}\n",
       "\n",
       "#sk-container-id-3 label.sk-toggleable__label-arrow:hover:before {\n",
       "  color: var(--sklearn-color-text);\n",
       "}\n",
       "\n",
       "/* Toggleable content - dropdown */\n",
       "\n",
       "#sk-container-id-3 div.sk-toggleable__content {\n",
       "  max-height: 0;\n",
       "  max-width: 0;\n",
       "  overflow: hidden;\n",
       "  text-align: left;\n",
       "  /* unfitted */\n",
       "  background-color: var(--sklearn-color-unfitted-level-0);\n",
       "}\n",
       "\n",
       "#sk-container-id-3 div.sk-toggleable__content.fitted {\n",
       "  /* fitted */\n",
       "  background-color: var(--sklearn-color-fitted-level-0);\n",
       "}\n",
       "\n",
       "#sk-container-id-3 div.sk-toggleable__content pre {\n",
       "  margin: 0.2em;\n",
       "  border-radius: 0.25em;\n",
       "  color: var(--sklearn-color-text);\n",
       "  /* unfitted */\n",
       "  background-color: var(--sklearn-color-unfitted-level-0);\n",
       "}\n",
       "\n",
       "#sk-container-id-3 div.sk-toggleable__content.fitted pre {\n",
       "  /* unfitted */\n",
       "  background-color: var(--sklearn-color-fitted-level-0);\n",
       "}\n",
       "\n",
       "#sk-container-id-3 input.sk-toggleable__control:checked~div.sk-toggleable__content {\n",
       "  /* Expand drop-down */\n",
       "  max-height: 200px;\n",
       "  max-width: 100%;\n",
       "  overflow: auto;\n",
       "}\n",
       "\n",
       "#sk-container-id-3 input.sk-toggleable__control:checked~label.sk-toggleable__label-arrow:before {\n",
       "  content: \"▾\";\n",
       "}\n",
       "\n",
       "/* Pipeline/ColumnTransformer-specific style */\n",
       "\n",
       "#sk-container-id-3 div.sk-label input.sk-toggleable__control:checked~label.sk-toggleable__label {\n",
       "  color: var(--sklearn-color-text);\n",
       "  background-color: var(--sklearn-color-unfitted-level-2);\n",
       "}\n",
       "\n",
       "#sk-container-id-3 div.sk-label.fitted input.sk-toggleable__control:checked~label.sk-toggleable__label {\n",
       "  background-color: var(--sklearn-color-fitted-level-2);\n",
       "}\n",
       "\n",
       "/* Estimator-specific style */\n",
       "\n",
       "/* Colorize estimator box */\n",
       "#sk-container-id-3 div.sk-estimator input.sk-toggleable__control:checked~label.sk-toggleable__label {\n",
       "  /* unfitted */\n",
       "  background-color: var(--sklearn-color-unfitted-level-2);\n",
       "}\n",
       "\n",
       "#sk-container-id-3 div.sk-estimator.fitted input.sk-toggleable__control:checked~label.sk-toggleable__label {\n",
       "  /* fitted */\n",
       "  background-color: var(--sklearn-color-fitted-level-2);\n",
       "}\n",
       "\n",
       "#sk-container-id-3 div.sk-label label.sk-toggleable__label,\n",
       "#sk-container-id-3 div.sk-label label {\n",
       "  /* The background is the default theme color */\n",
       "  color: var(--sklearn-color-text-on-default-background);\n",
       "}\n",
       "\n",
       "/* On hover, darken the color of the background */\n",
       "#sk-container-id-3 div.sk-label:hover label.sk-toggleable__label {\n",
       "  color: var(--sklearn-color-text);\n",
       "  background-color: var(--sklearn-color-unfitted-level-2);\n",
       "}\n",
       "\n",
       "/* Label box, darken color on hover, fitted */\n",
       "#sk-container-id-3 div.sk-label.fitted:hover label.sk-toggleable__label.fitted {\n",
       "  color: var(--sklearn-color-text);\n",
       "  background-color: var(--sklearn-color-fitted-level-2);\n",
       "}\n",
       "\n",
       "/* Estimator label */\n",
       "\n",
       "#sk-container-id-3 div.sk-label label {\n",
       "  font-family: monospace;\n",
       "  font-weight: bold;\n",
       "  display: inline-block;\n",
       "  line-height: 1.2em;\n",
       "}\n",
       "\n",
       "#sk-container-id-3 div.sk-label-container {\n",
       "  text-align: center;\n",
       "}\n",
       "\n",
       "/* Estimator-specific */\n",
       "#sk-container-id-3 div.sk-estimator {\n",
       "  font-family: monospace;\n",
       "  border: 1px dotted var(--sklearn-color-border-box);\n",
       "  border-radius: 0.25em;\n",
       "  box-sizing: border-box;\n",
       "  margin-bottom: 0.5em;\n",
       "  /* unfitted */\n",
       "  background-color: var(--sklearn-color-unfitted-level-0);\n",
       "}\n",
       "\n",
       "#sk-container-id-3 div.sk-estimator.fitted {\n",
       "  /* fitted */\n",
       "  background-color: var(--sklearn-color-fitted-level-0);\n",
       "}\n",
       "\n",
       "/* on hover */\n",
       "#sk-container-id-3 div.sk-estimator:hover {\n",
       "  /* unfitted */\n",
       "  background-color: var(--sklearn-color-unfitted-level-2);\n",
       "}\n",
       "\n",
       "#sk-container-id-3 div.sk-estimator.fitted:hover {\n",
       "  /* fitted */\n",
       "  background-color: var(--sklearn-color-fitted-level-2);\n",
       "}\n",
       "\n",
       "/* Specification for estimator info (e.g. \"i\" and \"?\") */\n",
       "\n",
       "/* Common style for \"i\" and \"?\" */\n",
       "\n",
       ".sk-estimator-doc-link,\n",
       "a:link.sk-estimator-doc-link,\n",
       "a:visited.sk-estimator-doc-link {\n",
       "  float: right;\n",
       "  font-size: smaller;\n",
       "  line-height: 1em;\n",
       "  font-family: monospace;\n",
       "  background-color: var(--sklearn-color-background);\n",
       "  border-radius: 1em;\n",
       "  height: 1em;\n",
       "  width: 1em;\n",
       "  text-decoration: none !important;\n",
       "  margin-left: 1ex;\n",
       "  /* unfitted */\n",
       "  border: var(--sklearn-color-unfitted-level-1) 1pt solid;\n",
       "  color: var(--sklearn-color-unfitted-level-1);\n",
       "}\n",
       "\n",
       ".sk-estimator-doc-link.fitted,\n",
       "a:link.sk-estimator-doc-link.fitted,\n",
       "a:visited.sk-estimator-doc-link.fitted {\n",
       "  /* fitted */\n",
       "  border: var(--sklearn-color-fitted-level-1) 1pt solid;\n",
       "  color: var(--sklearn-color-fitted-level-1);\n",
       "}\n",
       "\n",
       "/* On hover */\n",
       "div.sk-estimator:hover .sk-estimator-doc-link:hover,\n",
       ".sk-estimator-doc-link:hover,\n",
       "div.sk-label-container:hover .sk-estimator-doc-link:hover,\n",
       ".sk-estimator-doc-link:hover {\n",
       "  /* unfitted */\n",
       "  background-color: var(--sklearn-color-unfitted-level-3);\n",
       "  color: var(--sklearn-color-background);\n",
       "  text-decoration: none;\n",
       "}\n",
       "\n",
       "div.sk-estimator.fitted:hover .sk-estimator-doc-link.fitted:hover,\n",
       ".sk-estimator-doc-link.fitted:hover,\n",
       "div.sk-label-container:hover .sk-estimator-doc-link.fitted:hover,\n",
       ".sk-estimator-doc-link.fitted:hover {\n",
       "  /* fitted */\n",
       "  background-color: var(--sklearn-color-fitted-level-3);\n",
       "  color: var(--sklearn-color-background);\n",
       "  text-decoration: none;\n",
       "}\n",
       "\n",
       "/* Span, style for the box shown on hovering the info icon */\n",
       ".sk-estimator-doc-link span {\n",
       "  display: none;\n",
       "  z-index: 9999;\n",
       "  position: relative;\n",
       "  font-weight: normal;\n",
       "  right: .2ex;\n",
       "  padding: .5ex;\n",
       "  margin: .5ex;\n",
       "  width: min-content;\n",
       "  min-width: 20ex;\n",
       "  max-width: 50ex;\n",
       "  color: var(--sklearn-color-text);\n",
       "  box-shadow: 2pt 2pt 4pt #999;\n",
       "  /* unfitted */\n",
       "  background: var(--sklearn-color-unfitted-level-0);\n",
       "  border: .5pt solid var(--sklearn-color-unfitted-level-3);\n",
       "}\n",
       "\n",
       ".sk-estimator-doc-link.fitted span {\n",
       "  /* fitted */\n",
       "  background: var(--sklearn-color-fitted-level-0);\n",
       "  border: var(--sklearn-color-fitted-level-3);\n",
       "}\n",
       "\n",
       ".sk-estimator-doc-link:hover span {\n",
       "  display: block;\n",
       "}\n",
       "\n",
       "/* \"?\"-specific style due to the `<a>` HTML tag */\n",
       "\n",
       "#sk-container-id-3 a.estimator_doc_link {\n",
       "  float: right;\n",
       "  font-size: 1rem;\n",
       "  line-height: 1em;\n",
       "  font-family: monospace;\n",
       "  background-color: var(--sklearn-color-background);\n",
       "  border-radius: 1rem;\n",
       "  height: 1rem;\n",
       "  width: 1rem;\n",
       "  text-decoration: none;\n",
       "  /* unfitted */\n",
       "  color: var(--sklearn-color-unfitted-level-1);\n",
       "  border: var(--sklearn-color-unfitted-level-1) 1pt solid;\n",
       "}\n",
       "\n",
       "#sk-container-id-3 a.estimator_doc_link.fitted {\n",
       "  /* fitted */\n",
       "  border: var(--sklearn-color-fitted-level-1) 1pt solid;\n",
       "  color: var(--sklearn-color-fitted-level-1);\n",
       "}\n",
       "\n",
       "/* On hover */\n",
       "#sk-container-id-3 a.estimator_doc_link:hover {\n",
       "  /* unfitted */\n",
       "  background-color: var(--sklearn-color-unfitted-level-3);\n",
       "  color: var(--sklearn-color-background);\n",
       "  text-decoration: none;\n",
       "}\n",
       "\n",
       "#sk-container-id-3 a.estimator_doc_link.fitted:hover {\n",
       "  /* fitted */\n",
       "  background-color: var(--sklearn-color-fitted-level-3);\n",
       "}\n",
       "</style><div id=\"sk-container-id-3\" class=\"sk-top-container\"><div class=\"sk-text-repr-fallback\"><pre>Pipeline(steps=[(&#x27;imp_1&#x27;,\n",
       "                 MeanMedianImputer(variables=[&#x27;AgeMonths&#x27;, &#x27;WeightKg&#x27;,\n",
       "                                              &#x27;Vaccinated&#x27;, &#x27;HealthCondition&#x27;,\n",
       "                                              &#x27;TimeInShelterDays&#x27;,\n",
       "                                              &#x27;AdoptionFee&#x27;,\n",
       "                                              &#x27;PreviousOwner&#x27;])),\n",
       "                (&#x27;imp_2&#x27;,\n",
       "                 CategoricalImputer(imputation_method=&#x27;frequent&#x27;,\n",
       "                                    variables=[&#x27;PetType&#x27;, &#x27;Breed&#x27;, &#x27;Color&#x27;,\n",
       "                                               &#x27;Size&#x27;])),\n",
       "                (&#x27;ohe&#x27;,\n",
       "                 OneHotEncoder(variables=[&#x27;PetType&#x27;, &#x27;Breed&#x27;, &#x27;Color&#x27;,\n",
       "                                          &#x27;Size&#x27;])),\n",
       "                (&#x27;model&#x27;,\n",
       "                 GridSearchCV(cv=5,\n",
       "                              estimator=LogisticRegression(max_iter=1000,\n",
       "                                                           random_state=42),\n",
       "                              n_jobs=-1,\n",
       "                              param_grid={&#x27;C&#x27;: [0.01, 0.1, 1, 10, 100],\n",
       "                                          &#x27;solver&#x27;: [&#x27;newton-cg&#x27;, &#x27;lbfgs&#x27;,\n",
       "                                                     &#x27;sag&#x27;]},\n",
       "                              scoring=&#x27;roc_auc&#x27;))])</pre><b>In a Jupyter environment, please rerun this cell to show the HTML representation or trust the notebook. <br />On GitHub, the HTML representation is unable to render, please try loading this page with nbviewer.org.</b></div><div class=\"sk-container\" hidden><div class=\"sk-item sk-dashed-wrapped\"><div class=\"sk-label-container\"><div class=\"sk-label fitted sk-toggleable\"><input class=\"sk-toggleable__control sk-hidden--visually\" id=\"sk-estimator-id-15\" type=\"checkbox\" ><label for=\"sk-estimator-id-15\" class=\"sk-toggleable__label fitted sk-toggleable__label-arrow fitted\">&nbsp;&nbsp;Pipeline<a class=\"sk-estimator-doc-link fitted\" rel=\"noreferrer\" target=\"_blank\" href=\"https://scikit-learn.org/1.5/modules/generated/sklearn.pipeline.Pipeline.html\">?<span>Documentation for Pipeline</span></a><span class=\"sk-estimator-doc-link fitted\">i<span>Fitted</span></span></label><div class=\"sk-toggleable__content fitted\"><pre>Pipeline(steps=[(&#x27;imp_1&#x27;,\n",
       "                 MeanMedianImputer(variables=[&#x27;AgeMonths&#x27;, &#x27;WeightKg&#x27;,\n",
       "                                              &#x27;Vaccinated&#x27;, &#x27;HealthCondition&#x27;,\n",
       "                                              &#x27;TimeInShelterDays&#x27;,\n",
       "                                              &#x27;AdoptionFee&#x27;,\n",
       "                                              &#x27;PreviousOwner&#x27;])),\n",
       "                (&#x27;imp_2&#x27;,\n",
       "                 CategoricalImputer(imputation_method=&#x27;frequent&#x27;,\n",
       "                                    variables=[&#x27;PetType&#x27;, &#x27;Breed&#x27;, &#x27;Color&#x27;,\n",
       "                                               &#x27;Size&#x27;])),\n",
       "                (&#x27;ohe&#x27;,\n",
       "                 OneHotEncoder(variables=[&#x27;PetType&#x27;, &#x27;Breed&#x27;, &#x27;Color&#x27;,\n",
       "                                          &#x27;Size&#x27;])),\n",
       "                (&#x27;model&#x27;,\n",
       "                 GridSearchCV(cv=5,\n",
       "                              estimator=LogisticRegression(max_iter=1000,\n",
       "                                                           random_state=42),\n",
       "                              n_jobs=-1,\n",
       "                              param_grid={&#x27;C&#x27;: [0.01, 0.1, 1, 10, 100],\n",
       "                                          &#x27;solver&#x27;: [&#x27;newton-cg&#x27;, &#x27;lbfgs&#x27;,\n",
       "                                                     &#x27;sag&#x27;]},\n",
       "                              scoring=&#x27;roc_auc&#x27;))])</pre></div> </div></div><div class=\"sk-serial\"><div class=\"sk-item\"><div class=\"sk-estimator fitted sk-toggleable\"><input class=\"sk-toggleable__control sk-hidden--visually\" id=\"sk-estimator-id-16\" type=\"checkbox\" ><label for=\"sk-estimator-id-16\" class=\"sk-toggleable__label fitted sk-toggleable__label-arrow fitted\">MeanMedianImputer</label><div class=\"sk-toggleable__content fitted\"><pre>MeanMedianImputer(variables=[&#x27;AgeMonths&#x27;, &#x27;WeightKg&#x27;, &#x27;Vaccinated&#x27;,\n",
       "                             &#x27;HealthCondition&#x27;, &#x27;TimeInShelterDays&#x27;,\n",
       "                             &#x27;AdoptionFee&#x27;, &#x27;PreviousOwner&#x27;])</pre></div> </div></div><div class=\"sk-item\"><div class=\"sk-estimator fitted sk-toggleable\"><input class=\"sk-toggleable__control sk-hidden--visually\" id=\"sk-estimator-id-17\" type=\"checkbox\" ><label for=\"sk-estimator-id-17\" class=\"sk-toggleable__label fitted sk-toggleable__label-arrow fitted\">CategoricalImputer</label><div class=\"sk-toggleable__content fitted\"><pre>CategoricalImputer(imputation_method=&#x27;frequent&#x27;,\n",
       "                   variables=[&#x27;PetType&#x27;, &#x27;Breed&#x27;, &#x27;Color&#x27;, &#x27;Size&#x27;])</pre></div> </div></div><div class=\"sk-item\"><div class=\"sk-estimator fitted sk-toggleable\"><input class=\"sk-toggleable__control sk-hidden--visually\" id=\"sk-estimator-id-18\" type=\"checkbox\" ><label for=\"sk-estimator-id-18\" class=\"sk-toggleable__label fitted sk-toggleable__label-arrow fitted\">OneHotEncoder</label><div class=\"sk-toggleable__content fitted\"><pre>OneHotEncoder(variables=[&#x27;PetType&#x27;, &#x27;Breed&#x27;, &#x27;Color&#x27;, &#x27;Size&#x27;])</pre></div> </div></div><div class=\"sk-item sk-dashed-wrapped\"><div class=\"sk-label-container\"><div class=\"sk-label fitted sk-toggleable\"><input class=\"sk-toggleable__control sk-hidden--visually\" id=\"sk-estimator-id-19\" type=\"checkbox\" ><label for=\"sk-estimator-id-19\" class=\"sk-toggleable__label fitted sk-toggleable__label-arrow fitted\">&nbsp;model: GridSearchCV<a class=\"sk-estimator-doc-link fitted\" rel=\"noreferrer\" target=\"_blank\" href=\"https://scikit-learn.org/1.5/modules/generated/sklearn.model_selection.GridSearchCV.html\">?<span>Documentation for model: GridSearchCV</span></a></label><div class=\"sk-toggleable__content fitted\"><pre>GridSearchCV(cv=5, estimator=LogisticRegression(max_iter=1000, random_state=42),\n",
       "             n_jobs=-1,\n",
       "             param_grid={&#x27;C&#x27;: [0.01, 0.1, 1, 10, 100],\n",
       "                         &#x27;solver&#x27;: [&#x27;newton-cg&#x27;, &#x27;lbfgs&#x27;, &#x27;sag&#x27;]},\n",
       "             scoring=&#x27;roc_auc&#x27;)</pre></div> </div></div><div class=\"sk-parallel\"><div class=\"sk-parallel-item\"><div class=\"sk-item\"><div class=\"sk-label-container\"><div class=\"sk-label fitted sk-toggleable\"><input class=\"sk-toggleable__control sk-hidden--visually\" id=\"sk-estimator-id-20\" type=\"checkbox\" ><label for=\"sk-estimator-id-20\" class=\"sk-toggleable__label fitted sk-toggleable__label-arrow fitted\">best_estimator_: LogisticRegression</label><div class=\"sk-toggleable__content fitted\"><pre>LogisticRegression(C=10, max_iter=1000, random_state=42)</pre></div> </div></div><div class=\"sk-serial\"><div class=\"sk-item\"><div class=\"sk-estimator fitted sk-toggleable\"><input class=\"sk-toggleable__control sk-hidden--visually\" id=\"sk-estimator-id-21\" type=\"checkbox\" ><label for=\"sk-estimator-id-21\" class=\"sk-toggleable__label fitted sk-toggleable__label-arrow fitted\">&nbsp;LogisticRegression<a class=\"sk-estimator-doc-link fitted\" rel=\"noreferrer\" target=\"_blank\" href=\"https://scikit-learn.org/1.5/modules/generated/sklearn.linear_model.LogisticRegression.html\">?<span>Documentation for LogisticRegression</span></a></label><div class=\"sk-toggleable__content fitted\"><pre>LogisticRegression(C=10, max_iter=1000, random_state=42)</pre></div> </div></div></div></div></div></div></div></div></div></div></div>"
      ],
      "text/plain": [
       "Pipeline(steps=[('imp_1',\n",
       "                 MeanMedianImputer(variables=['AgeMonths', 'WeightKg',\n",
       "                                              'Vaccinated', 'HealthCondition',\n",
       "                                              'TimeInShelterDays',\n",
       "                                              'AdoptionFee',\n",
       "                                              'PreviousOwner'])),\n",
       "                ('imp_2',\n",
       "                 CategoricalImputer(imputation_method='frequent',\n",
       "                                    variables=['PetType', 'Breed', 'Color',\n",
       "                                               'Size'])),\n",
       "                ('ohe',\n",
       "                 OneHotEncoder(variables=['PetType', 'Breed', 'Color',\n",
       "                                          'Size'])),\n",
       "                ('model',\n",
       "                 GridSearchCV(cv=5,\n",
       "                              estimator=LogisticRegression(max_iter=1000,\n",
       "                                                           random_state=42),\n",
       "                              n_jobs=-1,\n",
       "                              param_grid={'C': [0.01, 0.1, 1, 10, 100],\n",
       "                                          'solver': ['newton-cg', 'lbfgs',\n",
       "                                                     'sag']},\n",
       "                              scoring='roc_auc'))])"
      ]
     },
     "execution_count": 50,
     "metadata": {},
     "output_type": "execute_result"
    }
   ],
   "source": [
    "model = linear_model.LogisticRegression(max_iter=1000, random_state=42)\n",
    "\n",
    "params = {\n",
    "    'C': [0.01, 0.1, 1, 10, 100],\n",
    "    'solver': ['newton-cg', 'lbfgs', 'sag']\n",
    "}\n",
    "\n",
    "grid = model_selection.GridSearchCV(model, \n",
    "                                    param_grid = params,\n",
    "                                    n_jobs=-1,\n",
    "                                    cv = 5,\n",
    "                                    scoring = \"roc_auc\")\n",
    "\n",
    "lr = pipeline.Pipeline([\n",
    "    ('imp_1', num_imputer),\n",
    "    ('imp_2', cat_imputer),\n",
    "    ('ohe', onehot),\n",
    "    ('model', grid)\n",
    "])\n",
    "\n",
    "lr.fit(X_train, y_train)"
   ]
  },
  {
   "cell_type": "code",
   "execution_count": 51,
   "id": "469240d8",
   "metadata": {
    "execution": {
     "iopub.execute_input": "2024-07-03T14:36:29.131964Z",
     "iopub.status.busy": "2024-07-03T14:36:29.131537Z",
     "iopub.status.idle": "2024-07-03T14:36:29.349670Z",
     "shell.execute_reply": "2024-07-03T14:36:29.348335Z"
    },
    "papermill": {
     "duration": 0.262509,
     "end_time": "2024-07-03T14:36:29.353694",
     "exception": false,
     "start_time": "2024-07-03T14:36:29.091185",
     "status": "completed"
    },
    "tags": []
   },
   "outputs": [],
   "source": [
    "y_train_predict = lr.predict(X_train)\n",
    "y_train_proba = lr.predict_proba(X_train)[:,1]\n",
    "\n",
    "y_test_predict = lr.predict(X_test)\n",
    "y_test_proba = lr.predict_proba(X_test)[:,1]"
   ]
  },
  {
   "cell_type": "code",
   "execution_count": 52,
   "id": "b9eb0aca",
   "metadata": {
    "execution": {
     "iopub.execute_input": "2024-07-03T14:36:29.472599Z",
     "iopub.status.busy": "2024-07-03T14:36:29.471553Z",
     "iopub.status.idle": "2024-07-03T14:36:29.488902Z",
     "shell.execute_reply": "2024-07-03T14:36:29.487697Z"
    },
    "papermill": {
     "duration": 0.078054,
     "end_time": "2024-07-03T14:36:29.491269",
     "exception": false,
     "start_time": "2024-07-03T14:36:29.413215",
     "status": "completed"
    },
    "tags": []
   },
   "outputs": [
    {
     "name": "stdout",
     "output_type": "stream",
     "text": [
      "Accuracy in Train: 0.9158878504672897\n",
      "Accuracy in Test: 0.8855721393034826\n",
      "AUC in Train: 0.9342851510105509\n",
      "AUC in Test: 0.9224466891133559\n",
      "3.0316% difference between Train and Test Accuracy\n",
      "1.1838% difference between Train and Test AUC\n"
     ]
    }
   ],
   "source": [
    "acc_train = metrics.accuracy_score(y_train, y_train_predict)\n",
    "acc_test = metrics.accuracy_score(y_test, y_test_predict)\n",
    "print(f\"Accuracy in Train: {acc_train}\")\n",
    "print(f\"Accuracy in Test: {acc_test}\")\n",
    "\n",
    "auc_train = metrics.roc_auc_score(y_train, y_train_proba)\n",
    "auc_test = metrics.roc_auc_score(y_test, y_test_proba)\n",
    "print(f\"AUC in Train: {auc_train}\")\n",
    "print(f\"AUC in Test: {auc_test}\")\n",
    "\n",
    "acc_diff = (acc_train - acc_test) * 100\n",
    "auc_diff = (auc_train - auc_test) * 100\n",
    "print(f\"{round(acc_diff, 4)}% difference between Train and Test Accuracy\")\n",
    "print(f\"{round(auc_diff, 4)}% difference between Train and Test AUC\")"
   ]
  },
  {
   "cell_type": "code",
   "execution_count": 53,
   "id": "de70c132",
   "metadata": {
    "execution": {
     "iopub.execute_input": "2024-07-03T14:36:29.558737Z",
     "iopub.status.busy": "2024-07-03T14:36:29.558340Z",
     "iopub.status.idle": "2024-07-03T14:36:29.853914Z",
     "shell.execute_reply": "2024-07-03T14:36:29.852687Z"
    },
    "papermill": {
     "duration": 0.332179,
     "end_time": "2024-07-03T14:36:29.856680",
     "exception": false,
     "start_time": "2024-07-03T14:36:29.524501",
     "status": "completed"
    },
    "tags": []
   },
   "outputs": [
    {
     "data": {
      "image/png": "[encoded data removed]",
      "text/plain": [
       "<Figure size 800x600 with 1 Axes>"
      ]
     },
     "metadata": {},
     "output_type": "display_data"
    }
   ],
   "source": [
    "fig = plt.figure(figsize = (8, 6))\n",
    "ax = fig.add_axes([0, 0, 1, 1])\n",
    "\n",
    "roc_curve = metrics.roc_curve(y_test, y_test_proba)\n",
    "plt.plot(roc_curve[0], roc_curve[1] )\n",
    "plt.grid(True)\n",
    "plt.plot([0,1], [0,1], '--')\n",
    "ax.set_title('Logistic Regression ROC Curve', loc = 'left', fontsize = 15, pad = 10)\n",
    "ax.set_xlabel('False Positive', fontsize = 8)\n",
    "ax.set_ylabel('True Positive', fontsize = 8)\n",
    "plt.show()"
   ]
  },
  {
   "cell_type": "markdown",
   "id": "1e6a9f33",
   "metadata": {
    "papermill": {
     "duration": 0.033328,
     "end_time": "2024-07-03T14:36:29.923547",
     "exception": false,
     "start_time": "2024-07-03T14:36:29.890219",
     "status": "completed"
    },
    "tags": []
   },
   "source": [
    "## 4.5. The Chosen Model\n",
    "\n",
    "The model with best fit is the Logistic Regression due the smallest diference between train and test, and better adjustment."
   ]
  },
  {
   "cell_type": "markdown",
   "id": "409c06a0",
   "metadata": {
    "papermill": {
     "duration": 0.032867,
     "end_time": "2024-07-03T14:36:29.989489",
     "exception": false,
     "start_time": "2024-07-03T14:36:29.956622",
     "status": "completed"
    },
    "tags": []
   },
   "source": [
    "![periquito](https://github.com/datalopes1/pet_adoption/blob/main/doc/img/dim-hou-ZAtcN0f9HJc-unsplash.jpg?raw=true)"
   ]
  }
 ],
 "metadata": {
  "kaggle": {
   "accelerator": "none",
   "dataSources": [
    {
     "datasetId": 5242440,
     "sourceId": 8746362,
     "sourceType": "datasetVersion"
    }
   ],
   "dockerImageVersionId": 30732,
   "isGpuEnabled": false,
   "isInternetEnabled": true,
   "language": "python",
   "sourceType": "notebook"
  },
  "kernelspec": {
   "display_name": "Python 3",
   "language": "python",
   "name": "python3"
  },
  "language_info": {
   "codemirror_mode": {
    "name": "ipython",
    "version": 3
   },
   "file_extension": ".py",
   "mimetype": "text/x-python",
   "name": "python",
   "nbconvert_exporter": "python",
   "pygments_lexer": "ipython3",
   "version": "3.10.13"
  },
  "papermill": {
   "default_parameters": {},
   "duration": 75.585301,
   "end_time": "2024-07-03T14:36:32.644579",
   "environment_variables": {},
   "exception": null,
   "input_path": "__notebook__.ipynb",
   "output_path": "__notebook__.ipynb",
   "parameters": {},
   "start_time": "2024-07-03T14:35:17.059278",
   "version": "2.5.0"
  }
 },
 "nbformat": 4,
 "nbformat_minor": 5
}
